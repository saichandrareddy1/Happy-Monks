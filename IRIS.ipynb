{
 "cells": [
  {
   "cell_type": "markdown",
   "id": "426a0f7f",
   "metadata": {},
   "source": [
    "# Decision Tree "
   ]
  },
  {
   "cell_type": "code",
   "execution_count": 1,
   "id": "34b3f498",
   "metadata": {},
   "outputs": [],
   "source": [
    "import numpy as np\n",
    "import pandas as pd\n",
    "import matplotlib.pyplot as plt\n",
    "import seaborn as sns\n",
    "import warnings\n",
    "warnings.filterwarnings('ignore')"
   ]
  },
  {
   "cell_type": "markdown",
   "id": "b5e8faf4",
   "metadata": {},
   "source": [
    "# Reading data"
   ]
  },
  {
   "cell_type": "code",
   "execution_count": 2,
   "id": "87d22734",
   "metadata": {},
   "outputs": [],
   "source": [
    "data = pd.read_csv(\"./IRIS.csv\")"
   ]
  },
  {
   "cell_type": "code",
   "execution_count": 3,
   "id": "24dd8019",
   "metadata": {},
   "outputs": [
    {
     "data": {
      "text/html": [
       "<div>\n",
       "<style scoped>\n",
       "    .dataframe tbody tr th:only-of-type {\n",
       "        vertical-align: middle;\n",
       "    }\n",
       "\n",
       "    .dataframe tbody tr th {\n",
       "        vertical-align: top;\n",
       "    }\n",
       "\n",
       "    .dataframe thead th {\n",
       "        text-align: right;\n",
       "    }\n",
       "</style>\n",
       "<table border=\"1\" class=\"dataframe\">\n",
       "  <thead>\n",
       "    <tr style=\"text-align: right;\">\n",
       "      <th></th>\n",
       "      <th>sepal_length</th>\n",
       "      <th>sepal_width</th>\n",
       "      <th>petal_length</th>\n",
       "      <th>petal_width</th>\n",
       "      <th>species</th>\n",
       "    </tr>\n",
       "  </thead>\n",
       "  <tbody>\n",
       "    <tr>\n",
       "      <th>0</th>\n",
       "      <td>5.1</td>\n",
       "      <td>3.5</td>\n",
       "      <td>1.4</td>\n",
       "      <td>0.2</td>\n",
       "      <td>Iris-setosa</td>\n",
       "    </tr>\n",
       "    <tr>\n",
       "      <th>1</th>\n",
       "      <td>4.9</td>\n",
       "      <td>3.0</td>\n",
       "      <td>1.4</td>\n",
       "      <td>0.2</td>\n",
       "      <td>Iris-setosa</td>\n",
       "    </tr>\n",
       "    <tr>\n",
       "      <th>2</th>\n",
       "      <td>4.7</td>\n",
       "      <td>3.2</td>\n",
       "      <td>1.3</td>\n",
       "      <td>0.2</td>\n",
       "      <td>Iris-setosa</td>\n",
       "    </tr>\n",
       "    <tr>\n",
       "      <th>3</th>\n",
       "      <td>4.6</td>\n",
       "      <td>3.1</td>\n",
       "      <td>1.5</td>\n",
       "      <td>0.2</td>\n",
       "      <td>Iris-setosa</td>\n",
       "    </tr>\n",
       "    <tr>\n",
       "      <th>4</th>\n",
       "      <td>5.0</td>\n",
       "      <td>3.6</td>\n",
       "      <td>1.4</td>\n",
       "      <td>0.2</td>\n",
       "      <td>Iris-setosa</td>\n",
       "    </tr>\n",
       "  </tbody>\n",
       "</table>\n",
       "</div>"
      ],
      "text/plain": [
       "   sepal_length  sepal_width  petal_length  petal_width      species\n",
       "0           5.1          3.5           1.4          0.2  Iris-setosa\n",
       "1           4.9          3.0           1.4          0.2  Iris-setosa\n",
       "2           4.7          3.2           1.3          0.2  Iris-setosa\n",
       "3           4.6          3.1           1.5          0.2  Iris-setosa\n",
       "4           5.0          3.6           1.4          0.2  Iris-setosa"
      ]
     },
     "execution_count": 3,
     "metadata": {},
     "output_type": "execute_result"
    }
   ],
   "source": [
    "data.head()"
   ]
  },
  {
   "cell_type": "markdown",
   "id": "4a570a70",
   "metadata": {},
   "source": [
    "# Information about the data "
   ]
  },
  {
   "cell_type": "code",
   "execution_count": 4,
   "id": "2676f73f",
   "metadata": {},
   "outputs": [
    {
     "name": "stdout",
     "output_type": "stream",
     "text": [
      "<class 'pandas.core.frame.DataFrame'>\n",
      "RangeIndex: 150 entries, 0 to 149\n",
      "Data columns (total 5 columns):\n",
      " #   Column        Non-Null Count  Dtype  \n",
      "---  ------        --------------  -----  \n",
      " 0   sepal_length  150 non-null    float64\n",
      " 1   sepal_width   150 non-null    float64\n",
      " 2   petal_length  150 non-null    float64\n",
      " 3   petal_width   150 non-null    float64\n",
      " 4   species       150 non-null    object \n",
      "dtypes: float64(4), object(1)\n",
      "memory usage: 6.0+ KB\n"
     ]
    }
   ],
   "source": [
    "data.info()"
   ]
  },
  {
   "cell_type": "markdown",
   "id": "28f35382",
   "metadata": {},
   "source": [
    "# data description"
   ]
  },
  {
   "cell_type": "code",
   "execution_count": 5,
   "id": "1fd099dc",
   "metadata": {},
   "outputs": [
    {
     "data": {
      "text/html": [
       "<div>\n",
       "<style scoped>\n",
       "    .dataframe tbody tr th:only-of-type {\n",
       "        vertical-align: middle;\n",
       "    }\n",
       "\n",
       "    .dataframe tbody tr th {\n",
       "        vertical-align: top;\n",
       "    }\n",
       "\n",
       "    .dataframe thead th {\n",
       "        text-align: right;\n",
       "    }\n",
       "</style>\n",
       "<table border=\"1\" class=\"dataframe\">\n",
       "  <thead>\n",
       "    <tr style=\"text-align: right;\">\n",
       "      <th></th>\n",
       "      <th>sepal_length</th>\n",
       "      <th>sepal_width</th>\n",
       "      <th>petal_length</th>\n",
       "      <th>petal_width</th>\n",
       "    </tr>\n",
       "  </thead>\n",
       "  <tbody>\n",
       "    <tr>\n",
       "      <th>count</th>\n",
       "      <td>150.000000</td>\n",
       "      <td>150.000000</td>\n",
       "      <td>150.000000</td>\n",
       "      <td>150.000000</td>\n",
       "    </tr>\n",
       "    <tr>\n",
       "      <th>mean</th>\n",
       "      <td>5.843333</td>\n",
       "      <td>3.054000</td>\n",
       "      <td>3.758667</td>\n",
       "      <td>1.198667</td>\n",
       "    </tr>\n",
       "    <tr>\n",
       "      <th>std</th>\n",
       "      <td>0.828066</td>\n",
       "      <td>0.433594</td>\n",
       "      <td>1.764420</td>\n",
       "      <td>0.763161</td>\n",
       "    </tr>\n",
       "    <tr>\n",
       "      <th>min</th>\n",
       "      <td>4.300000</td>\n",
       "      <td>2.000000</td>\n",
       "      <td>1.000000</td>\n",
       "      <td>0.100000</td>\n",
       "    </tr>\n",
       "    <tr>\n",
       "      <th>25%</th>\n",
       "      <td>5.100000</td>\n",
       "      <td>2.800000</td>\n",
       "      <td>1.600000</td>\n",
       "      <td>0.300000</td>\n",
       "    </tr>\n",
       "    <tr>\n",
       "      <th>50%</th>\n",
       "      <td>5.800000</td>\n",
       "      <td>3.000000</td>\n",
       "      <td>4.350000</td>\n",
       "      <td>1.300000</td>\n",
       "    </tr>\n",
       "    <tr>\n",
       "      <th>75%</th>\n",
       "      <td>6.400000</td>\n",
       "      <td>3.300000</td>\n",
       "      <td>5.100000</td>\n",
       "      <td>1.800000</td>\n",
       "    </tr>\n",
       "    <tr>\n",
       "      <th>max</th>\n",
       "      <td>7.900000</td>\n",
       "      <td>4.400000</td>\n",
       "      <td>6.900000</td>\n",
       "      <td>2.500000</td>\n",
       "    </tr>\n",
       "  </tbody>\n",
       "</table>\n",
       "</div>"
      ],
      "text/plain": [
       "       sepal_length  sepal_width  petal_length  petal_width\n",
       "count    150.000000   150.000000    150.000000   150.000000\n",
       "mean       5.843333     3.054000      3.758667     1.198667\n",
       "std        0.828066     0.433594      1.764420     0.763161\n",
       "min        4.300000     2.000000      1.000000     0.100000\n",
       "25%        5.100000     2.800000      1.600000     0.300000\n",
       "50%        5.800000     3.000000      4.350000     1.300000\n",
       "75%        6.400000     3.300000      5.100000     1.800000\n",
       "max        7.900000     4.400000      6.900000     2.500000"
      ]
     },
     "execution_count": 5,
     "metadata": {},
     "output_type": "execute_result"
    }
   ],
   "source": [
    "data.describe()"
   ]
  },
  {
   "cell_type": "markdown",
   "id": "5cf3e752",
   "metadata": {},
   "source": [
    "# Correlation of the data"
   ]
  },
  {
   "cell_type": "code",
   "execution_count": 6,
   "id": "16df2967",
   "metadata": {},
   "outputs": [
    {
     "data": {
      "text/html": [
       "<div>\n",
       "<style scoped>\n",
       "    .dataframe tbody tr th:only-of-type {\n",
       "        vertical-align: middle;\n",
       "    }\n",
       "\n",
       "    .dataframe tbody tr th {\n",
       "        vertical-align: top;\n",
       "    }\n",
       "\n",
       "    .dataframe thead th {\n",
       "        text-align: right;\n",
       "    }\n",
       "</style>\n",
       "<table border=\"1\" class=\"dataframe\">\n",
       "  <thead>\n",
       "    <tr style=\"text-align: right;\">\n",
       "      <th></th>\n",
       "      <th>sepal_length</th>\n",
       "      <th>sepal_width</th>\n",
       "      <th>petal_length</th>\n",
       "      <th>petal_width</th>\n",
       "    </tr>\n",
       "  </thead>\n",
       "  <tbody>\n",
       "    <tr>\n",
       "      <th>sepal_length</th>\n",
       "      <td>1.000000</td>\n",
       "      <td>-0.109369</td>\n",
       "      <td>0.871754</td>\n",
       "      <td>0.817954</td>\n",
       "    </tr>\n",
       "    <tr>\n",
       "      <th>sepal_width</th>\n",
       "      <td>-0.109369</td>\n",
       "      <td>1.000000</td>\n",
       "      <td>-0.420516</td>\n",
       "      <td>-0.356544</td>\n",
       "    </tr>\n",
       "    <tr>\n",
       "      <th>petal_length</th>\n",
       "      <td>0.871754</td>\n",
       "      <td>-0.420516</td>\n",
       "      <td>1.000000</td>\n",
       "      <td>0.962757</td>\n",
       "    </tr>\n",
       "    <tr>\n",
       "      <th>petal_width</th>\n",
       "      <td>0.817954</td>\n",
       "      <td>-0.356544</td>\n",
       "      <td>0.962757</td>\n",
       "      <td>1.000000</td>\n",
       "    </tr>\n",
       "  </tbody>\n",
       "</table>\n",
       "</div>"
      ],
      "text/plain": [
       "              sepal_length  sepal_width  petal_length  petal_width\n",
       "sepal_length      1.000000    -0.109369      0.871754     0.817954\n",
       "sepal_width      -0.109369     1.000000     -0.420516    -0.356544\n",
       "petal_length      0.871754    -0.420516      1.000000     0.962757\n",
       "petal_width       0.817954    -0.356544      0.962757     1.000000"
      ]
     },
     "execution_count": 6,
     "metadata": {},
     "output_type": "execute_result"
    }
   ],
   "source": [
    "data.corr()"
   ]
  },
  {
   "cell_type": "markdown",
   "id": "ae6a6cfd",
   "metadata": {},
   "source": [
    "# visualizing of the classes "
   ]
  },
  {
   "cell_type": "code",
   "execution_count": 7,
   "id": "7171c63b",
   "metadata": {},
   "outputs": [
    {
     "name": "stdout",
     "output_type": "stream",
     "text": [
      "Classes of the data dict_keys(['Iris-setosa', 'Iris-versicolor', 'Iris-virginica'])\n",
      "count of the data dict_values([50, 50, 50])\n"
     ]
    }
   ],
   "source": [
    "from collections import Counter\n",
    "\n",
    "c = Counter(data['species'])\n",
    "print(f\"Classes of the data {c.keys()}\")\n",
    "print(f\"count of the data {c.values()}\")"
   ]
  },
  {
   "cell_type": "code",
   "execution_count": 8,
   "id": "f8b605c4",
   "metadata": {},
   "outputs": [
    {
     "data": {
      "image/png": "[encoded data removed]",
      "text/plain": [
       "<Figure size 432x288 with 1 Axes>"
      ]
     },
     "metadata": {
      "needs_background": "light"
     },
     "output_type": "display_data"
    }
   ],
   "source": [
    "x = list(c.keys())\n",
    "xval = []\n",
    "h = list(c.values())\n",
    "\n",
    "for i in x:\n",
    "    xval.append(str(i))\n",
    "\n",
    "sns.barplot(x=xval,y=h,data=data)\n",
    "plt.show()"
   ]
  },
  {
   "cell_type": "markdown",
   "id": "64f87395",
   "metadata": {},
   "source": [
    "# LabelEncoding of the class variable"
   ]
  },
  {
   "cell_type": "code",
   "execution_count": 9,
   "id": "9c157afa",
   "metadata": {},
   "outputs": [],
   "source": [
    "from sklearn.preprocessing import LabelEncoder\n",
    "\n",
    "lb = LabelEncoder()\n",
    "data['species'] = lb.fit_transform(data['species'])"
   ]
  },
  {
   "cell_type": "markdown",
   "id": "4d31593e",
   "metadata": {},
   "source": [
    "# Shuffling the data "
   ]
  },
  {
   "cell_type": "code",
   "execution_count": 10,
   "id": "536651aa",
   "metadata": {},
   "outputs": [],
   "source": [
    "from sklearn.utils import shuffle\n",
    "\n",
    "\n",
    "data_S = shuffle(data.values)"
   ]
  },
  {
   "cell_type": "code",
   "execution_count": 11,
   "id": "9c6bcd3f",
   "metadata": {},
   "outputs": [
    {
     "data": {
      "text/plain": [
       "array([[4.4, 3.2, 1.3, 0.2, 0. ],\n",
       "       [5. , 3.3, 1.4, 0.2, 0. ],\n",
       "       [7.2, 3.2, 6. , 1.8, 2. ],\n",
       "       [5. , 3.2, 1.2, 0.2, 0. ],\n",
       "       [5.9, 3.2, 4.8, 1.8, 1. ],\n",
       "       [5.8, 2.6, 4. , 1.2, 1. ],\n",
       "       [7.3, 2.9, 6.3, 1.8, 2. ],\n",
       "       [4.4, 3. , 1.3, 0.2, 0. ],\n",
       "       [5.2, 3.5, 1.5, 0.2, 0. ],\n",
       "       [7. , 3.2, 4.7, 1.4, 1. ],\n",
       "       [6.3, 2.5, 5. , 1.9, 2. ],\n",
       "       [6.3, 2.3, 4.4, 1.3, 1. ],\n",
       "       [6.4, 2.8, 5.6, 2.1, 2. ],\n",
       "       [5.4, 3.4, 1.5, 0.4, 0. ],\n",
       "       [4.9, 2.5, 4.5, 1.7, 2. ],\n",
       "       [5. , 3.6, 1.4, 0.2, 0. ],\n",
       "       [7.7, 3. , 6.1, 2.3, 2. ],\n",
       "       [6.3, 3.3, 4.7, 1.6, 1. ],\n",
       "       [5.5, 2.6, 4.4, 1.2, 1. ],\n",
       "       [4.9, 3.1, 1.5, 0.1, 0. ],\n",
       "       [4.4, 2.9, 1.4, 0.2, 0. ],\n",
       "       [6.1, 2.6, 5.6, 1.4, 2. ],\n",
       "       [5.8, 2.7, 4.1, 1. , 1. ],\n",
       "       [6. , 2.2, 4. , 1. , 1. ],\n",
       "       [4.5, 2.3, 1.3, 0.3, 0. ],\n",
       "       [4.6, 3.4, 1.4, 0.3, 0. ],\n",
       "       [6.8, 3.2, 5.9, 2.3, 2. ],\n",
       "       [5.5, 2.4, 3.8, 1.1, 1. ],\n",
       "       [4.9, 3.1, 1.5, 0.1, 0. ],\n",
       "       [4.9, 3. , 1.4, 0.2, 0. ],\n",
       "       [6.4, 3.2, 5.3, 2.3, 2. ],\n",
       "       [5.6, 3. , 4.1, 1.3, 1. ],\n",
       "       [5.1, 3.4, 1.5, 0.2, 0. ],\n",
       "       [5.2, 2.7, 3.9, 1.4, 1. ],\n",
       "       [5.5, 3.5, 1.3, 0.2, 0. ],\n",
       "       [5.1, 3.8, 1.6, 0.2, 0. ],\n",
       "       [6.7, 3. , 5.2, 2.3, 2. ],\n",
       "       [6.4, 2.8, 5.6, 2.2, 2. ],\n",
       "       [4.9, 3.1, 1.5, 0.1, 0. ],\n",
       "       [4.8, 3.4, 1.6, 0.2, 0. ],\n",
       "       [7.1, 3. , 5.9, 2.1, 2. ],\n",
       "       [6.5, 3. , 5.5, 1.8, 2. ],\n",
       "       [5. , 3.5, 1.6, 0.6, 0. ],\n",
       "       [6.6, 2.9, 4.6, 1.3, 1. ],\n",
       "       [5.7, 2.8, 4.1, 1.3, 1. ],\n",
       "       [6.7, 3.1, 4.4, 1.4, 1. ],\n",
       "       [6.6, 3. , 4.4, 1.4, 1. ],\n",
       "       [5.1, 2.5, 3. , 1.1, 1. ],\n",
       "       [5. , 2. , 3.5, 1. , 1. ],\n",
       "       [5.7, 2.8, 4.5, 1.3, 1. ],\n",
       "       [5.5, 4.2, 1.4, 0.2, 0. ],\n",
       "       [7.6, 3. , 6.6, 2.1, 2. ],\n",
       "       [5.1, 3.3, 1.7, 0.5, 0. ],\n",
       "       [4.6, 3.2, 1.4, 0.2, 0. ],\n",
       "       [5. , 3. , 1.6, 0.2, 0. ],\n",
       "       [6. , 2.7, 5.1, 1.6, 1. ],\n",
       "       [5.8, 2.7, 5.1, 1.9, 2. ],\n",
       "       [6.5, 2.8, 4.6, 1.5, 1. ],\n",
       "       [4.3, 3. , 1.1, 0.1, 0. ],\n",
       "       [5.1, 3.8, 1.5, 0.3, 0. ],\n",
       "       [5.9, 3. , 4.2, 1.5, 1. ],\n",
       "       [5. , 3.4, 1.5, 0.2, 0. ],\n",
       "       [6.4, 3.1, 5.5, 1.8, 2. ],\n",
       "       [5.5, 2.5, 4. , 1.3, 1. ],\n",
       "       [5.1, 3.8, 1.9, 0.4, 0. ],\n",
       "       [5.6, 2.8, 4.9, 2. , 2. ],\n",
       "       [5.7, 3.8, 1.7, 0.3, 0. ],\n",
       "       [6.4, 2.7, 5.3, 1.9, 2. ],\n",
       "       [6.9, 3.1, 4.9, 1.5, 1. ],\n",
       "       [5.4, 3.7, 1.5, 0.2, 0. ],\n",
       "       [7.7, 2.6, 6.9, 2.3, 2. ],\n",
       "       [6.8, 2.8, 4.8, 1.4, 1. ],\n",
       "       [5. , 3.4, 1.6, 0.4, 0. ],\n",
       "       [5.8, 2.7, 5.1, 1.9, 2. ],\n",
       "       [6. , 3. , 4.8, 1.8, 2. ],\n",
       "       [7.9, 3.8, 6.4, 2. , 2. ],\n",
       "       [5.6, 2.5, 3.9, 1.1, 1. ],\n",
       "       [5.6, 3. , 4.5, 1.5, 1. ],\n",
       "       [5.8, 2.8, 5.1, 2.4, 2. ],\n",
       "       [5.4, 3.4, 1.7, 0.2, 0. ],\n",
       "       [6.1, 2.8, 4.7, 1.2, 1. ],\n",
       "       [6.9, 3.1, 5.1, 2.3, 2. ],\n",
       "       [6.3, 2.8, 5.1, 1.5, 2. ],\n",
       "       [5. , 3.5, 1.3, 0.3, 0. ],\n",
       "       [6.8, 3. , 5.5, 2.1, 2. ],\n",
       "       [5.6, 2.9, 3.6, 1.3, 1. ],\n",
       "       [5.6, 2.7, 4.2, 1.3, 1. ],\n",
       "       [6.5, 3.2, 5.1, 2. , 2. ],\n",
       "       [6.4, 3.2, 4.5, 1.5, 1. ],\n",
       "       [4.9, 2.4, 3.3, 1. , 1. ],\n",
       "       [5. , 2.3, 3.3, 1. , 1. ],\n",
       "       [5.1, 3.7, 1.5, 0.4, 0. ],\n",
       "       [6.2, 3.4, 5.4, 2.3, 2. ],\n",
       "       [5.7, 2.5, 5. , 2. , 2. ],\n",
       "       [6.3, 3.3, 6. , 2.5, 2. ],\n",
       "       [4.6, 3.1, 1.5, 0.2, 0. ],\n",
       "       [5.1, 3.5, 1.4, 0.2, 0. ],\n",
       "       [4.8, 3.1, 1.6, 0.2, 0. ],\n",
       "       [6. , 2.9, 4.5, 1.5, 1. ],\n",
       "       [6.7, 3.3, 5.7, 2.5, 2. ],\n",
       "       [6.7, 3.3, 5.7, 2.1, 2. ],\n",
       "       [5.8, 4. , 1.2, 0.2, 0. ],\n",
       "       [4.7, 3.2, 1.3, 0.2, 0. ],\n",
       "       [5.9, 3. , 5.1, 1.8, 2. ],\n",
       "       [5.1, 3.5, 1.4, 0.3, 0. ],\n",
       "       [6.7, 3. , 5. , 1.7, 1. ],\n",
       "       [6.1, 2.9, 4.7, 1.4, 1. ],\n",
       "       [5.7, 3. , 4.2, 1.2, 1. ],\n",
       "       [6.2, 2.9, 4.3, 1.3, 1. ],\n",
       "       [4.8, 3.4, 1.9, 0.2, 0. ],\n",
       "       [6.5, 3. , 5.8, 2.2, 2. ],\n",
       "       [6.2, 2.2, 4.5, 1.5, 1. ],\n",
       "       [5.8, 2.7, 3.9, 1.2, 1. ],\n",
       "       [5.4, 3.9, 1.7, 0.4, 0. ],\n",
       "       [5.2, 4.1, 1.5, 0.1, 0. ],\n",
       "       [5.5, 2.4, 3.7, 1. , 1. ],\n",
       "       [5.2, 3.4, 1.4, 0.2, 0. ],\n",
       "       [6.7, 3.1, 4.7, 1.5, 1. ],\n",
       "       [5.7, 2.6, 3.5, 1. , 1. ],\n",
       "       [7.7, 3.8, 6.7, 2.2, 2. ],\n",
       "       [5.3, 3.7, 1.5, 0.2, 0. ],\n",
       "       [5.7, 2.9, 4.2, 1.3, 1. ],\n",
       "       [5.7, 4.4, 1.5, 0.4, 0. ],\n",
       "       [6.1, 2.8, 4. , 1.3, 1. ],\n",
       "       [7.7, 2.8, 6.7, 2. , 2. ],\n",
       "       [6.2, 2.8, 4.8, 1.8, 2. ],\n",
       "       [4.6, 3.6, 1. , 0.2, 0. ],\n",
       "       [4.8, 3. , 1.4, 0.1, 0. ],\n",
       "       [7.2, 3.6, 6.1, 2.5, 2. ],\n",
       "       [6.7, 3.1, 5.6, 2.4, 2. ],\n",
       "       [6.3, 3.4, 5.6, 2.4, 2. ],\n",
       "       [6.3, 2.9, 5.6, 1.8, 2. ],\n",
       "       [6.4, 2.9, 4.3, 1.3, 1. ],\n",
       "       [5.4, 3.9, 1.3, 0.4, 0. ],\n",
       "       [6. , 2.2, 5. , 1.5, 2. ],\n",
       "       [7.4, 2.8, 6.1, 1.9, 2. ],\n",
       "       [4.7, 3.2, 1.6, 0.2, 0. ],\n",
       "       [5.5, 2.3, 4. , 1.3, 1. ],\n",
       "       [6.5, 3. , 5.2, 2. , 2. ],\n",
       "       [6.3, 2.7, 4.9, 1.8, 2. ],\n",
       "       [6.1, 3. , 4.9, 1.8, 2. ],\n",
       "       [5.4, 3. , 4.5, 1.5, 1. ],\n",
       "       [6.9, 3.1, 5.4, 2.1, 2. ],\n",
       "       [4.8, 3. , 1.4, 0.3, 0. ],\n",
       "       [6.7, 2.5, 5.8, 1.8, 2. ],\n",
       "       [7.2, 3. , 5.8, 1.6, 2. ],\n",
       "       [6.1, 3. , 4.6, 1.4, 1. ],\n",
       "       [6.3, 2.5, 4.9, 1.5, 1. ],\n",
       "       [6. , 3.4, 4.5, 1.6, 1. ],\n",
       "       [6.9, 3.2, 5.7, 2.3, 2. ]])"
      ]
     },
     "execution_count": 11,
     "metadata": {},
     "output_type": "execute_result"
    }
   ],
   "source": [
    "data_S"
   ]
  },
  {
   "cell_type": "markdown",
   "id": "fdfae720",
   "metadata": {},
   "source": [
    "# Features and Labels"
   ]
  },
  {
   "cell_type": "code",
   "execution_count": 12,
   "id": "e1646777",
   "metadata": {},
   "outputs": [],
   "source": [
    "X = data_S[:, :-1] #features\n",
    "Y = data_S[:, -1] #labels "
   ]
  },
  {
   "cell_type": "markdown",
   "id": "46df159f",
   "metadata": {},
   "source": [
    "# Scaling the data"
   ]
  },
  {
   "cell_type": "code",
   "execution_count": 13,
   "id": "9daec398",
   "metadata": {},
   "outputs": [],
   "source": [
    "from sklearn.preprocessing import StandardScaler\n",
    "\n",
    "sc = StandardScaler()"
   ]
  },
  {
   "cell_type": "code",
   "execution_count": 14,
   "id": "4019c53b",
   "metadata": {},
   "outputs": [],
   "source": [
    "X = sc.fit_transform(X)"
   ]
  },
  {
   "cell_type": "markdown",
   "id": "73db01dc",
   "metadata": {},
   "source": [
    "# SPLITTING THE DATA "
   ]
  },
  {
   "cell_type": "code",
   "execution_count": 15,
   "id": "2df61630",
   "metadata": {},
   "outputs": [],
   "source": [
    "from sklearn.model_selection import train_test_split\n",
    "\n",
    "X_train, X_test, Y_train, Y_test = train_test_split(X, Y, test_size=0.2)"
   ]
  },
  {
   "cell_type": "markdown",
   "id": "26495349",
   "metadata": {},
   "source": [
    "# DecisionTree"
   ]
  },
  {
   "cell_type": "code",
   "execution_count": 16,
   "id": "3d565603",
   "metadata": {},
   "outputs": [],
   "source": [
    "from sklearn.tree import DecisionTreeClassifier\n",
    "dc = DecisionTreeClassifier().fit(X_train, Y_train)"
   ]
  },
  {
   "cell_type": "code",
   "execution_count": 17,
   "id": "1ba74f9e",
   "metadata": {},
   "outputs": [],
   "source": [
    "y_pred = dc.predict(X_test)"
   ]
  },
  {
   "cell_type": "markdown",
   "id": "55e05584",
   "metadata": {},
   "source": [
    "# Metrics of the data "
   ]
  },
  {
   "cell_type": "code",
   "execution_count": 18,
   "id": "d9d66d46",
   "metadata": {},
   "outputs": [
    {
     "name": "stdout",
     "output_type": "stream",
     "text": [
      "Test Accuracy score of the data 0.9\n",
      "Train Accuracy score of the data 1.0\n"
     ]
    }
   ],
   "source": [
    "from sklearn.metrics import accuracy_score, classification_report, confusion_matrix\n",
    "\n",
    "print(f\"Test Accuracy score of the data {accuracy_score(y_pred, Y_test)}\")\n",
    "print(f\"Train Accuracy score of the data {accuracy_score(dc.predict(X_train), Y_train)}\")"
   ]
  },
  {
   "cell_type": "code",
   "execution_count": 19,
   "id": "be3448fe",
   "metadata": {},
   "outputs": [
    {
     "name": "stdout",
     "output_type": "stream",
     "text": [
      "********* TRAIN CLASSIFICATION REPORT ***********\n",
      " \n",
      "              precision    recall  f1-score   support\n",
      "\n",
      "         0.0       1.00      1.00      1.00        40\n",
      "         1.0       1.00      1.00      1.00        40\n",
      "         2.0       1.00      1.00      1.00        40\n",
      "\n",
      "    accuracy                           1.00       120\n",
      "   macro avg       1.00      1.00      1.00       120\n",
      "weighted avg       1.00      1.00      1.00       120\n",
      "\n",
      " \n",
      "********* TEST CLASSIFICATION REPORT ***********\n",
      " \n",
      "              precision    recall  f1-score   support\n",
      "\n",
      "         0.0       1.00      1.00      1.00        10\n",
      "         1.0       0.80      0.89      0.84         9\n",
      "         2.0       0.90      0.82      0.86        11\n",
      "\n",
      "    accuracy                           0.90        30\n",
      "   macro avg       0.90      0.90      0.90        30\n",
      "weighted avg       0.90      0.90      0.90        30\n",
      "\n"
     ]
    }
   ],
   "source": [
    "print(\"********* TRAIN CLASSIFICATION REPORT ***********\")\n",
    "print(\" \")\n",
    "print(classification_report(dc.predict(X_train), Y_train))\n",
    "\n",
    "print(\" \")\n",
    "\n",
    "print(\"********* TEST CLASSIFICATION REPORT ***********\")\n",
    "print(\" \")\n",
    "print(classification_report(y_pred, Y_test))"
   ]
  },
  {
   "cell_type": "code",
   "execution_count": 20,
   "id": "54d9b6c1",
   "metadata": {},
   "outputs": [
    {
     "name": "stdout",
     "output_type": "stream",
     "text": [
      "Test confusion matrix of the data \n",
      " [[10  0  0]\n",
      " [ 0  8  1]\n",
      " [ 0  2  9]]\n"
     ]
    },
    {
     "data": {
      "text/plain": [
       "<AxesSubplot:>"
      ]
     },
     "execution_count": 20,
     "metadata": {},
     "output_type": "execute_result"
    },
    {
     "data": {
      "image/png": "[encoded data removed]",
      "text/plain": [
       "<Figure size 432x288 with 2 Axes>"
      ]
     },
     "metadata": {
      "needs_background": "light"
     },
     "output_type": "display_data"
    }
   ],
   "source": [
    "print(f\"Test confusion matrix of the data \\n {confusion_matrix(y_pred, Y_test)}\")\n",
    "sns.heatmap(confusion_matrix(y_pred, Y_test), annot=True)"
   ]
  },
  {
   "cell_type": "code",
   "execution_count": 21,
   "id": "62200ff4",
   "metadata": {},
   "outputs": [
    {
     "name": "stdout",
     "output_type": "stream",
     "text": [
      "Train confusion matrix of the data \n",
      " [[40  0  0]\n",
      " [ 0 40  0]\n",
      " [ 0  0 40]]\n"
     ]
    },
    {
     "data": {
      "text/plain": [
       "<AxesSubplot:>"
      ]
     },
     "execution_count": 21,
     "metadata": {},
     "output_type": "execute_result"
    },
    {
     "data": {
      "image/png": "[encoded data removed]",
      "text/plain": [
       "<Figure size 432x288 with 2 Axes>"
      ]
     },
     "metadata": {
      "needs_background": "light"
     },
     "output_type": "display_data"
    }
   ],
   "source": [
    "print(f\"Train confusion matrix of the data \\n {confusion_matrix(dc.predict(X_train), Y_train)}\")\n",
    "sns.heatmap(confusion_matrix(dc.predict(X_train), Y_train), annot=True)"
   ]
  },
  {
   "cell_type": "markdown",
   "id": "8ff1e25b",
   "metadata": {},
   "source": [
    "# Neural nets"
   ]
  },
  {
   "cell_type": "code",
   "execution_count": 22,
   "id": "93b55d9b",
   "metadata": {},
   "outputs": [],
   "source": [
    "from keras.layers import Dense, Dropout\n",
    "from keras.optimizers import SGD\n",
    "from keras.models import Sequential\n",
    "from keras.utils import to_categorical "
   ]
  },
  {
   "cell_type": "markdown",
   "id": "2201d9c9",
   "metadata": {},
   "source": [
    "# Validation data split"
   ]
  },
  {
   "cell_type": "code",
   "execution_count": 23,
   "id": "698f87d0",
   "metadata": {},
   "outputs": [],
   "source": [
    "# Validation data \n",
    "\n",
    "X_train, X_val, Y_train, Y_val= train_test_split(X_train, Y_train, test_size=0.2)"
   ]
  },
  {
   "cell_type": "markdown",
   "id": "69d83f27",
   "metadata": {},
   "source": [
    "# Categorical data"
   ]
  },
  {
   "cell_type": "code",
   "execution_count": 24,
   "id": "7217edc5",
   "metadata": {},
   "outputs": [],
   "source": [
    "Y_train = to_categorical(Y_train, num_classes=3)\n",
    "Y_test = to_categorical(Y_test, num_classes=3)\n",
    "Y_val = to_categorical(Y_val, num_classes=3)"
   ]
  },
  {
   "cell_type": "markdown",
   "id": "10a2f5ed",
   "metadata": {},
   "source": [
    "# Model creation"
   ]
  },
  {
   "cell_type": "code",
   "execution_count": 25,
   "id": "ba879616",
   "metadata": {},
   "outputs": [],
   "source": [
    "model = Sequential()\n",
    "\n",
    "model.add(Dense(1024, input_shape=(X_train.shape[1],)))\n",
    "model.add(Dense(512, activation=\"relu\"))\n",
    "model.add(Dense(216, activation=\"relu\"))\n",
    "model.add(Dense(128, activation=\"relu\"))\n",
    "model.add(Dense(128, activation=\"relu\"))\n",
    "model.add(Dense(32, activation=\"relu\"))\n",
    "model.add(Dense(3, activation=\"softmax\"))"
   ]
  },
  {
   "cell_type": "code",
   "execution_count": 26,
   "id": "99439166",
   "metadata": {},
   "outputs": [
    {
     "name": "stdout",
     "output_type": "stream",
     "text": [
      "Model: \"sequential\"\n",
      "_________________________________________________________________\n",
      "Layer (type)                 Output Shape              Param #   \n",
      "=================================================================\n",
      "dense (Dense)                (None, 1024)              5120      \n",
      "_________________________________________________________________\n",
      "dense_1 (Dense)              (None, 512)               524800    \n",
      "_________________________________________________________________\n",
      "dense_2 (Dense)              (None, 216)               110808    \n",
      "_________________________________________________________________\n",
      "dense_3 (Dense)              (None, 128)               27776     \n",
      "_________________________________________________________________\n",
      "dense_4 (Dense)              (None, 128)               16512     \n",
      "_________________________________________________________________\n",
      "dense_5 (Dense)              (None, 32)                4128      \n",
      "_________________________________________________________________\n",
      "dense_6 (Dense)              (None, 3)                 99        \n",
      "=================================================================\n",
      "Total params: 689,243\n",
      "Trainable params: 689,243\n",
      "Non-trainable params: 0\n",
      "_________________________________________________________________\n"
     ]
    }
   ],
   "source": [
    "model.summary()"
   ]
  },
  {
   "cell_type": "markdown",
   "id": "2c8ca0fc",
   "metadata": {},
   "source": [
    "# Compile"
   ]
  },
  {
   "cell_type": "code",
   "execution_count": 27,
   "id": "94b6e13f",
   "metadata": {},
   "outputs": [],
   "source": [
    "model.compile(loss='categorical_crossentropy', metrics=['accuracy'])"
   ]
  },
  {
   "cell_type": "markdown",
   "id": "6a12751a",
   "metadata": {},
   "source": [
    "# Fitting the model"
   ]
  },
  {
   "cell_type": "code",
   "execution_count": 28,
   "id": "dc52e225",
   "metadata": {},
   "outputs": [
    {
     "name": "stdout",
     "output_type": "stream",
     "text": [
      "Epoch 1/130\n",
      "2/2 [==============================] - 2s 860ms/step - loss: 1.0561 - accuracy: 0.3385 - val_loss: 0.5538 - val_accuracy: 0.8750\n",
      "Epoch 2/130\n",
      "2/2 [==============================] - 0s 84ms/step - loss: 0.6122 - accuracy: 0.7899 - val_loss: 0.3296 - val_accuracy: 0.8333\n",
      "Epoch 3/130\n",
      "2/2 [==============================] - 0s 87ms/step - loss: 0.3525 - accuracy: 0.8403 - val_loss: 0.4358 - val_accuracy: 0.8750\n",
      "Epoch 4/130\n",
      "2/2 [==============================] - 0s 85ms/step - loss: 0.4156 - accuracy: 0.8056 - val_loss: 0.3700 - val_accuracy: 0.7500\n",
      "Epoch 5/130\n",
      "2/2 [==============================] - 0s 87ms/step - loss: 0.3447 - accuracy: 0.8420 - val_loss: 0.2732 - val_accuracy: 0.8333\n",
      "Epoch 6/130\n",
      "2/2 [==============================] - 0s 86ms/step - loss: 0.2856 - accuracy: 0.8559 - val_loss: 0.3470 - val_accuracy: 0.7500\n",
      "Epoch 7/130\n",
      "2/2 [==============================] - 0s 83ms/step - loss: 0.3322 - accuracy: 0.8108 - val_loss: 0.2399 - val_accuracy: 0.8333\n",
      "Epoch 8/130\n",
      "2/2 [==============================] - 0s 96ms/step - loss: 0.2311 - accuracy: 0.8576 - val_loss: 0.3723 - val_accuracy: 0.8333\n",
      "Epoch 9/130\n",
      "2/2 [==============================] - 0s 95ms/step - loss: 0.1646 - accuracy: 0.9184 - val_loss: 0.5169 - val_accuracy: 0.8333\n",
      "Epoch 10/130\n",
      "2/2 [==============================] - 0s 100ms/step - loss: 0.2466 - accuracy: 0.8802 - val_loss: 0.2539 - val_accuracy: 0.8750\n",
      "Epoch 11/130\n",
      "2/2 [==============================] - 0s 93ms/step - loss: 0.1916 - accuracy: 0.8889 - val_loss: 0.3802 - val_accuracy: 0.8333\n",
      "Epoch 12/130\n",
      "2/2 [==============================] - 0s 83ms/step - loss: 0.2948 - accuracy: 0.9062 - val_loss: 0.4338 - val_accuracy: 0.8333\n",
      "Epoch 13/130\n",
      "2/2 [==============================] - 0s 88ms/step - loss: 0.1081 - accuracy: 0.9497 - val_loss: 0.3495 - val_accuracy: 0.8333\n",
      "Epoch 14/130\n",
      "2/2 [==============================] - 0s 109ms/step - loss: 0.2186 - accuracy: 0.8958 - val_loss: 0.3085 - val_accuracy: 0.8333\n",
      "Epoch 15/130\n",
      "2/2 [==============================] - 0s 116ms/step - loss: 0.1010 - accuracy: 0.9444 - val_loss: 0.5750 - val_accuracy: 0.8333\n",
      "Epoch 16/130\n",
      "2/2 [==============================] - 0s 118ms/step - loss: 0.0968 - accuracy: 0.9688 - val_loss: 0.4527 - val_accuracy: 0.7917\n",
      "Epoch 17/130\n",
      "2/2 [==============================] - 0s 104ms/step - loss: 0.2269 - accuracy: 0.8941 - val_loss: 0.4258 - val_accuracy: 0.8333\n",
      "Epoch 18/130\n",
      "2/2 [==============================] - 0s 111ms/step - loss: 0.0867 - accuracy: 0.9514 - val_loss: 0.4700 - val_accuracy: 0.8333\n",
      "Epoch 19/130\n",
      "2/2 [==============================] - 0s 109ms/step - loss: 0.0686 - accuracy: 0.9618 - val_loss: 0.7731 - val_accuracy: 0.9167\n",
      "Epoch 20/130\n",
      "2/2 [==============================] - 0s 98ms/step - loss: 0.2247 - accuracy: 0.9306 - val_loss: 0.2025 - val_accuracy: 0.8750\n",
      "Epoch 21/130\n",
      "2/2 [==============================] - 0s 101ms/step - loss: 0.0968 - accuracy: 0.9497 - val_loss: 0.3721 - val_accuracy: 0.8333\n",
      "Epoch 22/130\n",
      "2/2 [==============================] - 0s 134ms/step - loss: 0.0768 - accuracy: 0.9514 - val_loss: 0.4094 - val_accuracy: 0.8333\n",
      "Epoch 23/130\n",
      "2/2 [==============================] - 0s 105ms/step - loss: 0.0656 - accuracy: 0.9635 - val_loss: 0.3643 - val_accuracy: 0.8333\n",
      "Epoch 24/130\n",
      "2/2 [==============================] - 0s 107ms/step - loss: 0.0682 - accuracy: 0.9566 - val_loss: 0.4588 - val_accuracy: 0.9167\n",
      "Epoch 25/130\n",
      "2/2 [==============================] - 0s 94ms/step - loss: 0.0764 - accuracy: 0.9635 - val_loss: 0.7106 - val_accuracy: 0.9167\n",
      "Epoch 26/130\n",
      "2/2 [==============================] - 0s 163ms/step - loss: 0.0391 - accuracy: 0.9861 - val_loss: 0.7218 - val_accuracy: 0.9167\n",
      "Epoch 27/130\n",
      "2/2 [==============================] - 0s 85ms/step - loss: 0.0573 - accuracy: 0.9809 - val_loss: 0.6034 - val_accuracy: 0.9167\n",
      "Epoch 28/130\n",
      "2/2 [==============================] - 0s 95ms/step - loss: 0.0930 - accuracy: 0.9757 - val_loss: 0.4874 - val_accuracy: 0.9167\n",
      "Epoch 29/130\n",
      "2/2 [==============================] - 0s 83ms/step - loss: 0.0477 - accuracy: 0.9757 - val_loss: 0.7007 - val_accuracy: 0.9167\n",
      "Epoch 30/130\n",
      "2/2 [==============================] - 0s 97ms/step - loss: 0.0242 - accuracy: 0.9878 - val_loss: 0.7697 - val_accuracy: 0.9167\n",
      "Epoch 31/130\n",
      "2/2 [==============================] - 0s 94ms/step - loss: 0.0192 - accuracy: 0.9931 - val_loss: 0.2979 - val_accuracy: 0.8750\n",
      "Epoch 32/130\n",
      "2/2 [==============================] - 0s 103ms/step - loss: 0.1457 - accuracy: 0.9444 - val_loss: 0.6580 - val_accuracy: 0.9167\n",
      "Epoch 33/130\n",
      "2/2 [==============================] - 0s 90ms/step - loss: 0.0164 - accuracy: 1.0000 - val_loss: 0.6031 - val_accuracy: 0.9167\n",
      "Epoch 34/130\n",
      "2/2 [==============================] - 0s 102ms/step - loss: 0.2173 - accuracy: 0.9358 - val_loss: 0.4436 - val_accuracy: 0.9167\n",
      "Epoch 35/130\n",
      "2/2 [==============================] - 0s 94ms/step - loss: 0.0481 - accuracy: 0.9809 - val_loss: 0.9049 - val_accuracy: 0.9167\n",
      "Epoch 36/130\n",
      "2/2 [==============================] - 0s 94ms/step - loss: 0.2199 - accuracy: 0.9375 - val_loss: 0.5601 - val_accuracy: 0.9167\n",
      "Epoch 37/130\n",
      "2/2 [==============================] - 0s 103ms/step - loss: 0.0199 - accuracy: 0.9931 - val_loss: 0.7155 - val_accuracy: 0.9167\n",
      "Epoch 38/130\n",
      "2/2 [==============================] - 0s 91ms/step - loss: 0.0265 - accuracy: 0.9878 - val_loss: 0.5444 - val_accuracy: 0.9167\n",
      "Epoch 39/130\n",
      "2/2 [==============================] - 0s 92ms/step - loss: 0.0285 - accuracy: 0.9878 - val_loss: 0.4887 - val_accuracy: 0.9167\n",
      "Epoch 40/130\n",
      "2/2 [==============================] - 0s 95ms/step - loss: 0.0213 - accuracy: 0.9878 - val_loss: 0.7273 - val_accuracy: 0.9167\n",
      "Epoch 41/130\n",
      "2/2 [==============================] - 0s 90ms/step - loss: 0.0097 - accuracy: 1.0000 - val_loss: 0.7313 - val_accuracy: 0.9167\n",
      "Epoch 42/130\n",
      "2/2 [==============================] - 0s 112ms/step - loss: 0.0050 - accuracy: 1.0000 - val_loss: 0.7568 - val_accuracy: 0.9167\n",
      "Epoch 43/130\n",
      "2/2 [==============================] - 0s 101ms/step - loss: 0.0043 - accuracy: 1.0000 - val_loss: 0.7613 - val_accuracy: 0.9167\n",
      "Epoch 44/130\n",
      "2/2 [==============================] - 0s 98ms/step - loss: 0.0034 - accuracy: 1.0000 - val_loss: 0.7949 - val_accuracy: 0.9167\n",
      "Epoch 45/130\n",
      "2/2 [==============================] - 0s 98ms/step - loss: 0.0028 - accuracy: 1.0000 - val_loss: 0.8161 - val_accuracy: 0.9167\n",
      "Epoch 46/130\n",
      "2/2 [==============================] - 0s 88ms/step - loss: 0.0020 - accuracy: 1.0000 - val_loss: 0.8222 - val_accuracy: 0.9167\n",
      "Epoch 47/130\n",
      "2/2 [==============================] - 0s 117ms/step - loss: 0.0020 - accuracy: 1.0000 - val_loss: 0.8492 - val_accuracy: 0.9167\n",
      "Epoch 48/130\n",
      "2/2 [==============================] - 0s 108ms/step - loss: 0.0017 - accuracy: 1.0000 - val_loss: 0.8419 - val_accuracy: 0.9167\n",
      "Epoch 49/130\n",
      "2/2 [==============================] - 0s 112ms/step - loss: 0.0017 - accuracy: 1.0000 - val_loss: 0.9046 - val_accuracy: 0.9167\n",
      "Epoch 50/130\n",
      "2/2 [==============================] - 0s 111ms/step - loss: 0.0012 - accuracy: 1.0000 - val_loss: 0.9122 - val_accuracy: 0.9167\n",
      "Epoch 51/130\n",
      "2/2 [==============================] - 0s 95ms/step - loss: 9.3303e-04 - accuracy: 1.0000 - val_loss: 0.9549 - val_accuracy: 0.9167\n",
      "Epoch 52/130\n",
      "2/2 [==============================] - 0s 113ms/step - loss: 9.3144e-04 - accuracy: 1.0000 - val_loss: 0.9531 - val_accuracy: 0.9167\n",
      "Epoch 53/130\n",
      "2/2 [==============================] - 0s 115ms/step - loss: 7.9402e-04 - accuracy: 1.0000 - val_loss: 0.9965 - val_accuracy: 0.9167\n",
      "Epoch 54/130\n",
      "2/2 [==============================] - 0s 106ms/step - loss: 7.8340e-04 - accuracy: 1.0000 - val_loss: 0.9830 - val_accuracy: 0.9167\n",
      "Epoch 55/130\n",
      "2/2 [==============================] - 0s 94ms/step - loss: 6.9834e-04 - accuracy: 1.0000 - val_loss: 1.0255 - val_accuracy: 0.9167\n",
      "Epoch 56/130\n",
      "2/2 [==============================] - 0s 109ms/step - loss: 5.7710e-04 - accuracy: 1.0000 - val_loss: 1.0658 - val_accuracy: 0.9167\n",
      "Epoch 57/130\n",
      "2/2 [==============================] - 0s 84ms/step - loss: 5.4162e-04 - accuracy: 1.0000 - val_loss: 1.0304 - val_accuracy: 0.9167\n",
      "Epoch 58/130\n",
      "2/2 [==============================] - 0s 99ms/step - loss: 6.0148e-04 - accuracy: 1.0000 - val_loss: 1.1044 - val_accuracy: 0.9167\n"
     ]
    },
    {
     "name": "stdout",
     "output_type": "stream",
     "text": [
      "Epoch 59/130\n",
      "2/2 [==============================] - 0s 107ms/step - loss: 3.8056e-04 - accuracy: 1.0000 - val_loss: 1.1413 - val_accuracy: 0.9167\n",
      "Epoch 60/130\n",
      "2/2 [==============================] - 0s 121ms/step - loss: 4.8990e-04 - accuracy: 1.0000 - val_loss: 1.1981 - val_accuracy: 0.9167\n",
      "Epoch 61/130\n",
      "2/2 [==============================] - 0s 89ms/step - loss: 0.0364 - accuracy: 0.9931 - val_loss: 2.9143 - val_accuracy: 0.8333\n",
      "Epoch 62/130\n",
      "2/2 [==============================] - 0s 98ms/step - loss: 2.4931 - accuracy: 0.8229 - val_loss: 0.5284 - val_accuracy: 0.9167\n",
      "Epoch 63/130\n",
      "2/2 [==============================] - 0s 96ms/step - loss: 0.0742 - accuracy: 0.9740 - val_loss: 0.6629 - val_accuracy: 0.9167\n",
      "Epoch 64/130\n",
      "2/2 [==============================] - 0s 111ms/step - loss: 0.0195 - accuracy: 0.9931 - val_loss: 0.6959 - val_accuracy: 0.9167\n",
      "Epoch 65/130\n",
      "2/2 [==============================] - 0s 78ms/step - loss: 0.0259 - accuracy: 0.9809 - val_loss: 0.6685 - val_accuracy: 0.9167\n",
      "Epoch 66/130\n",
      "2/2 [==============================] - 0s 78ms/step - loss: 0.0044 - accuracy: 1.0000 - val_loss: 0.6635 - val_accuracy: 0.9167\n",
      "Epoch 67/130\n",
      "2/2 [==============================] - 0s 80ms/step - loss: 0.0037 - accuracy: 1.0000 - val_loss: 0.6632 - val_accuracy: 0.9167\n",
      "Epoch 68/130\n",
      "2/2 [==============================] - 0s 80ms/step - loss: 0.0033 - accuracy: 1.0000 - val_loss: 0.6650 - val_accuracy: 0.9167\n",
      "Epoch 69/130\n",
      "2/2 [==============================] - 0s 80ms/step - loss: 0.0029 - accuracy: 1.0000 - val_loss: 0.6732 - val_accuracy: 0.9167\n",
      "Epoch 70/130\n",
      "2/2 [==============================] - 0s 79ms/step - loss: 0.0025 - accuracy: 1.0000 - val_loss: 0.6795 - val_accuracy: 0.9167\n",
      "Epoch 71/130\n",
      "2/2 [==============================] - 0s 82ms/step - loss: 0.0023 - accuracy: 1.0000 - val_loss: 0.6810 - val_accuracy: 0.9167\n",
      "Epoch 72/130\n",
      "2/2 [==============================] - 0s 76ms/step - loss: 0.0018 - accuracy: 1.0000 - val_loss: 0.6918 - val_accuracy: 0.9167\n",
      "Epoch 73/130\n",
      "2/2 [==============================] - 0s 92ms/step - loss: 0.0016 - accuracy: 1.0000 - val_loss: 0.6930 - val_accuracy: 0.9167\n",
      "Epoch 74/130\n",
      "2/2 [==============================] - 0s 85ms/step - loss: 0.0014 - accuracy: 1.0000 - val_loss: 0.7100 - val_accuracy: 0.9167\n",
      "Epoch 75/130\n",
      "2/2 [==============================] - 0s 74ms/step - loss: 0.0014 - accuracy: 1.0000 - val_loss: 0.7138 - val_accuracy: 0.9167\n",
      "Epoch 76/130\n",
      "2/2 [==============================] - 0s 71ms/step - loss: 9.5085e-04 - accuracy: 1.0000 - val_loss: 0.7224 - val_accuracy: 0.9167\n",
      "Epoch 77/130\n",
      "2/2 [==============================] - 0s 75ms/step - loss: 9.2106e-04 - accuracy: 1.0000 - val_loss: 0.7334 - val_accuracy: 0.9167\n",
      "Epoch 78/130\n",
      "2/2 [==============================] - 0s 74ms/step - loss: 8.0795e-04 - accuracy: 1.0000 - val_loss: 0.7490 - val_accuracy: 0.9167\n",
      "Epoch 79/130\n",
      "2/2 [==============================] - 0s 106ms/step - loss: 8.1231e-04 - accuracy: 1.0000 - val_loss: 0.7577 - val_accuracy: 0.9167\n",
      "Epoch 80/130\n",
      "2/2 [==============================] - 0s 99ms/step - loss: 7.0823e-04 - accuracy: 1.0000 - val_loss: 0.7671 - val_accuracy: 0.9167\n",
      "Epoch 81/130\n",
      "2/2 [==============================] - 0s 93ms/step - loss: 5.5034e-04 - accuracy: 1.0000 - val_loss: 0.7841 - val_accuracy: 0.9167\n",
      "Epoch 82/130\n",
      "2/2 [==============================] - 0s 107ms/step - loss: 5.4342e-04 - accuracy: 1.0000 - val_loss: 0.7958 - val_accuracy: 0.9167\n",
      "Epoch 83/130\n",
      "2/2 [==============================] - 0s 94ms/step - loss: 4.3482e-04 - accuracy: 1.0000 - val_loss: 0.8165 - val_accuracy: 0.9167\n",
      "Epoch 84/130\n",
      "2/2 [==============================] - 0s 94ms/step - loss: 3.4958e-04 - accuracy: 1.0000 - val_loss: 0.8411 - val_accuracy: 0.9167\n",
      "Epoch 85/130\n",
      "2/2 [==============================] - 0s 89ms/step - loss: 3.3851e-04 - accuracy: 1.0000 - val_loss: 0.8462 - val_accuracy: 0.9167\n",
      "Epoch 86/130\n",
      "2/2 [==============================] - 0s 94ms/step - loss: 2.8298e-04 - accuracy: 1.0000 - val_loss: 0.8608 - val_accuracy: 0.9167\n",
      "Epoch 87/130\n",
      "2/2 [==============================] - 0s 102ms/step - loss: 2.6954e-04 - accuracy: 1.0000 - val_loss: 0.8752 - val_accuracy: 0.9167\n",
      "Epoch 88/130\n",
      "2/2 [==============================] - 0s 93ms/step - loss: 1.8689e-04 - accuracy: 1.0000 - val_loss: 0.9016 - val_accuracy: 0.9167\n",
      "Epoch 89/130\n",
      "2/2 [==============================] - 0s 87ms/step - loss: 1.8642e-04 - accuracy: 1.0000 - val_loss: 0.9174 - val_accuracy: 0.9167\n",
      "Epoch 90/130\n",
      "2/2 [==============================] - 0s 97ms/step - loss: 1.5528e-04 - accuracy: 1.0000 - val_loss: 0.9266 - val_accuracy: 0.9167\n",
      "Epoch 91/130\n",
      "2/2 [==============================] - 0s 109ms/step - loss: 1.1879e-04 - accuracy: 1.0000 - val_loss: 0.9464 - val_accuracy: 0.9167\n",
      "Epoch 92/130\n",
      "2/2 [==============================] - 0s 87ms/step - loss: 1.0779e-04 - accuracy: 1.0000 - val_loss: 0.9636 - val_accuracy: 0.9167\n",
      "Epoch 93/130\n",
      "2/2 [==============================] - 0s 87ms/step - loss: 9.3691e-05 - accuracy: 1.0000 - val_loss: 0.9777 - val_accuracy: 0.9167\n",
      "Epoch 94/130\n",
      "2/2 [==============================] - 0s 87ms/step - loss: 8.2644e-05 - accuracy: 1.0000 - val_loss: 0.9929 - val_accuracy: 0.9167\n",
      "Epoch 95/130\n",
      "2/2 [==============================] - 0s 85ms/step - loss: 6.4646e-05 - accuracy: 1.0000 - val_loss: 1.0128 - val_accuracy: 0.9167\n",
      "Epoch 96/130\n",
      "2/2 [==============================] - 0s 91ms/step - loss: 6.2439e-05 - accuracy: 1.0000 - val_loss: 1.0248 - val_accuracy: 0.9167\n",
      "Epoch 97/130\n",
      "2/2 [==============================] - 0s 87ms/step - loss: 5.1065e-05 - accuracy: 1.0000 - val_loss: 1.0464 - val_accuracy: 0.9167\n",
      "Epoch 98/130\n",
      "2/2 [==============================] - 0s 90ms/step - loss: 4.8155e-05 - accuracy: 1.0000 - val_loss: 1.0558 - val_accuracy: 0.9167\n",
      "Epoch 99/130\n",
      "2/2 [==============================] - 0s 87ms/step - loss: 3.8993e-05 - accuracy: 1.0000 - val_loss: 1.0825 - val_accuracy: 0.9167\n",
      "Epoch 100/130\n",
      "2/2 [==============================] - 0s 101ms/step - loss: 3.1686e-05 - accuracy: 1.0000 - val_loss: 1.1025 - val_accuracy: 0.9167\n",
      "Epoch 101/130\n",
      "2/2 [==============================] - 0s 105ms/step - loss: 3.0864e-05 - accuracy: 1.0000 - val_loss: 1.1124 - val_accuracy: 0.9167\n",
      "Epoch 102/130\n",
      "2/2 [==============================] - 0s 100ms/step - loss: 2.4883e-05 - accuracy: 1.0000 - val_loss: 1.1297 - val_accuracy: 0.9167\n",
      "Epoch 103/130\n",
      "2/2 [==============================] - 0s 99ms/step - loss: 2.3321e-05 - accuracy: 1.0000 - val_loss: 1.1509 - val_accuracy: 0.9167\n",
      "Epoch 104/130\n",
      "2/2 [==============================] - 0s 88ms/step - loss: 1.9082e-05 - accuracy: 1.0000 - val_loss: 1.1657 - val_accuracy: 0.9167\n",
      "Epoch 105/130\n",
      "2/2 [==============================] - 0s 105ms/step - loss: 1.4367e-05 - accuracy: 1.0000 - val_loss: 1.1955 - val_accuracy: 0.9167\n",
      "Epoch 106/130\n",
      "2/2 [==============================] - 0s 95ms/step - loss: 1.1611e-05 - accuracy: 1.0000 - val_loss: 1.2119 - val_accuracy: 0.9167\n",
      "Epoch 107/130\n",
      "2/2 [==============================] - 0s 90ms/step - loss: 1.3037e-05 - accuracy: 1.0000 - val_loss: 1.2182 - val_accuracy: 0.9167\n",
      "Epoch 108/130\n",
      "2/2 [==============================] - 0s 105ms/step - loss: 1.0682e-05 - accuracy: 1.0000 - val_loss: 1.2381 - val_accuracy: 0.9167\n",
      "Epoch 109/130\n",
      "2/2 [==============================] - 0s 100ms/step - loss: 9.4312e-06 - accuracy: 1.0000 - val_loss: 1.2662 - val_accuracy: 0.9167\n",
      "Epoch 110/130\n",
      "2/2 [==============================] - 0s 103ms/step - loss: 8.7289e-06 - accuracy: 1.0000 - val_loss: 1.2810 - val_accuracy: 0.9167\n",
      "Epoch 111/130\n",
      "2/2 [==============================] - 0s 102ms/step - loss: 7.7451e-06 - accuracy: 1.0000 - val_loss: 1.2894 - val_accuracy: 0.9167\n",
      "Epoch 112/130\n",
      "2/2 [==============================] - 0s 98ms/step - loss: 6.9618e-06 - accuracy: 1.0000 - val_loss: 1.3040 - val_accuracy: 0.9167\n",
      "Epoch 113/130\n",
      "2/2 [==============================] - 0s 96ms/step - loss: 5.0921e-06 - accuracy: 1.0000 - val_loss: 1.3337 - val_accuracy: 0.9167\n",
      "Epoch 114/130\n",
      "2/2 [==============================] - 0s 93ms/step - loss: 5.2265e-06 - accuracy: 1.0000 - val_loss: 1.3178 - val_accuracy: 0.9167\n",
      "Epoch 115/130\n",
      "2/2 [==============================] - 0s 95ms/step - loss: 4.8866e-06 - accuracy: 1.0000 - val_loss: 1.3579 - val_accuracy: 0.9167\n"
     ]
    },
    {
     "name": "stdout",
     "output_type": "stream",
     "text": [
      "Epoch 116/130\n",
      "2/2 [==============================] - 0s 96ms/step - loss: 3.8281e-06 - accuracy: 1.0000 - val_loss: 1.3719 - val_accuracy: 0.9167\n",
      "Epoch 117/130\n",
      "2/2 [==============================] - 0s 94ms/step - loss: 2.7625e-06 - accuracy: 1.0000 - val_loss: 1.3978 - val_accuracy: 0.9167\n",
      "Epoch 118/130\n",
      "2/2 [==============================] - 0s 95ms/step - loss: 2.9616e-06 - accuracy: 1.0000 - val_loss: 1.4102 - val_accuracy: 0.9167\n",
      "Epoch 119/130\n",
      "2/2 [==============================] - 0s 95ms/step - loss: 2.5729e-06 - accuracy: 1.0000 - val_loss: 1.4206 - val_accuracy: 0.9167\n",
      "Epoch 120/130\n",
      "2/2 [==============================] - 0s 92ms/step - loss: 2.1549e-06 - accuracy: 1.0000 - val_loss: 1.4408 - val_accuracy: 0.9167\n",
      "Epoch 121/130\n",
      "2/2 [==============================] - 0s 93ms/step - loss: 1.8057e-06 - accuracy: 1.0000 - val_loss: 1.4538 - val_accuracy: 0.9167\n",
      "Epoch 122/130\n",
      "2/2 [==============================] - 0s 92ms/step - loss: 1.7757e-06 - accuracy: 1.0000 - val_loss: 1.4641 - val_accuracy: 0.9167\n",
      "Epoch 123/130\n",
      "2/2 [==============================] - 0s 94ms/step - loss: 1.5412e-06 - accuracy: 1.0000 - val_loss: 1.4864 - val_accuracy: 0.9167\n",
      "Epoch 124/130\n",
      "2/2 [==============================] - 0s 87ms/step - loss: 1.3403e-06 - accuracy: 1.0000 - val_loss: 1.4995 - val_accuracy: 0.9167\n",
      "Epoch 125/130\n",
      "2/2 [==============================] - 0s 100ms/step - loss: 1.3514e-06 - accuracy: 1.0000 - val_loss: 1.5004 - val_accuracy: 0.9167\n",
      "Epoch 126/130\n",
      "2/2 [==============================] - 0s 87ms/step - loss: 1.3361e-06 - accuracy: 1.0000 - val_loss: 1.5144 - val_accuracy: 0.9167\n",
      "Epoch 127/130\n",
      "2/2 [==============================] - 0s 100ms/step - loss: 1.0336e-06 - accuracy: 1.0000 - val_loss: 1.5391 - val_accuracy: 0.9167\n",
      "Epoch 128/130\n",
      "2/2 [==============================] - 0s 102ms/step - loss: 9.0731e-07 - accuracy: 1.0000 - val_loss: 1.5488 - val_accuracy: 0.9167\n",
      "Epoch 129/130\n",
      "2/2 [==============================] - 0s 96ms/step - loss: 9.2449e-07 - accuracy: 1.0000 - val_loss: 1.5526 - val_accuracy: 0.9167\n",
      "Epoch 130/130\n",
      "2/2 [==============================] - 0s 97ms/step - loss: 8.8579e-07 - accuracy: 1.0000 - val_loss: 1.5649 - val_accuracy: 0.9167\n"
     ]
    }
   ],
   "source": [
    "history = model.fit(X_train, Y_train,\n",
    "         batch_size=64,epochs=130,\n",
    "         validation_data = (X_val, Y_val))"
   ]
  },
  {
   "cell_type": "markdown",
   "id": "8e4fc6b7",
   "metadata": {},
   "source": [
    "# Visualizing model errors and accuracies"
   ]
  },
  {
   "cell_type": "code",
   "execution_count": 29,
   "id": "074a7164",
   "metadata": {},
   "outputs": [
    {
     "name": "stdout",
     "output_type": "stream",
     "text": [
      "dict_keys(['loss', 'accuracy', 'val_loss', 'val_accuracy'])\n"
     ]
    },
    {
     "data": {
      "image/png": "[encoded data removed]",
      "text/plain": [
       "<Figure size 432x288 with 1 Axes>"
      ]
     },
     "metadata": {
      "needs_background": "light"
     },
     "output_type": "display_data"
    },
    {
     "data": {
      "image/png": "[encoded data removed]",
      "text/plain": [
       "<Figure size 432x288 with 1 Axes>"
      ]
     },
     "metadata": {
      "needs_background": "light"
     },
     "output_type": "display_data"
    }
   ],
   "source": [
    "import matplotlib.pyplot as plt\n",
    "print(history.history.keys())\n",
    "# summarize history for accuracy\n",
    "plt.plot(history.history['accuracy'])\n",
    "plt.plot(history.history['val_accuracy'])\n",
    "plt.title('model accuracy')\n",
    "plt.ylabel('accuracy')\n",
    "plt.xlabel('epoch')\n",
    "plt.legend(['train', 'test'])\n",
    "plt.show()\n",
    "\n",
    "\n",
    "# summarize history for loss\n",
    "plt.plot(history.history['loss'])\n",
    "plt.plot(history.history['val_loss'])\n",
    "plt.title('model loss')\n",
    "plt.ylabel('loss')\n",
    "plt.xlabel('epoch')\n",
    "plt.legend(['train', 'test'])\n",
    "plt.show()\n",
    "\n",
    "\n",
    "#Evaluating Model\n",
    "score  = model.predict_classes(X_test)\n"
   ]
  },
  {
   "cell_type": "markdown",
   "id": "fe7f1a13",
   "metadata": {},
   "source": [
    "# Converting into the categorical labels"
   ]
  },
  {
   "cell_type": "code",
   "execution_count": 30,
   "id": "fff99fea",
   "metadata": {},
   "outputs": [],
   "source": [
    "\n",
    "def cate(Y_test):\n",
    "    Y_test_ = []\n",
    "    for i in Y_test:\n",
    "        Y_test_.append(np.argmax(i))\n",
    "        \n",
    "    return Y_test_\n",
    "\n",
    "Y_train_ = cate(Y_train)\n",
    "Y_test_ = cate(Y_test)"
   ]
  },
  {
   "cell_type": "markdown",
   "id": "246b66f4",
   "metadata": {},
   "source": [
    "# Accuracy score of the data "
   ]
  },
  {
   "cell_type": "code",
   "execution_count": 31,
   "id": "e4f8c27c",
   "metadata": {},
   "outputs": [
    {
     "name": "stdout",
     "output_type": "stream",
     "text": [
      "Test Accuracy score of the data 0.9\n",
      "Train Accuracy score of the data 1.0\n"
     ]
    }
   ],
   "source": [
    "from sklearn.metrics import accuracy_score, classification_report, confusion_matrix\n",
    "\n",
    "print(f\"Test Accuracy score of the data {accuracy_score(score, Y_test_)}\")\n",
    "print(f\"Train Accuracy score of the data {accuracy_score(model.predict_classes(X_train), Y_train_)}\")"
   ]
  },
  {
   "cell_type": "markdown",
   "id": "4af9e71f",
   "metadata": {},
   "source": [
    "# Classification report "
   ]
  },
  {
   "cell_type": "code",
   "execution_count": 32,
   "id": "f671b85f",
   "metadata": {},
   "outputs": [
    {
     "name": "stdout",
     "output_type": "stream",
     "text": [
      "********* TRAIN CLASSIFICATION REPORT ***********\n",
      " \n",
      "              precision    recall  f1-score   support\n",
      "\n",
      "           0       1.00      1.00      1.00        30\n",
      "           1       1.00      1.00      1.00        32\n",
      "           2       1.00      1.00      1.00        34\n",
      "\n",
      "    accuracy                           1.00        96\n",
      "   macro avg       1.00      1.00      1.00        96\n",
      "weighted avg       1.00      1.00      1.00        96\n",
      "\n",
      " \n",
      "********* TEST CLASSIFICATION REPORT ***********\n",
      " \n",
      "              precision    recall  f1-score   support\n",
      "\n",
      "           0       1.00      1.00      1.00        10\n",
      "           1       0.90      0.82      0.86        11\n",
      "           2       0.80      0.89      0.84         9\n",
      "\n",
      "    accuracy                           0.90        30\n",
      "   macro avg       0.90      0.90      0.90        30\n",
      "weighted avg       0.90      0.90      0.90        30\n",
      "\n"
     ]
    }
   ],
   "source": [
    "print(\"********* TRAIN CLASSIFICATION REPORT ***********\")\n",
    "print(\" \")\n",
    "print(classification_report(model.predict_classes(X_train), Y_train_))\n",
    "\n",
    "print(\" \")\n",
    "\n",
    "print(\"********* TEST CLASSIFICATION REPORT ***********\")\n",
    "print(\" \")\n",
    "print(classification_report(score, Y_test_))"
   ]
  },
  {
   "cell_type": "markdown",
   "id": "469c4027",
   "metadata": {},
   "source": [
    "# Confusion matrix"
   ]
  },
  {
   "cell_type": "code",
   "execution_count": 33,
   "id": "b6d13ba3",
   "metadata": {},
   "outputs": [
    {
     "name": "stdout",
     "output_type": "stream",
     "text": [
      "Test Accuracy score of the data \n",
      " [[10  0  0]\n",
      " [ 0  9  2]\n",
      " [ 0  1  8]]\n"
     ]
    },
    {
     "data": {
      "text/plain": [
       "<AxesSubplot:>"
      ]
     },
     "execution_count": 33,
     "metadata": {},
     "output_type": "execute_result"
    },
    {
     "data": {
      "image/png": "[encoded data removed]",
      "text/plain": [
       "<Figure size 432x288 with 2 Axes>"
      ]
     },
     "metadata": {
      "needs_background": "light"
     },
     "output_type": "display_data"
    }
   ],
   "source": [
    "print(f\"Test Accuracy score of the data \\n {confusion_matrix(score, Y_test_)}\")\n",
    "sns.heatmap(confusion_matrix(score, Y_test_), annot=True)"
   ]
  },
  {
   "cell_type": "code",
   "execution_count": 34,
   "id": "69a2d309",
   "metadata": {},
   "outputs": [
    {
     "name": "stdout",
     "output_type": "stream",
     "text": [
      "Train Accuracy score of the data \n",
      " [[30  0  0]\n",
      " [ 0 32  0]\n",
      " [ 0  0 34]]\n"
     ]
    },
    {
     "data": {
      "text/plain": [
       "<AxesSubplot:>"
      ]
     },
     "execution_count": 34,
     "metadata": {},
     "output_type": "execute_result"
    },
    {
     "data": {
      "image/png": "[encoded data removed]",
      "text/plain": [
       "<Figure size 432x288 with 2 Axes>"
      ]
     },
     "metadata": {
      "needs_background": "light"
     },
     "output_type": "display_data"
    }
   ],
   "source": [
    "print(f\"Train Accuracy score of the data \\n {confusion_matrix(model.predict_classes(X_train), Y_train_)}\")\n",
    "sns.heatmap(confusion_matrix(model.predict_classes(X_train), Y_train_), annot=True)"
   ]
  },
  {
   "cell_type": "code",
   "execution_count": null,
   "id": "27559104",
   "metadata": {},
   "outputs": [],
   "source": []
  }
 ],
 "metadata": {
  "kernelspec": {
   "display_name": "Python 3",
   "language": "python",
   "name": "python3"
  },
  "language_info": {
   "codemirror_mode": {
    "name": "ipython",
    "version": 3
   },
   "file_extension": ".py",
   "mimetype": "text/x-python",
   "name": "python",
   "nbconvert_exporter": "python",
   "pygments_lexer": "ipython3",
   "version": "3.7.10"
  }
 },
 "nbformat": 4,
 "nbformat_minor": 5
}
