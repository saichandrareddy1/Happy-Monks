{
 "cells": [
  {
   "cell_type": "markdown",
   "metadata": {},
   "source": [
    "# Logistic Regression"
   ]
  },
  {
   "cell_type": "code",
   "execution_count": 1,
   "metadata": {},
   "outputs": [],
   "source": [
    "import numpy as np \n",
    "import pandas as pd\n",
    "import matplotlib.pyplot as plt\n",
    "import seaborn as sns\n",
    "import warnings\n",
    "warnings.filterwarnings('ignore')"
   ]
  },
  {
   "cell_type": "markdown",
   "metadata": {},
   "source": [
    "\n",
    "# data Reading"
   ]
  },
  {
   "cell_type": "code",
   "execution_count": 2,
   "metadata": {},
   "outputs": [],
   "source": [
    "data = pd.read_csv(\"./BankNote_Authentication.csv\")"
   ]
  },
  {
   "cell_type": "code",
   "execution_count": 3,
   "metadata": {},
   "outputs": [
    {
     "data": {
      "text/html": [
       "<div>\n",
       "<style scoped>\n",
       "    .dataframe tbody tr th:only-of-type {\n",
       "        vertical-align: middle;\n",
       "    }\n",
       "\n",
       "    .dataframe tbody tr th {\n",
       "        vertical-align: top;\n",
       "    }\n",
       "\n",
       "    .dataframe thead th {\n",
       "        text-align: right;\n",
       "    }\n",
       "</style>\n",
       "<table border=\"1\" class=\"dataframe\">\n",
       "  <thead>\n",
       "    <tr style=\"text-align: right;\">\n",
       "      <th></th>\n",
       "      <th>variance</th>\n",
       "      <th>skewness</th>\n",
       "      <th>curtosis</th>\n",
       "      <th>entropy</th>\n",
       "      <th>class</th>\n",
       "    </tr>\n",
       "  </thead>\n",
       "  <tbody>\n",
       "    <tr>\n",
       "      <th>0</th>\n",
       "      <td>3.62160</td>\n",
       "      <td>8.6661</td>\n",
       "      <td>-2.8073</td>\n",
       "      <td>-0.44699</td>\n",
       "      <td>0</td>\n",
       "    </tr>\n",
       "    <tr>\n",
       "      <th>1</th>\n",
       "      <td>4.54590</td>\n",
       "      <td>8.1674</td>\n",
       "      <td>-2.4586</td>\n",
       "      <td>-1.46210</td>\n",
       "      <td>0</td>\n",
       "    </tr>\n",
       "    <tr>\n",
       "      <th>2</th>\n",
       "      <td>3.86600</td>\n",
       "      <td>-2.6383</td>\n",
       "      <td>1.9242</td>\n",
       "      <td>0.10645</td>\n",
       "      <td>0</td>\n",
       "    </tr>\n",
       "    <tr>\n",
       "      <th>3</th>\n",
       "      <td>3.45660</td>\n",
       "      <td>9.5228</td>\n",
       "      <td>-4.0112</td>\n",
       "      <td>-3.59440</td>\n",
       "      <td>0</td>\n",
       "    </tr>\n",
       "    <tr>\n",
       "      <th>4</th>\n",
       "      <td>0.32924</td>\n",
       "      <td>-4.4552</td>\n",
       "      <td>4.5718</td>\n",
       "      <td>-0.98880</td>\n",
       "      <td>0</td>\n",
       "    </tr>\n",
       "  </tbody>\n",
       "</table>\n",
       "</div>"
      ],
      "text/plain": [
       "   variance  skewness  curtosis  entropy  class\n",
       "0   3.62160    8.6661   -2.8073 -0.44699      0\n",
       "1   4.54590    8.1674   -2.4586 -1.46210      0\n",
       "2   3.86600   -2.6383    1.9242  0.10645      0\n",
       "3   3.45660    9.5228   -4.0112 -3.59440      0\n",
       "4   0.32924   -4.4552    4.5718 -0.98880      0"
      ]
     },
     "execution_count": 3,
     "metadata": {},
     "output_type": "execute_result"
    }
   ],
   "source": [
    "data.head()"
   ]
  },
  {
   "cell_type": "markdown",
   "metadata": {},
   "source": [
    "# Describe "
   ]
  },
  {
   "cell_type": "code",
   "execution_count": 4,
   "metadata": {},
   "outputs": [
    {
     "data": {
      "text/html": [
       "<div>\n",
       "<style scoped>\n",
       "    .dataframe tbody tr th:only-of-type {\n",
       "        vertical-align: middle;\n",
       "    }\n",
       "\n",
       "    .dataframe tbody tr th {\n",
       "        vertical-align: top;\n",
       "    }\n",
       "\n",
       "    .dataframe thead th {\n",
       "        text-align: right;\n",
       "    }\n",
       "</style>\n",
       "<table border=\"1\" class=\"dataframe\">\n",
       "  <thead>\n",
       "    <tr style=\"text-align: right;\">\n",
       "      <th></th>\n",
       "      <th>variance</th>\n",
       "      <th>skewness</th>\n",
       "      <th>curtosis</th>\n",
       "      <th>entropy</th>\n",
       "      <th>class</th>\n",
       "    </tr>\n",
       "  </thead>\n",
       "  <tbody>\n",
       "    <tr>\n",
       "      <th>count</th>\n",
       "      <td>1372.000000</td>\n",
       "      <td>1372.000000</td>\n",
       "      <td>1372.000000</td>\n",
       "      <td>1372.000000</td>\n",
       "      <td>1372.000000</td>\n",
       "    </tr>\n",
       "    <tr>\n",
       "      <th>mean</th>\n",
       "      <td>0.433735</td>\n",
       "      <td>1.922353</td>\n",
       "      <td>1.397627</td>\n",
       "      <td>-1.191657</td>\n",
       "      <td>0.444606</td>\n",
       "    </tr>\n",
       "    <tr>\n",
       "      <th>std</th>\n",
       "      <td>2.842763</td>\n",
       "      <td>5.869047</td>\n",
       "      <td>4.310030</td>\n",
       "      <td>2.101013</td>\n",
       "      <td>0.497103</td>\n",
       "    </tr>\n",
       "    <tr>\n",
       "      <th>min</th>\n",
       "      <td>-7.042100</td>\n",
       "      <td>-13.773100</td>\n",
       "      <td>-5.286100</td>\n",
       "      <td>-8.548200</td>\n",
       "      <td>0.000000</td>\n",
       "    </tr>\n",
       "    <tr>\n",
       "      <th>25%</th>\n",
       "      <td>-1.773000</td>\n",
       "      <td>-1.708200</td>\n",
       "      <td>-1.574975</td>\n",
       "      <td>-2.413450</td>\n",
       "      <td>0.000000</td>\n",
       "    </tr>\n",
       "    <tr>\n",
       "      <th>50%</th>\n",
       "      <td>0.496180</td>\n",
       "      <td>2.319650</td>\n",
       "      <td>0.616630</td>\n",
       "      <td>-0.586650</td>\n",
       "      <td>0.000000</td>\n",
       "    </tr>\n",
       "    <tr>\n",
       "      <th>75%</th>\n",
       "      <td>2.821475</td>\n",
       "      <td>6.814625</td>\n",
       "      <td>3.179250</td>\n",
       "      <td>0.394810</td>\n",
       "      <td>1.000000</td>\n",
       "    </tr>\n",
       "    <tr>\n",
       "      <th>max</th>\n",
       "      <td>6.824800</td>\n",
       "      <td>12.951600</td>\n",
       "      <td>17.927400</td>\n",
       "      <td>2.449500</td>\n",
       "      <td>1.000000</td>\n",
       "    </tr>\n",
       "  </tbody>\n",
       "</table>\n",
       "</div>"
      ],
      "text/plain": [
       "          variance     skewness     curtosis      entropy        class\n",
       "count  1372.000000  1372.000000  1372.000000  1372.000000  1372.000000\n",
       "mean      0.433735     1.922353     1.397627    -1.191657     0.444606\n",
       "std       2.842763     5.869047     4.310030     2.101013     0.497103\n",
       "min      -7.042100   -13.773100    -5.286100    -8.548200     0.000000\n",
       "25%      -1.773000    -1.708200    -1.574975    -2.413450     0.000000\n",
       "50%       0.496180     2.319650     0.616630    -0.586650     0.000000\n",
       "75%       2.821475     6.814625     3.179250     0.394810     1.000000\n",
       "max       6.824800    12.951600    17.927400     2.449500     1.000000"
      ]
     },
     "execution_count": 4,
     "metadata": {},
     "output_type": "execute_result"
    }
   ],
   "source": [
    "data.describe()"
   ]
  },
  {
   "cell_type": "markdown",
   "metadata": {},
   "source": [
    "# Information about the data"
   ]
  },
  {
   "cell_type": "code",
   "execution_count": 5,
   "metadata": {},
   "outputs": [
    {
     "name": "stdout",
     "output_type": "stream",
     "text": [
      "<class 'pandas.core.frame.DataFrame'>\n",
      "RangeIndex: 1372 entries, 0 to 1371\n",
      "Data columns (total 5 columns):\n",
      " #   Column    Non-Null Count  Dtype  \n",
      "---  ------    --------------  -----  \n",
      " 0   variance  1372 non-null   float64\n",
      " 1   skewness  1372 non-null   float64\n",
      " 2   curtosis  1372 non-null   float64\n",
      " 3   entropy   1372 non-null   float64\n",
      " 4   class     1372 non-null   int64  \n",
      "dtypes: float64(4), int64(1)\n",
      "memory usage: 53.7 KB\n"
     ]
    }
   ],
   "source": [
    "data.info()"
   ]
  },
  {
   "cell_type": "markdown",
   "metadata": {},
   "source": [
    "# Finding correlation between the columns"
   ]
  },
  {
   "cell_type": "code",
   "execution_count": 6,
   "metadata": {},
   "outputs": [
    {
     "data": {
      "text/html": [
       "<div>\n",
       "<style scoped>\n",
       "    .dataframe tbody tr th:only-of-type {\n",
       "        vertical-align: middle;\n",
       "    }\n",
       "\n",
       "    .dataframe tbody tr th {\n",
       "        vertical-align: top;\n",
       "    }\n",
       "\n",
       "    .dataframe thead th {\n",
       "        text-align: right;\n",
       "    }\n",
       "</style>\n",
       "<table border=\"1\" class=\"dataframe\">\n",
       "  <thead>\n",
       "    <tr style=\"text-align: right;\">\n",
       "      <th></th>\n",
       "      <th>variance</th>\n",
       "      <th>skewness</th>\n",
       "      <th>curtosis</th>\n",
       "      <th>entropy</th>\n",
       "      <th>class</th>\n",
       "    </tr>\n",
       "  </thead>\n",
       "  <tbody>\n",
       "    <tr>\n",
       "      <th>variance</th>\n",
       "      <td>1.000000</td>\n",
       "      <td>0.264026</td>\n",
       "      <td>-0.380850</td>\n",
       "      <td>0.276817</td>\n",
       "      <td>-0.724843</td>\n",
       "    </tr>\n",
       "    <tr>\n",
       "      <th>skewness</th>\n",
       "      <td>0.264026</td>\n",
       "      <td>1.000000</td>\n",
       "      <td>-0.786895</td>\n",
       "      <td>-0.526321</td>\n",
       "      <td>-0.444688</td>\n",
       "    </tr>\n",
       "    <tr>\n",
       "      <th>curtosis</th>\n",
       "      <td>-0.380850</td>\n",
       "      <td>-0.786895</td>\n",
       "      <td>1.000000</td>\n",
       "      <td>0.318841</td>\n",
       "      <td>0.155883</td>\n",
       "    </tr>\n",
       "    <tr>\n",
       "      <th>entropy</th>\n",
       "      <td>0.276817</td>\n",
       "      <td>-0.526321</td>\n",
       "      <td>0.318841</td>\n",
       "      <td>1.000000</td>\n",
       "      <td>-0.023424</td>\n",
       "    </tr>\n",
       "    <tr>\n",
       "      <th>class</th>\n",
       "      <td>-0.724843</td>\n",
       "      <td>-0.444688</td>\n",
       "      <td>0.155883</td>\n",
       "      <td>-0.023424</td>\n",
       "      <td>1.000000</td>\n",
       "    </tr>\n",
       "  </tbody>\n",
       "</table>\n",
       "</div>"
      ],
      "text/plain": [
       "          variance  skewness  curtosis   entropy     class\n",
       "variance  1.000000  0.264026 -0.380850  0.276817 -0.724843\n",
       "skewness  0.264026  1.000000 -0.786895 -0.526321 -0.444688\n",
       "curtosis -0.380850 -0.786895  1.000000  0.318841  0.155883\n",
       "entropy   0.276817 -0.526321  0.318841  1.000000 -0.023424\n",
       "class    -0.724843 -0.444688  0.155883 -0.023424  1.000000"
      ]
     },
     "execution_count": 6,
     "metadata": {},
     "output_type": "execute_result"
    }
   ],
   "source": [
    "data.corr()"
   ]
  },
  {
   "cell_type": "markdown",
   "metadata": {},
   "source": [
    "# Class count visualization "
   ]
  },
  {
   "cell_type": "code",
   "execution_count": 7,
   "metadata": {},
   "outputs": [
    {
     "name": "stdout",
     "output_type": "stream",
     "text": [
      "Classes of the data dict_keys([0, 1])\n",
      "count of the data dict_values([762, 610])\n"
     ]
    }
   ],
   "source": [
    "from collections import Counter\n",
    "\n",
    "c = Counter(data['class'])\n",
    "print(f\"Classes of the data {c.keys()}\")\n",
    "print(f\"count of the data {c.values()}\")\n"
   ]
  },
  {
   "cell_type": "code",
   "execution_count": 8,
   "metadata": {},
   "outputs": [
    {
     "data": {
      "image/png": "[encoded data removed]",
      "text/plain": [
       "<Figure size 432x288 with 1 Axes>"
      ]
     },
     "metadata": {
      "needs_background": "light"
     },
     "output_type": "display_data"
    }
   ],
   "source": [
    "x = list(c.keys())\n",
    "xval = []\n",
    "h = list(c.values())\n",
    "\n",
    "for i in x:\n",
    "    xval.append(str(i))\n",
    "\n",
    "sns.barplot(x=xval,y=h,data=data)\n",
    "plt.show()"
   ]
  },
  {
   "cell_type": "markdown",
   "metadata": {},
   "source": [
    "# Shuffling the data"
   ]
  },
  {
   "cell_type": "code",
   "execution_count": 9,
   "metadata": {},
   "outputs": [],
   "source": [
    "from sklearn.utils import shuffle\n",
    "\n",
    "\n",
    "data_S = shuffle(data.values)"
   ]
  },
  {
   "cell_type": "code",
   "execution_count": 10,
   "metadata": {},
   "outputs": [
    {
     "data": {
      "text/plain": [
       "array([[ 3.2303 ,  7.8384 , -3.5348 , -1.2151 ,  0.     ],\n",
       "       [-2.234  , -7.0314 ,  7.4936 ,  0.61334,  1.     ],\n",
       "       [-1.9922 , 11.6542 ,  2.6542 , -5.2107 ,  0.     ],\n",
       "       ...,\n",
       "       [ 4.5707 ,  7.2094 , -3.2794 , -1.4944 ,  0.     ],\n",
       "       [-2.659  , -1.6058 ,  1.3647 ,  0.16464,  1.     ],\n",
       "       [ 2.0911 ,  0.94358,  4.5512 ,  1.234  ,  0.     ]])"
      ]
     },
     "execution_count": 10,
     "metadata": {},
     "output_type": "execute_result"
    }
   ],
   "source": [
    "data_S"
   ]
  },
  {
   "cell_type": "markdown",
   "metadata": {},
   "source": [
    "# Features and Labels "
   ]
  },
  {
   "cell_type": "code",
   "execution_count": 11,
   "metadata": {},
   "outputs": [],
   "source": [
    "X = data_S[:, :-1]\n",
    "Y = data_S[:, -1]"
   ]
  },
  {
   "cell_type": "markdown",
   "metadata": {},
   "source": [
    "# Scaling the data "
   ]
  },
  {
   "cell_type": "code",
   "execution_count": 12,
   "metadata": {},
   "outputs": [],
   "source": [
    "from sklearn.preprocessing import StandardScaler\n",
    "\n",
    "sc = StandardScaler()"
   ]
  },
  {
   "cell_type": "code",
   "execution_count": 13,
   "metadata": {},
   "outputs": [],
   "source": [
    "X = sc.fit_transform(X)"
   ]
  },
  {
   "cell_type": "markdown",
   "metadata": {},
   "source": [
    "# Splitting the data "
   ]
  },
  {
   "cell_type": "code",
   "execution_count": 14,
   "metadata": {},
   "outputs": [],
   "source": [
    "from sklearn.model_selection import train_test_split\n",
    "\n",
    "X_train, X_test, Y_train, Y_test = train_test_split(X, Y, test_size=0.2)"
   ]
  },
  {
   "cell_type": "markdown",
   "metadata": {},
   "source": [
    "# Logistic Regression Model"
   ]
  },
  {
   "cell_type": "code",
   "execution_count": 15,
   "metadata": {},
   "outputs": [],
   "source": [
    "from sklearn.linear_model import LogisticRegression\n",
    "lg = LogisticRegression().fit(X_train, Y_train)"
   ]
  },
  {
   "cell_type": "code",
   "execution_count": 16,
   "metadata": {},
   "outputs": [],
   "source": [
    "y_pred = lg.predict(X_test)"
   ]
  },
  {
   "cell_type": "markdown",
   "metadata": {},
   "source": [
    "# Metrics Of the data "
   ]
  },
  {
   "cell_type": "code",
   "execution_count": 17,
   "metadata": {},
   "outputs": [
    {
     "name": "stdout",
     "output_type": "stream",
     "text": [
      "Test Accuracy score of the data 0.9854545454545455\n",
      "Train Accuracy score of the data 0.9808568824065633\n"
     ]
    }
   ],
   "source": [
    "from sklearn.metrics import accuracy_score, classification_report\n",
    "\n",
    "print(f\"Test Accuracy score of the data {accuracy_score(y_pred, Y_test)}\")\n",
    "print(f\"Train Accuracy score of the data {accuracy_score(lg.predict(X_train), Y_train)}\")"
   ]
  },
  {
   "cell_type": "markdown",
   "metadata": {},
   "source": [
    "# classification report of the data "
   ]
  },
  {
   "cell_type": "code",
   "execution_count": 18,
   "metadata": {},
   "outputs": [
    {
     "name": "stdout",
     "output_type": "stream",
     "text": [
      "********* TRAIN CLASSIFICATION REPORT ***********\n",
      " \n",
      "              precision    recall  f1-score   support\n",
      "\n",
      "         0.0       0.97      1.00      0.98       590\n",
      "         1.0       1.00      0.96      0.98       507\n",
      "\n",
      "    accuracy                           0.98      1097\n",
      "   macro avg       0.98      0.98      0.98      1097\n",
      "weighted avg       0.98      0.98      0.98      1097\n",
      "\n",
      " \n",
      "********* TEST CLASSIFICATION REPORT ***********\n",
      " \n",
      "              precision    recall  f1-score   support\n",
      "\n",
      "         0.0       0.97      1.00      0.99       151\n",
      "         1.0       1.00      0.97      0.98       124\n",
      "\n",
      "    accuracy                           0.99       275\n",
      "   macro avg       0.99      0.98      0.99       275\n",
      "weighted avg       0.99      0.99      0.99       275\n",
      "\n"
     ]
    }
   ],
   "source": [
    "print(\"********* TRAIN CLASSIFICATION REPORT ***********\")\n",
    "print(\" \")\n",
    "print(classification_report(lg.predict(X_train), Y_train))\n",
    "\n",
    "print(\" \")\n",
    "\n",
    "print(\"********* TEST CLASSIFICATION REPORT ***********\")\n",
    "print(\" \")\n",
    "print(classification_report(y_pred, Y_test))"
   ]
  },
  {
   "cell_type": "markdown",
   "metadata": {},
   "source": [
    "# Neural Network"
   ]
  },
  {
   "cell_type": "code",
   "execution_count": 19,
   "metadata": {},
   "outputs": [],
   "source": [
    "import keras"
   ]
  },
  {
   "cell_type": "code",
   "execution_count": 20,
   "metadata": {},
   "outputs": [],
   "source": [
    "from keras.layers import Dense, Dropout\n",
    "from keras.optimizers import SGD\n",
    "from keras.models import Sequential\n",
    "from keras.utils import to_categorical "
   ]
  },
  {
   "cell_type": "markdown",
   "metadata": {},
   "source": [
    "# Validation Data"
   ]
  },
  {
   "cell_type": "code",
   "execution_count": 21,
   "metadata": {},
   "outputs": [],
   "source": [
    "# Validation data \n",
    "\n",
    "X_train, X_val, Y_train, Y_val= train_test_split(X_train, Y_train, test_size=0.2)"
   ]
  },
  {
   "cell_type": "markdown",
   "metadata": {},
   "source": [
    "# To categorical"
   ]
  },
  {
   "cell_type": "code",
   "execution_count": 22,
   "metadata": {},
   "outputs": [],
   "source": [
    "Y_train = to_categorical(Y_train, num_classes=2)\n",
    "Y_test = to_categorical(Y_test, num_classes=2)\n",
    "Y_val = to_categorical(Y_val, num_classes=2)"
   ]
  },
  {
   "cell_type": "markdown",
   "metadata": {},
   "source": [
    "# Model"
   ]
  },
  {
   "cell_type": "code",
   "execution_count": 23,
   "metadata": {},
   "outputs": [],
   "source": [
    "model = Sequential()\n",
    "\n",
    "model.add(Dense(1024, input_shape=(X_train.shape[1],)))\n",
    "model.add(Dense(512, activation=\"relu\"))\n",
    "model.add(Dense(216, activation=\"relu\"))\n",
    "model.add(Dense(128, activation=\"relu\"))\n",
    "model.add(Dense(64, activation=\"relu\"))\n",
    "model.add(Dense(32, activation=\"relu\"))\n",
    "model.add(Dense(2, activation=\"sigmoid\"))"
   ]
  },
  {
   "cell_type": "code",
   "execution_count": 24,
   "metadata": {},
   "outputs": [
    {
     "name": "stdout",
     "output_type": "stream",
     "text": [
      "Model: \"sequential\"\n",
      "_________________________________________________________________\n",
      "Layer (type)                 Output Shape              Param #   \n",
      "=================================================================\n",
      "dense (Dense)                (None, 1024)              5120      \n",
      "_________________________________________________________________\n",
      "dense_1 (Dense)              (None, 512)               524800    \n",
      "_________________________________________________________________\n",
      "dense_2 (Dense)              (None, 216)               110808    \n",
      "_________________________________________________________________\n",
      "dense_3 (Dense)              (None, 128)               27776     \n",
      "_________________________________________________________________\n",
      "dense_4 (Dense)              (None, 64)                8256      \n",
      "_________________________________________________________________\n",
      "dense_5 (Dense)              (None, 32)                2080      \n",
      "_________________________________________________________________\n",
      "dense_6 (Dense)              (None, 2)                 66        \n",
      "=================================================================\n",
      "Total params: 678,906\n",
      "Trainable params: 678,906\n",
      "Non-trainable params: 0\n",
      "_________________________________________________________________\n"
     ]
    }
   ],
   "source": [
    "model.summary()"
   ]
  },
  {
   "cell_type": "markdown",
   "metadata": {},
   "source": [
    "# Compile "
   ]
  },
  {
   "cell_type": "code",
   "execution_count": 25,
   "metadata": {},
   "outputs": [],
   "source": [
    "model.compile(loss='categorical_crossentropy', metrics=['accuracy'])"
   ]
  },
  {
   "cell_type": "markdown",
   "metadata": {},
   "source": [
    "# Training the model"
   ]
  },
  {
   "cell_type": "code",
   "execution_count": 26,
   "metadata": {},
   "outputs": [
    {
     "name": "stdout",
     "output_type": "stream",
     "text": [
      "Epoch 1/100\n",
      "7/7 [==============================] - 2s 133ms/step - loss: 0.4797 - accuracy: 0.7835 - val_loss: 0.1058 - val_accuracy: 0.9455\n",
      "Epoch 2/100\n",
      "7/7 [==============================] - 0s 33ms/step - loss: 0.0774 - accuracy: 0.9617 - val_loss: 0.0275 - val_accuracy: 0.9955\n",
      "Epoch 3/100\n",
      "7/7 [==============================] - 0s 32ms/step - loss: 0.0304 - accuracy: 0.9829 - val_loss: 0.0113 - val_accuracy: 1.0000\n",
      "Epoch 4/100\n",
      "7/7 [==============================] - 0s 30ms/step - loss: 0.0234 - accuracy: 0.9901 - val_loss: 0.3741 - val_accuracy: 0.9182\n",
      "Epoch 5/100\n",
      "7/7 [==============================] - 0s 35ms/step - loss: 0.0719 - accuracy: 0.9770 - val_loss: 0.0042 - val_accuracy: 1.0000\n",
      "Epoch 6/100\n",
      "7/7 [==============================] - 0s 36ms/step - loss: 0.0042 - accuracy: 1.0000 - val_loss: 0.0016 - val_accuracy: 1.0000\n",
      "Epoch 7/100\n",
      "7/7 [==============================] - 0s 37ms/step - loss: 0.0022 - accuracy: 1.0000 - val_loss: 0.0028 - val_accuracy: 1.0000\n",
      "Epoch 8/100\n",
      "7/7 [==============================] - 0s 33ms/step - loss: 8.4059e-04 - accuracy: 1.0000 - val_loss: 3.9288e-04 - val_accuracy: 1.0000\n",
      "Epoch 9/100\n",
      "7/7 [==============================] - 0s 34ms/step - loss: 6.7824e-04 - accuracy: 1.0000 - val_loss: 1.9480e-04 - val_accuracy: 1.0000\n",
      "Epoch 10/100\n",
      "7/7 [==============================] - 0s 34ms/step - loss: 0.0192 - accuracy: 0.9963 - val_loss: 0.0295 - val_accuracy: 0.9818\n",
      "Epoch 11/100\n",
      "7/7 [==============================] - 0s 35ms/step - loss: 0.0059 - accuracy: 0.9983 - val_loss: 0.0020 - val_accuracy: 1.0000\n",
      "Epoch 12/100\n",
      "7/7 [==============================] - 0s 34ms/step - loss: 0.0013 - accuracy: 1.0000 - val_loss: 8.7056e-04 - val_accuracy: 1.0000\n",
      "Epoch 13/100\n",
      "7/7 [==============================] - 0s 38ms/step - loss: 5.9577e-04 - accuracy: 1.0000 - val_loss: 3.8715e-04 - val_accuracy: 1.0000\n",
      "Epoch 14/100\n",
      "7/7 [==============================] - 0s 33ms/step - loss: 3.5848e-04 - accuracy: 1.0000 - val_loss: 1.7817e-04 - val_accuracy: 1.0000\n",
      "Epoch 15/100\n",
      "7/7 [==============================] - 0s 36ms/step - loss: 1.0082e-04 - accuracy: 1.0000 - val_loss: 8.9720e-05 - val_accuracy: 1.0000\n",
      "Epoch 16/100\n",
      "7/7 [==============================] - 0s 37ms/step - loss: 8.3450e-05 - accuracy: 1.0000 - val_loss: 4.4631e-05 - val_accuracy: 1.0000\n",
      "Epoch 17/100\n",
      "7/7 [==============================] - 0s 35ms/step - loss: 4.5087e-05 - accuracy: 1.0000 - val_loss: 2.8833e-05 - val_accuracy: 1.0000\n",
      "Epoch 18/100\n",
      "7/7 [==============================] - 0s 34ms/step - loss: 2.0905e-05 - accuracy: 1.0000 - val_loss: 1.9954e-05 - val_accuracy: 1.0000\n",
      "Epoch 19/100\n",
      "7/7 [==============================] - 0s 34ms/step - loss: 1.3406e-05 - accuracy: 1.0000 - val_loss: 1.0143e-05 - val_accuracy: 1.0000\n",
      "Epoch 20/100\n",
      "7/7 [==============================] - 0s 38ms/step - loss: 1.3128e-05 - accuracy: 1.0000 - val_loss: 9.9712e-06 - val_accuracy: 1.0000\n",
      "Epoch 21/100\n",
      "7/7 [==============================] - 0s 38ms/step - loss: 9.5333e-06 - accuracy: 1.0000 - val_loss: 3.3149e-06 - val_accuracy: 1.0000\n",
      "Epoch 22/100\n",
      "7/7 [==============================] - 0s 39ms/step - loss: 1.6362e-05 - accuracy: 1.0000 - val_loss: 1.0129e-05 - val_accuracy: 1.0000\n",
      "Epoch 23/100\n",
      "7/7 [==============================] - 0s 41ms/step - loss: 4.8957e-06 - accuracy: 1.0000 - val_loss: 1.1428e-06 - val_accuracy: 1.0000\n",
      "Epoch 24/100\n",
      "7/7 [==============================] - 0s 41ms/step - loss: 1.4245e-06 - accuracy: 1.0000 - val_loss: 8.8539e-07 - val_accuracy: 1.0000\n",
      "Epoch 25/100\n",
      "7/7 [==============================] - 0s 41ms/step - loss: 1.2321e-06 - accuracy: 1.0000 - val_loss: 7.5101e-07 - val_accuracy: 1.0000\n",
      "Epoch 26/100\n",
      "7/7 [==============================] - 0s 35ms/step - loss: 6.2717e-07 - accuracy: 1.0000 - val_loss: 8.2252e-07 - val_accuracy: 1.0000\n",
      "Epoch 27/100\n",
      "7/7 [==============================] - 0s 42ms/step - loss: 6.3332e-07 - accuracy: 1.0000 - val_loss: 2.9802e-07 - val_accuracy: 1.0000\n",
      "Epoch 28/100\n",
      "7/7 [==============================] - 0s 39ms/step - loss: 5.0807e-07 - accuracy: 1.0000 - val_loss: 3.9610e-07 - val_accuracy: 1.0000\n",
      "Epoch 29/100\n",
      "7/7 [==============================] - 0s 40ms/step - loss: 3.3927e-07 - accuracy: 1.0000 - val_loss: 1.4684e-07 - val_accuracy: 1.0000\n",
      "Epoch 30/100\n",
      "7/7 [==============================] - 0s 40ms/step - loss: 2.0496e-07 - accuracy: 1.0000 - val_loss: 2.5088e-07 - val_accuracy: 1.0000\n",
      "Epoch 31/100\n",
      "7/7 [==============================] - 0s 41ms/step - loss: 1.0764e-07 - accuracy: 1.0000 - val_loss: 3.1265e-07 - val_accuracy: 1.0000\n",
      "Epoch 32/100\n",
      "7/7 [==============================] - 0s 39ms/step - loss: 1.1052e-07 - accuracy: 1.0000 - val_loss: 2.0374e-07 - val_accuracy: 1.0000\n",
      "Epoch 33/100\n",
      "7/7 [==============================] - 0s 36ms/step - loss: 9.9453e-08 - accuracy: 1.0000 - val_loss: 1.2950e-07 - val_accuracy: 1.0000\n",
      "Epoch 34/100\n",
      "7/7 [==============================] - 0s 40ms/step - loss: 5.0082e-08 - accuracy: 1.0000 - val_loss: 9.9160e-08 - val_accuracy: 1.0000\n",
      "Epoch 35/100\n",
      "7/7 [==============================] - 0s 45ms/step - loss: 4.4390e-08 - accuracy: 1.0000 - val_loss: 2.2216e-08 - val_accuracy: 1.0000\n",
      "Epoch 36/100\n",
      "7/7 [==============================] - 0s 44ms/step - loss: 5.6308e-08 - accuracy: 1.0000 - val_loss: 3.6846e-08 - val_accuracy: 1.0000\n",
      "Epoch 37/100\n",
      "7/7 [==============================] - 0s 44ms/step - loss: 3.2735e-08 - accuracy: 1.0000 - val_loss: 2.9260e-08 - val_accuracy: 1.0000\n",
      "Epoch 38/100\n",
      "7/7 [==============================] - 0s 43ms/step - loss: 1.3049e-08 - accuracy: 1.0000 - val_loss: 7.9111e-08 - val_accuracy: 1.0000\n",
      "Epoch 39/100\n",
      "7/7 [==============================] - 0s 42ms/step - loss: 1.1357e-08 - accuracy: 1.0000 - val_loss: 5.9605e-09 - val_accuracy: 1.0000\n",
      "Epoch 40/100\n",
      "7/7 [==============================] - 0s 46ms/step - loss: 2.6914e-08 - accuracy: 1.0000 - val_loss: 4.3349e-09 - val_accuracy: 1.0000\n",
      "Epoch 41/100\n",
      "7/7 [==============================] - 0s 36ms/step - loss: 1.6049e-08 - accuracy: 1.0000 - val_loss: 1.4088e-08 - val_accuracy: 1.0000\n",
      "Epoch 42/100\n",
      "7/7 [==============================] - 0s 39ms/step - loss: 8.3166e-09 - accuracy: 1.0000 - val_loss: 1.0837e-08 - val_accuracy: 1.0000\n",
      "Epoch 43/100\n",
      "7/7 [==============================] - 0s 46ms/step - loss: 5.7144e-09 - accuracy: 1.0000 - val_loss: 1.3547e-08 - val_accuracy: 1.0000\n",
      "Epoch 44/100\n",
      "7/7 [==============================] - 0s 45ms/step - loss: 6.8288e-09 - accuracy: 1.0000 - val_loss: 1.7340e-08 - val_accuracy: 1.0000\n",
      "Epoch 45/100\n",
      "7/7 [==============================] - 0s 47ms/step - loss: 4.8981e-09 - accuracy: 1.0000 - val_loss: 8.1279e-09 - val_accuracy: 1.0000\n",
      "Epoch 46/100\n",
      "7/7 [==============================] - 0s 42ms/step - loss: 3.0993e-09 - accuracy: 1.0000 - val_loss: 1.4088e-08 - val_accuracy: 1.0000\n",
      "Epoch 47/100\n",
      "7/7 [==============================] - 0s 42ms/step - loss: 2.4531e-09 - accuracy: 1.0000 - val_loss: 9.7535e-09 - val_accuracy: 1.0000\n",
      "Epoch 48/100\n",
      "7/7 [==============================] - 0s 36ms/step - loss: 2.4336e-09 - accuracy: 1.0000 - val_loss: 8.6698e-09 - val_accuracy: 1.0000\n",
      "Epoch 49/100\n",
      "7/7 [==============================] - 0s 38ms/step - loss: 1.9505e-09 - accuracy: 1.0000 - val_loss: 8.6698e-09 - val_accuracy: 1.0000\n",
      "Epoch 50/100\n",
      "7/7 [==============================] - 0s 36ms/step - loss: 1.2363e-09 - accuracy: 1.0000 - val_loss: 7.0442e-09 - val_accuracy: 1.0000\n",
      "Epoch 51/100\n",
      "7/7 [==============================] - 0s 36ms/step - loss: 2.5256e-09 - accuracy: 1.0000 - val_loss: 7.5860e-09 - val_accuracy: 1.0000\n",
      "Epoch 52/100\n",
      "7/7 [==============================] - 0s 38ms/step - loss: 1.4924e-09 - accuracy: 1.0000 - val_loss: 5.4186e-09 - val_accuracy: 1.0000\n",
      "Epoch 53/100\n",
      "7/7 [==============================] - 0s 47ms/step - loss: 9.2384e-10 - accuracy: 1.0000 - val_loss: 8.6698e-09 - val_accuracy: 1.0000\n",
      "Epoch 54/100\n",
      "7/7 [==============================] - 0s 38ms/step - loss: 2.0036e-09 - accuracy: 1.0000 - val_loss: 5.9605e-09 - val_accuracy: 1.0000\n",
      "Epoch 55/100\n",
      "7/7 [==============================] - 0s 36ms/step - loss: 1.5098e-09 - accuracy: 1.0000 - val_loss: 6.5023e-09 - val_accuracy: 1.0000\n",
      "Epoch 56/100\n"
     ]
    },
    {
     "name": "stdout",
     "output_type": "stream",
     "text": [
      "7/7 [==============================] - 0s 36ms/step - loss: 2.1443e-09 - accuracy: 1.0000 - val_loss: 7.0442e-09 - val_accuracy: 1.0000\n",
      "Epoch 57/100\n",
      "7/7 [==============================] - 0s 41ms/step - loss: 1.1149e-09 - accuracy: 1.0000 - val_loss: 4.8767e-09 - val_accuracy: 1.0000\n",
      "Epoch 58/100\n",
      "7/7 [==============================] - 0s 34ms/step - loss: 9.5189e-10 - accuracy: 1.0000 - val_loss: 3.7930e-09 - val_accuracy: 1.0000\n",
      "Epoch 59/100\n",
      "7/7 [==============================] - 0s 37ms/step - loss: 4.7359e-10 - accuracy: 1.0000 - val_loss: 4.3349e-09 - val_accuracy: 1.0000\n",
      "Epoch 60/100\n",
      "7/7 [==============================] - 0s 39ms/step - loss: 9.2567e-10 - accuracy: 1.0000 - val_loss: 4.3349e-09 - val_accuracy: 1.0000\n",
      "Epoch 61/100\n",
      "7/7 [==============================] - 0s 36ms/step - loss: 7.6851e-10 - accuracy: 1.0000 - val_loss: 4.3349e-09 - val_accuracy: 1.0000\n",
      "Epoch 62/100\n",
      "7/7 [==============================] - 0s 33ms/step - loss: 9.0432e-10 - accuracy: 1.0000 - val_loss: 5.4186e-09 - val_accuracy: 1.0000\n",
      "Epoch 63/100\n",
      "7/7 [==============================] - 0s 32ms/step - loss: 5.9776e-10 - accuracy: 1.0000 - val_loss: 4.3349e-09 - val_accuracy: 1.0000\n",
      "Epoch 64/100\n",
      "7/7 [==============================] - 0s 33ms/step - loss: 7.0836e-10 - accuracy: 1.0000 - val_loss: 4.3349e-09 - val_accuracy: 1.0000\n",
      "Epoch 65/100\n",
      "7/7 [==============================] - 0s 35ms/step - loss: 8.1507e-10 - accuracy: 1.0000 - val_loss: 3.7930e-09 - val_accuracy: 1.0000\n",
      "Epoch 66/100\n",
      "7/7 [==============================] - 0s 31ms/step - loss: 5.7448e-10 - accuracy: 1.0000 - val_loss: 3.2512e-09 - val_accuracy: 1.0000\n",
      "Epoch 67/100\n",
      "7/7 [==============================] - 0s 32ms/step - loss: 4.8135e-10 - accuracy: 1.0000 - val_loss: 3.2512e-09 - val_accuracy: 1.0000\n",
      "Epoch 68/100\n",
      "7/7 [==============================] - 0s 33ms/step - loss: 8.8686e-10 - accuracy: 1.0000 - val_loss: 3.7930e-09 - val_accuracy: 1.0000\n",
      "Epoch 69/100\n",
      "7/7 [==============================] - 0s 32ms/step - loss: 9.0432e-10 - accuracy: 1.0000 - val_loss: 3.2512e-09 - val_accuracy: 1.0000\n",
      "Epoch 70/100\n",
      "7/7 [==============================] - 0s 33ms/step - loss: 8.4612e-10 - accuracy: 1.0000 - val_loss: 4.3349e-09 - val_accuracy: 1.0000\n",
      "Epoch 71/100\n",
      "7/7 [==============================] - 0s 34ms/step - loss: 6.4045e-10 - accuracy: 1.0000 - val_loss: 4.3349e-09 - val_accuracy: 1.0000\n",
      "Epoch 72/100\n",
      "7/7 [==============================] - 0s 33ms/step - loss: 7.3841e-10 - accuracy: 1.0000 - val_loss: 3.2512e-09 - val_accuracy: 1.0000\n",
      "Epoch 73/100\n",
      "7/7 [==============================] - 0s 32ms/step - loss: 5.4632e-10 - accuracy: 1.0000 - val_loss: 3.7930e-09 - val_accuracy: 1.0000\n",
      "Epoch 74/100\n",
      "7/7 [==============================] - 0s 39ms/step - loss: 8.2572e-10 - accuracy: 1.0000 - val_loss: 4.3349e-09 - val_accuracy: 1.0000\n",
      "Epoch 75/100\n",
      "7/7 [==============================] - 0s 36ms/step - loss: 8.0144e-10 - accuracy: 1.0000 - val_loss: 3.2512e-09 - val_accuracy: 1.0000\n",
      "Epoch 76/100\n",
      "7/7 [==============================] - 0s 34ms/step - loss: 7.9756e-10 - accuracy: 1.0000 - val_loss: 3.2512e-09 - val_accuracy: 1.0000\n",
      "Epoch 77/100\n",
      "7/7 [==============================] - 0s 36ms/step - loss: 2.3194e-10 - accuracy: 1.0000 - val_loss: 2.7093e-09 - val_accuracy: 1.0000\n",
      "Epoch 78/100\n",
      "7/7 [==============================] - 0s 39ms/step - loss: 2.9309e-10 - accuracy: 1.0000 - val_loss: 2.7093e-09 - val_accuracy: 1.0000\n",
      "Epoch 79/100\n",
      "7/7 [==============================] - 0s 35ms/step - loss: 2.5035e-10 - accuracy: 1.0000 - val_loss: 2.7093e-09 - val_accuracy: 1.0000\n",
      "Epoch 80/100\n",
      "7/7 [==============================] - 0s 37ms/step - loss: 1.1065e-10 - accuracy: 1.0000 - val_loss: 2.7093e-09 - val_accuracy: 1.0000\n",
      "Epoch 81/100\n",
      "7/7 [==============================] - 0s 41ms/step - loss: 1.3005e-10 - accuracy: 1.0000 - val_loss: 2.7093e-09 - val_accuracy: 1.0000\n",
      "Epoch 82/100\n",
      "7/7 [==============================] - 0s 38ms/step - loss: 0.0000e+00 - accuracy: 1.0000 - val_loss: 2.1674e-09 - val_accuracy: 1.0000\n",
      "Epoch 83/100\n",
      "7/7 [==============================] - 0s 36ms/step - loss: 3.1920e-10 - accuracy: 1.0000 - val_loss: 2.1674e-09 - val_accuracy: 1.0000\n",
      "Epoch 84/100\n",
      "7/7 [==============================] - 0s 35ms/step - loss: 3.3982e-11 - accuracy: 1.0000 - val_loss: 2.7093e-09 - val_accuracy: 1.0000\n",
      "Epoch 85/100\n",
      "7/7 [==============================] - 0s 36ms/step - loss: 0.0000e+00 - accuracy: 1.0000 - val_loss: 2.1674e-09 - val_accuracy: 1.0000\n",
      "Epoch 86/100\n",
      "7/7 [==============================] - 0s 38ms/step - loss: 0.0000e+00 - accuracy: 1.0000 - val_loss: 1.6256e-09 - val_accuracy: 1.0000\n",
      "Epoch 87/100\n",
      "7/7 [==============================] - 0s 36ms/step - loss: 0.0000e+00 - accuracy: 1.0000 - val_loss: 1.6256e-09 - val_accuracy: 1.0000\n",
      "Epoch 88/100\n",
      "7/7 [==============================] - 0s 35ms/step - loss: 0.0000e+00 - accuracy: 1.0000 - val_loss: 1.6256e-09 - val_accuracy: 1.0000\n",
      "Epoch 89/100\n",
      "7/7 [==============================] - 0s 36ms/step - loss: 1.0577e-10 - accuracy: 1.0000 - val_loss: 1.6256e-09 - val_accuracy: 1.0000\n",
      "Epoch 90/100\n",
      "7/7 [==============================] - 0s 41ms/step - loss: 0.0000e+00 - accuracy: 1.0000 - val_loss: 1.6256e-09 - val_accuracy: 1.0000\n",
      "Epoch 91/100\n",
      "7/7 [==============================] - 0s 35ms/step - loss: 0.0000e+00 - accuracy: 1.0000 - val_loss: 1.6256e-09 - val_accuracy: 1.0000\n",
      "Epoch 92/100\n",
      "7/7 [==============================] - 0s 35ms/step - loss: 0.0000e+00 - accuracy: 1.0000 - val_loss: 1.6256e-09 - val_accuracy: 1.0000\n",
      "Epoch 93/100\n",
      "7/7 [==============================] - 0s 35ms/step - loss: 0.0000e+00 - accuracy: 1.0000 - val_loss: 1.6256e-09 - val_accuracy: 1.0000\n",
      "Epoch 94/100\n",
      "7/7 [==============================] - 0s 37ms/step - loss: 0.0000e+00 - accuracy: 1.0000 - val_loss: 1.6256e-09 - val_accuracy: 1.0000\n",
      "Epoch 95/100\n",
      "7/7 [==============================] - 0s 36ms/step - loss: 0.0000e+00 - accuracy: 1.0000 - val_loss: 1.6256e-09 - val_accuracy: 1.0000\n",
      "Epoch 96/100\n",
      "7/7 [==============================] - 0s 36ms/step - loss: 0.0000e+00 - accuracy: 1.0000 - val_loss: 1.6256e-09 - val_accuracy: 1.0000\n",
      "Epoch 97/100\n",
      "7/7 [==============================] - 0s 35ms/step - loss: 0.0000e+00 - accuracy: 1.0000 - val_loss: 1.6256e-09 - val_accuracy: 1.0000\n",
      "Epoch 98/100\n",
      "7/7 [==============================] - 0s 36ms/step - loss: 0.0000e+00 - accuracy: 1.0000 - val_loss: 1.6256e-09 - val_accuracy: 1.0000\n",
      "Epoch 99/100\n",
      "7/7 [==============================] - 0s 32ms/step - loss: 0.0000e+00 - accuracy: 1.0000 - val_loss: 1.6256e-09 - val_accuracy: 1.0000\n",
      "Epoch 100/100\n",
      "7/7 [==============================] - 0s 37ms/step - loss: 0.0000e+00 - accuracy: 1.0000 - val_loss: 1.6256e-09 - val_accuracy: 1.0000\n"
     ]
    }
   ],
   "source": [
    "history = model.fit(X_train, Y_train,\n",
    "         batch_size=128,epochs=100,\n",
    "         validation_data = (X_val, Y_val))"
   ]
  },
  {
   "cell_type": "markdown",
   "metadata": {},
   "source": [
    "# Visualizing the model"
   ]
  },
  {
   "cell_type": "code",
   "execution_count": 27,
   "metadata": {},
   "outputs": [
    {
     "name": "stdout",
     "output_type": "stream",
     "text": [
      "dict_keys(['loss', 'accuracy', 'val_loss', 'val_accuracy'])\n"
     ]
    },
    {
     "data": {
      "image/png": "[encoded data removed]",
      "text/plain": [
       "<Figure size 432x288 with 1 Axes>"
      ]
     },
     "metadata": {
      "needs_background": "light"
     },
     "output_type": "display_data"
    },
    {
     "data": {
      "image/png": "[encoded data removed]",
      "text/plain": [
       "<Figure size 432x288 with 1 Axes>"
      ]
     },
     "metadata": {
      "needs_background": "light"
     },
     "output_type": "display_data"
    }
   ],
   "source": [
    "import matplotlib.pyplot as plt\n",
    "print(history.history.keys())\n",
    "# summarize history for accuracy\n",
    "plt.plot(history.history['accuracy'])\n",
    "plt.plot(history.history['val_accuracy'])\n",
    "plt.title('model accuracy')\n",
    "plt.ylabel('accuracy')\n",
    "plt.xlabel('epoch')\n",
    "plt.legend(['train', 'test'])\n",
    "plt.show()\n",
    "\n",
    "\n",
    "# summarize history for loss\n",
    "plt.plot(history.history['loss'])\n",
    "plt.plot(history.history['val_loss'])\n",
    "plt.title('model loss')\n",
    "plt.ylabel('loss')\n",
    "plt.xlabel('epoch')\n",
    "plt.legend(['train', 'test'])\n",
    "plt.show()\n",
    "\n",
    "\n",
    "#Evaluating Model\n",
    "score  = model.predict_classes(X_test)\n"
   ]
  },
  {
   "cell_type": "markdown",
   "metadata": {},
   "source": [
    "# Converting from categorical to normal classes"
   ]
  },
  {
   "cell_type": "code",
   "execution_count": 28,
   "metadata": {},
   "outputs": [],
   "source": [
    "\n",
    "def cate(Y_test):\n",
    "    Y_test_ = []\n",
    "    for i in Y_test:\n",
    "        Y_test_.append(np.argmax(i))\n",
    "        \n",
    "    return Y_test_\n",
    "\n",
    "Y_train_ = cate(Y_train)\n",
    "Y_test_ = cate(Y_test)"
   ]
  },
  {
   "cell_type": "markdown",
   "metadata": {},
   "source": [
    "# Accuracy Score "
   ]
  },
  {
   "cell_type": "code",
   "execution_count": 29,
   "metadata": {},
   "outputs": [
    {
     "name": "stdout",
     "output_type": "stream",
     "text": [
      "Test Accuracy score of the data 1.0\n",
      "Train Accuracy score of the data 1.0\n"
     ]
    }
   ],
   "source": [
    "from sklearn.metrics import accuracy_score, classification_report\n",
    "\n",
    "print(f\"Test Accuracy score of the data {accuracy_score(score, Y_test_)}\")\n",
    "print(f\"Train Accuracy score of the data {accuracy_score(model.predict_classes(X_train), Y_train_)}\")"
   ]
  },
  {
   "cell_type": "markdown",
   "metadata": {},
   "source": [
    "# Classification Report"
   ]
  },
  {
   "cell_type": "code",
   "execution_count": 30,
   "metadata": {},
   "outputs": [
    {
     "name": "stdout",
     "output_type": "stream",
     "text": [
      "********* TRAIN CLASSIFICATION REPORT ***********\n",
      " \n",
      "              precision    recall  f1-score   support\n",
      "\n",
      "           0       1.00      1.00      1.00       497\n",
      "           1       1.00      1.00      1.00       380\n",
      "\n",
      "    accuracy                           1.00       877\n",
      "   macro avg       1.00      1.00      1.00       877\n",
      "weighted avg       1.00      1.00      1.00       877\n",
      "\n",
      " \n",
      "********* TEST CLASSIFICATION REPORT ***********\n",
      " \n",
      "              precision    recall  f1-score   support\n",
      "\n",
      "           0       1.00      1.00      1.00       155\n",
      "           1       1.00      1.00      1.00       120\n",
      "\n",
      "    accuracy                           1.00       275\n",
      "   macro avg       1.00      1.00      1.00       275\n",
      "weighted avg       1.00      1.00      1.00       275\n",
      "\n"
     ]
    }
   ],
   "source": [
    "print(\"********* TRAIN CLASSIFICATION REPORT ***********\")\n",
    "print(\" \")\n",
    "print(classification_report(model.predict_classes(X_train), Y_train_))\n",
    "\n",
    "print(\" \")\n",
    "\n",
    "print(\"********* TEST CLASSIFICATION REPORT ***********\")\n",
    "print(\" \")\n",
    "print(classification_report(score, Y_test_))"
   ]
  },
  {
   "cell_type": "code",
   "execution_count": null,
   "metadata": {},
   "outputs": [],
   "source": []
  }
 ],
 "metadata": {
  "kernelspec": {
   "display_name": "Python 3",
   "language": "python",
   "name": "python3"
  },
  "language_info": {
   "codemirror_mode": {
    "name": "ipython",
    "version": 3
   },
   "file_extension": ".py",
   "mimetype": "text/x-python",
   "name": "python",
   "nbconvert_exporter": "python",
   "pygments_lexer": "ipython3",
   "version": "3.7.10"
  }
 },
 "nbformat": 4,
 "nbformat_minor": 4
}
