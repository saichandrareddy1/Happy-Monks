{
 "cells": [
  {
   "cell_type": "code",
   "execution_count": 1,
   "id": "f3a71090",
   "metadata": {},
   "outputs": [],
   "source": [
    "import numpy as np\n",
    "import pandas as pd\n",
    "import matplotlib.pyplot as plt\n",
    "import seaborn as sns\n",
    "import warnings\n",
    "warnings.filterwarnings('ignore')"
   ]
  },
  {
   "cell_type": "code",
   "execution_count": 2,
   "id": "a17d205c",
   "metadata": {},
   "outputs": [],
   "source": [
    "data = pd.read_csv(\"./breast-cancer-wisconsin-data_data.csv\")"
   ]
  },
  {
   "cell_type": "code",
   "execution_count": 3,
   "id": "b8a28662",
   "metadata": {},
   "outputs": [],
   "source": [
    "data.drop(['id', 'Unnamed: 32'], axis=1, inplace=True)"
   ]
  },
  {
   "cell_type": "code",
   "execution_count": 4,
   "id": "6f63fc96",
   "metadata": {},
   "outputs": [
    {
     "name": "stdout",
     "output_type": "stream",
     "text": [
      "<class 'pandas.core.frame.DataFrame'>\n",
      "RangeIndex: 569 entries, 0 to 568\n",
      "Data columns (total 31 columns):\n",
      " #   Column                   Non-Null Count  Dtype  \n",
      "---  ------                   --------------  -----  \n",
      " 0   diagnosis                569 non-null    object \n",
      " 1   radius_mean              569 non-null    float64\n",
      " 2   texture_mean             569 non-null    float64\n",
      " 3   perimeter_mean           569 non-null    float64\n",
      " 4   area_mean                569 non-null    float64\n",
      " 5   smoothness_mean          569 non-null    float64\n",
      " 6   compactness_mean         569 non-null    float64\n",
      " 7   concavity_mean           569 non-null    float64\n",
      " 8   concave points_mean      569 non-null    float64\n",
      " 9   symmetry_mean            569 non-null    float64\n",
      " 10  fractal_dimension_mean   569 non-null    float64\n",
      " 11  radius_se                569 non-null    float64\n",
      " 12  texture_se               569 non-null    float64\n",
      " 13  perimeter_se             569 non-null    float64\n",
      " 14  area_se                  569 non-null    float64\n",
      " 15  smoothness_se            569 non-null    float64\n",
      " 16  compactness_se           569 non-null    float64\n",
      " 17  concavity_se             569 non-null    float64\n",
      " 18  concave points_se        569 non-null    float64\n",
      " 19  symmetry_se              569 non-null    float64\n",
      " 20  fractal_dimension_se     569 non-null    float64\n",
      " 21  radius_worst             569 non-null    float64\n",
      " 22  texture_worst            569 non-null    float64\n",
      " 23  perimeter_worst          569 non-null    float64\n",
      " 24  area_worst               569 non-null    float64\n",
      " 25  smoothness_worst         569 non-null    float64\n",
      " 26  compactness_worst        569 non-null    float64\n",
      " 27  concavity_worst          569 non-null    float64\n",
      " 28  concave points_worst     569 non-null    float64\n",
      " 29  symmetry_worst           569 non-null    float64\n",
      " 30  fractal_dimension_worst  569 non-null    float64\n",
      "dtypes: float64(30), object(1)\n",
      "memory usage: 137.9+ KB\n"
     ]
    }
   ],
   "source": [
    "data.info()"
   ]
  },
  {
   "cell_type": "code",
   "execution_count": 5,
   "id": "f97654a8",
   "metadata": {},
   "outputs": [
    {
     "name": "stdout",
     "output_type": "stream",
     "text": [
      "Classes of the data dict_keys(['M', 'B'])\n",
      "count of the data dict_values([212, 357])\n"
     ]
    }
   ],
   "source": [
    "from collections import Counter\n",
    "\n",
    "c = Counter(data['diagnosis'])\n",
    "print(f\"Classes of the data {c.keys()}\")\n",
    "print(f\"count of the data {c.values()}\")"
   ]
  },
  {
   "cell_type": "code",
   "execution_count": 6,
   "id": "f2debfc0",
   "metadata": {},
   "outputs": [
    {
     "data": {
      "image/png": "[encoded data removed]",
      "text/plain": [
       "<Figure size 432x288 with 1 Axes>"
      ]
     },
     "metadata": {
      "needs_background": "light"
     },
     "output_type": "display_data"
    }
   ],
   "source": [
    "x = list(c.keys())\n",
    "xval = []\n",
    "h = list(c.values())\n",
    "\n",
    "for i in x:\n",
    "    xval.append(str(i))\n",
    "\n",
    "sns.barplot(x=xval,y=h,data=data)\n",
    "plt.show()"
   ]
  },
  {
   "cell_type": "code",
   "execution_count": 7,
   "id": "eac95a6b",
   "metadata": {},
   "outputs": [],
   "source": [
    "from sklearn.preprocessing import LabelEncoder\n",
    "\n",
    "lb = LabelEncoder()\n",
    "data['diagnosis'] = lb.fit_transform(data['diagnosis'])"
   ]
  },
  {
   "cell_type": "code",
   "execution_count": 8,
   "id": "4af87893",
   "metadata": {},
   "outputs": [],
   "source": [
    "from sklearn.utils import shuffle\n",
    "\n",
    "\n",
    "data_S = shuffle(data.values)"
   ]
  },
  {
   "cell_type": "code",
   "execution_count": 9,
   "id": "55980e75",
   "metadata": {},
   "outputs": [
    {
     "data": {
      "text/plain": [
       "array([[0.000e+00, 1.026e+01, 1.222e+01, ..., 6.696e-02, 2.937e-01,\n",
       "        7.722e-02],\n",
       "       [0.000e+00, 1.120e+01, 2.937e+01, ..., 0.000e+00, 1.566e-01,\n",
       "        5.905e-02],\n",
       "       [0.000e+00, 8.598e+00, 2.098e+01, ..., 2.778e-02, 2.972e-01,\n",
       "        7.712e-02],\n",
       "       ...,\n",
       "       [1.000e+00, 1.921e+01, 1.857e+01, ..., 2.091e-01, 3.537e-01,\n",
       "        8.294e-02],\n",
       "       [1.000e+00, 1.512e+01, 1.668e+01, ..., 1.252e-01, 3.415e-01,\n",
       "        9.740e-02],\n",
       "       [0.000e+00, 9.904e+00, 1.806e+01, ..., 9.910e-02, 2.614e-01,\n",
       "        1.162e-01]])"
      ]
     },
     "execution_count": 9,
     "metadata": {},
     "output_type": "execute_result"
    }
   ],
   "source": [
    "data_S"
   ]
  },
  {
   "cell_type": "code",
   "execution_count": 10,
   "id": "7bdfd61e",
   "metadata": {},
   "outputs": [],
   "source": [
    "X = data_S[:, 1:]\n",
    "Y = data_S[:, 0]"
   ]
  },
  {
   "cell_type": "code",
   "execution_count": 11,
   "id": "24b3ec07",
   "metadata": {},
   "outputs": [
    {
     "data": {
      "text/plain": [
       "array([[1.026e+01, 1.222e+01, 6.575e+01, ..., 6.696e-02, 2.937e-01,\n",
       "        7.722e-02],\n",
       "       [1.120e+01, 2.937e+01, 7.067e+01, ..., 0.000e+00, 1.566e-01,\n",
       "        5.905e-02],\n",
       "       [8.598e+00, 2.098e+01, 5.466e+01, ..., 2.778e-02, 2.972e-01,\n",
       "        7.712e-02],\n",
       "       ...,\n",
       "       [1.921e+01, 1.857e+01, 1.255e+02, ..., 2.091e-01, 3.537e-01,\n",
       "        8.294e-02],\n",
       "       [1.512e+01, 1.668e+01, 9.878e+01, ..., 1.252e-01, 3.415e-01,\n",
       "        9.740e-02],\n",
       "       [9.904e+00, 1.806e+01, 6.460e+01, ..., 9.910e-02, 2.614e-01,\n",
       "        1.162e-01]])"
      ]
     },
     "execution_count": 11,
     "metadata": {},
     "output_type": "execute_result"
    }
   ],
   "source": [
    "X"
   ]
  },
  {
   "cell_type": "code",
   "execution_count": 12,
   "id": "aa57540c",
   "metadata": {},
   "outputs": [],
   "source": [
    "from sklearn.preprocessing import StandardScaler\n",
    "\n",
    "sc = StandardScaler()"
   ]
  },
  {
   "cell_type": "code",
   "execution_count": 13,
   "id": "8b1c4b3f",
   "metadata": {},
   "outputs": [],
   "source": [
    "X = sc.fit_transform(X)"
   ]
  },
  {
   "cell_type": "code",
   "execution_count": 14,
   "id": "ea188298",
   "metadata": {},
   "outputs": [],
   "source": [
    "from sklearn.model_selection import train_test_split\n",
    "\n",
    "X_train, X_test, Y_train, Y_test = train_test_split(X, Y, test_size=0.2)"
   ]
  },
  {
   "cell_type": "code",
   "execution_count": 15,
   "id": "4cad866a",
   "metadata": {},
   "outputs": [],
   "source": [
    "from sklearn.svm import SVC\n",
    "svc = SVC().fit(X_train, Y_train)"
   ]
  },
  {
   "cell_type": "code",
   "execution_count": 16,
   "id": "0667abc0",
   "metadata": {},
   "outputs": [],
   "source": [
    "y_pred = svc.predict(X_test)"
   ]
  },
  {
   "cell_type": "code",
   "execution_count": 17,
   "id": "79fdb410",
   "metadata": {},
   "outputs": [
    {
     "name": "stdout",
     "output_type": "stream",
     "text": [
      "Test Accuracy score of the data 0.9649122807017544\n",
      "Train Accuracy score of the data 0.9934065934065934\n"
     ]
    }
   ],
   "source": [
    "from sklearn.metrics import accuracy_score, classification_report, confusion_matrix\n",
    "\n",
    "print(f\"Test Accuracy score of the data {accuracy_score(y_pred, Y_test)}\")\n",
    "print(f\"Train Accuracy score of the data {accuracy_score(svc.predict(X_train), Y_train)}\")"
   ]
  },
  {
   "cell_type": "code",
   "execution_count": 18,
   "id": "f1414fbc",
   "metadata": {},
   "outputs": [
    {
     "name": "stdout",
     "output_type": "stream",
     "text": [
      "********* TRAIN CLASSIFICATION REPORT ***********\n",
      " \n",
      "              precision    recall  f1-score   support\n",
      "\n",
      "         0.0       1.00      0.99      0.99       292\n",
      "         1.0       0.98      1.00      0.99       163\n",
      "\n",
      "    accuracy                           0.99       455\n",
      "   macro avg       0.99      0.99      0.99       455\n",
      "weighted avg       0.99      0.99      0.99       455\n",
      "\n",
      " \n",
      "********* TEST CLASSIFICATION REPORT ***********\n",
      " \n",
      "              precision    recall  f1-score   support\n",
      "\n",
      "         0.0       1.00      0.94      0.97        72\n",
      "         1.0       0.91      1.00      0.95        42\n",
      "\n",
      "    accuracy                           0.96       114\n",
      "   macro avg       0.96      0.97      0.96       114\n",
      "weighted avg       0.97      0.96      0.97       114\n",
      "\n"
     ]
    }
   ],
   "source": [
    "print(\"********* TRAIN CLASSIFICATION REPORT ***********\")\n",
    "print(\" \")\n",
    "print(classification_report(svc.predict(X_train), Y_train))\n",
    "\n",
    "print(\" \")\n",
    "\n",
    "print(\"********* TEST CLASSIFICATION REPORT ***********\")\n",
    "print(\" \")\n",
    "print(classification_report(y_pred, Y_test))"
   ]
  },
  {
   "cell_type": "code",
   "execution_count": 19,
   "id": "1b0c627e",
   "metadata": {},
   "outputs": [
    {
     "name": "stdout",
     "output_type": "stream",
     "text": [
      "Test confusion matrix of the data \n",
      " [[68  4]\n",
      " [ 0 42]]\n"
     ]
    },
    {
     "data": {
      "text/plain": [
       "<AxesSubplot:>"
      ]
     },
     "execution_count": 19,
     "metadata": {},
     "output_type": "execute_result"
    },
    {
     "data": {
      "image/png": "[encoded data removed]",
      "text/plain": [
       "<Figure size 432x288 with 2 Axes>"
      ]
     },
     "metadata": {
      "needs_background": "light"
     },
     "output_type": "display_data"
    }
   ],
   "source": [
    "print(f\"Test confusion matrix of the data \\n {confusion_matrix(y_pred, Y_test)}\")\n",
    "sns.heatmap(confusion_matrix(y_pred, Y_test), annot=True)"
   ]
  },
  {
   "cell_type": "code",
   "execution_count": 20,
   "id": "4e312476",
   "metadata": {},
   "outputs": [
    {
     "name": "stdout",
     "output_type": "stream",
     "text": [
      "Train confusion matrix of the data \n",
      " [[289   3]\n",
      " [  0 163]]\n"
     ]
    },
    {
     "data": {
      "text/plain": [
       "<AxesSubplot:>"
      ]
     },
     "execution_count": 20,
     "metadata": {},
     "output_type": "execute_result"
    },
    {
     "data": {
      "image/png": "[encoded data removed]",
      "text/plain": [
       "<Figure size 432x288 with 2 Axes>"
      ]
     },
     "metadata": {
      "needs_background": "light"
     },
     "output_type": "display_data"
    }
   ],
   "source": [
    "print(f\"Train confusion matrix of the data \\n {confusion_matrix(svc.predict(X_train), Y_train)}\")\n",
    "sns.heatmap(confusion_matrix(svc.predict(X_train), Y_train), annot=True)"
   ]
  },
  {
   "cell_type": "markdown",
   "id": "b2255f15",
   "metadata": {},
   "source": [
    "# Neural Nets"
   ]
  },
  {
   "cell_type": "code",
   "execution_count": 21,
   "id": "8cfb4d68",
   "metadata": {},
   "outputs": [],
   "source": [
    "from keras.layers import Dense, Dropout\n",
    "from keras.optimizers import SGD\n",
    "from keras.models import Sequential\n",
    "from keras.utils import to_categorical "
   ]
  },
  {
   "cell_type": "code",
   "execution_count": 22,
   "id": "6c8cfac6",
   "metadata": {},
   "outputs": [],
   "source": [
    "# Validation data \n",
    "\n",
    "X_train, X_val, Y_train, Y_val= train_test_split(X_train, Y_train, test_size=0.2)"
   ]
  },
  {
   "cell_type": "code",
   "execution_count": 23,
   "id": "50f49b73",
   "metadata": {},
   "outputs": [],
   "source": [
    "Y_train = to_categorical(Y_train, num_classes=2)\n",
    "Y_test = to_categorical(Y_test, num_classes=2)\n",
    "Y_val = to_categorical(Y_val, num_classes=2)"
   ]
  },
  {
   "cell_type": "code",
   "execution_count": 24,
   "id": "b3e45667",
   "metadata": {},
   "outputs": [],
   "source": [
    "model = Sequential()\n",
    "\n",
    "model.add(Dense(1024, input_shape=(X_train.shape[1],)))\n",
    "model.add(Dense(512, activation=\"relu\"))\n",
    "model.add(Dense(216, activation=\"relu\"))\n",
    "model.add(Dense(128, activation=\"relu\"))\n",
    "model.add(Dense(128, activation=\"relu\"))\n",
    "model.add(Dense(32, activation=\"relu\"))\n",
    "model.add(Dense(2, activation=\"softmax\"))"
   ]
  },
  {
   "cell_type": "code",
   "execution_count": 25,
   "id": "05268604",
   "metadata": {},
   "outputs": [
    {
     "name": "stdout",
     "output_type": "stream",
     "text": [
      "Model: \"sequential\"\n",
      "_________________________________________________________________\n",
      "Layer (type)                 Output Shape              Param #   \n",
      "=================================================================\n",
      "dense (Dense)                (None, 1024)              31744     \n",
      "_________________________________________________________________\n",
      "dense_1 (Dense)              (None, 512)               524800    \n",
      "_________________________________________________________________\n",
      "dense_2 (Dense)              (None, 216)               110808    \n",
      "_________________________________________________________________\n",
      "dense_3 (Dense)              (None, 128)               27776     \n",
      "_________________________________________________________________\n",
      "dense_4 (Dense)              (None, 128)               16512     \n",
      "_________________________________________________________________\n",
      "dense_5 (Dense)              (None, 32)                4128      \n",
      "_________________________________________________________________\n",
      "dense_6 (Dense)              (None, 2)                 66        \n",
      "=================================================================\n",
      "Total params: 715,834\n",
      "Trainable params: 715,834\n",
      "Non-trainable params: 0\n",
      "_________________________________________________________________\n"
     ]
    }
   ],
   "source": [
    "model.summary()"
   ]
  },
  {
   "cell_type": "code",
   "execution_count": 26,
   "id": "60dd57c9",
   "metadata": {},
   "outputs": [],
   "source": [
    "model.compile(loss='categorical_crossentropy', metrics=['accuracy'])"
   ]
  },
  {
   "cell_type": "code",
   "execution_count": 27,
   "id": "80bbe56d",
   "metadata": {},
   "outputs": [
    {
     "name": "stdout",
     "output_type": "stream",
     "text": [
      "Epoch 1/130\n",
      "3/3 [==============================] - 2s 438ms/step - loss: 0.5509 - accuracy: 0.5904 - val_loss: 0.1573 - val_accuracy: 0.9341\n",
      "Epoch 2/130\n",
      "3/3 [==============================] - 0s 54ms/step - loss: 0.1001 - accuracy: 0.9745 - val_loss: 0.0403 - val_accuracy: 0.9890\n",
      "Epoch 3/130\n",
      "3/3 [==============================] - 0s 57ms/step - loss: 0.0429 - accuracy: 0.9888 - val_loss: 0.0422 - val_accuracy: 0.9890\n",
      "Epoch 4/130\n",
      "3/3 [==============================] - 0s 56ms/step - loss: 0.0406 - accuracy: 0.9830 - val_loss: 0.0174 - val_accuracy: 1.0000\n",
      "Epoch 5/130\n",
      "3/3 [==============================] - 0s 55ms/step - loss: 0.0394 - accuracy: 0.9834 - val_loss: 0.0241 - val_accuracy: 0.9890\n",
      "Epoch 6/130\n",
      "3/3 [==============================] - 0s 58ms/step - loss: 0.0357 - accuracy: 0.9890 - val_loss: 0.0222 - val_accuracy: 0.9890\n",
      "Epoch 7/130\n",
      "3/3 [==============================] - 0s 56ms/step - loss: 0.0131 - accuracy: 0.9963 - val_loss: 0.0170 - val_accuracy: 1.0000\n",
      "Epoch 8/130\n",
      "3/3 [==============================] - 0s 69ms/step - loss: 0.0132 - accuracy: 0.9943 - val_loss: 0.0178 - val_accuracy: 1.0000\n",
      "Epoch 9/130\n",
      "3/3 [==============================] - 0s 62ms/step - loss: 0.0096 - accuracy: 0.9986 - val_loss: 0.0150 - val_accuracy: 1.0000\n",
      "Epoch 10/130\n",
      "3/3 [==============================] - 0s 56ms/step - loss: 0.0132 - accuracy: 0.9926 - val_loss: 0.0091 - val_accuracy: 1.0000\n",
      "Epoch 11/130\n",
      "3/3 [==============================] - 0s 56ms/step - loss: 0.0096 - accuracy: 0.9963 - val_loss: 0.0075 - val_accuracy: 1.0000\n",
      "Epoch 12/130\n",
      "3/3 [==============================] - 0s 56ms/step - loss: 0.0066 - accuracy: 0.9957 - val_loss: 0.0046 - val_accuracy: 1.0000\n",
      "Epoch 13/130\n",
      "3/3 [==============================] - 0s 57ms/step - loss: 0.0036 - accuracy: 0.9986 - val_loss: 0.0133 - val_accuracy: 0.9890\n",
      "Epoch 14/130\n",
      "3/3 [==============================] - 0s 67ms/step - loss: 0.0248 - accuracy: 0.9957 - val_loss: 0.0048 - val_accuracy: 1.0000\n",
      "Epoch 15/130\n",
      "3/3 [==============================] - 0s 57ms/step - loss: 0.0023 - accuracy: 1.0000 - val_loss: 0.0168 - val_accuracy: 0.9890\n",
      "Epoch 16/130\n",
      "3/3 [==============================] - 0s 57ms/step - loss: 0.0017 - accuracy: 1.0000 - val_loss: 0.0041 - val_accuracy: 1.0000\n",
      "Epoch 17/130\n",
      "3/3 [==============================] - 0s 55ms/step - loss: 0.0011 - accuracy: 1.0000 - val_loss: 0.0079 - val_accuracy: 1.0000\n",
      "Epoch 18/130\n",
      "3/3 [==============================] - 0s 56ms/step - loss: 4.5266e-04 - accuracy: 1.0000 - val_loss: 0.0108 - val_accuracy: 0.9890\n",
      "Epoch 19/130\n",
      "3/3 [==============================] - 0s 56ms/step - loss: 3.8195e-04 - accuracy: 1.0000 - val_loss: 0.0062 - val_accuracy: 1.0000\n",
      "Epoch 20/130\n",
      "3/3 [==============================] - 0s 62ms/step - loss: 1.9375e-04 - accuracy: 1.0000 - val_loss: 0.0143 - val_accuracy: 0.9890\n",
      "Epoch 21/130\n",
      "3/3 [==============================] - 0s 61ms/step - loss: 1.2979e-04 - accuracy: 1.0000 - val_loss: 0.0098 - val_accuracy: 0.9890\n",
      "Epoch 22/130\n",
      "3/3 [==============================] - 0s 58ms/step - loss: 1.7191e-04 - accuracy: 1.0000 - val_loss: 0.0076 - val_accuracy: 1.0000\n",
      "Epoch 23/130\n",
      "3/3 [==============================] - 0s 57ms/step - loss: 6.1066e-05 - accuracy: 1.0000 - val_loss: 0.0101 - val_accuracy: 0.9890\n",
      "Epoch 24/130\n",
      "3/3 [==============================] - 0s 57ms/step - loss: 8.9826e-05 - accuracy: 1.0000 - val_loss: 0.0072 - val_accuracy: 1.0000\n",
      "Epoch 25/130\n",
      "3/3 [==============================] - 0s 56ms/step - loss: 6.6807e-05 - accuracy: 1.0000 - val_loss: 0.0069 - val_accuracy: 1.0000\n",
      "Epoch 26/130\n",
      "3/3 [==============================] - 0s 56ms/step - loss: 5.4051e-05 - accuracy: 1.0000 - val_loss: 0.0070 - val_accuracy: 1.0000\n",
      "Epoch 27/130\n",
      "3/3 [==============================] - 0s 64ms/step - loss: 2.8527e-05 - accuracy: 1.0000 - val_loss: 0.0076 - val_accuracy: 1.0000\n",
      "Epoch 28/130\n",
      "3/3 [==============================] - 0s 64ms/step - loss: 3.2512e-05 - accuracy: 1.0000 - val_loss: 0.0074 - val_accuracy: 1.0000\n",
      "Epoch 29/130\n",
      "3/3 [==============================] - 0s 60ms/step - loss: 1.7480e-05 - accuracy: 1.0000 - val_loss: 0.0075 - val_accuracy: 1.0000\n",
      "Epoch 30/130\n",
      "3/3 [==============================] - 0s 57ms/step - loss: 2.1982e-05 - accuracy: 1.0000 - val_loss: 0.0080 - val_accuracy: 1.0000\n",
      "Epoch 31/130\n",
      "3/3 [==============================] - 0s 58ms/step - loss: 7.5734e-06 - accuracy: 1.0000 - val_loss: 0.0098 - val_accuracy: 0.9890\n",
      "Epoch 32/130\n",
      "3/3 [==============================] - 0s 65ms/step - loss: 9.3868e-06 - accuracy: 1.0000 - val_loss: 0.0097 - val_accuracy: 0.9890\n",
      "Epoch 33/130\n",
      "3/3 [==============================] - 0s 58ms/step - loss: 6.5903e-06 - accuracy: 1.0000 - val_loss: 0.0068 - val_accuracy: 1.0000\n",
      "Epoch 34/130\n",
      "3/3 [==============================] - 0s 54ms/step - loss: 5.9631e-06 - accuracy: 1.0000 - val_loss: 0.0121 - val_accuracy: 0.9890\n",
      "Epoch 35/130\n",
      "3/3 [==============================] - 0s 62ms/step - loss: 5.6203e-06 - accuracy: 1.0000 - val_loss: 0.0078 - val_accuracy: 1.0000\n",
      "Epoch 36/130\n",
      "3/3 [==============================] - 0s 54ms/step - loss: 4.4070e-06 - accuracy: 1.0000 - val_loss: 0.0132 - val_accuracy: 0.9890\n",
      "Epoch 37/130\n",
      "3/3 [==============================] - 0s 57ms/step - loss: 4.2083e-06 - accuracy: 1.0000 - val_loss: 0.0088 - val_accuracy: 1.0000\n",
      "Epoch 38/130\n",
      "3/3 [==============================] - 0s 60ms/step - loss: 3.0186e-06 - accuracy: 1.0000 - val_loss: 0.0104 - val_accuracy: 0.9890\n",
      "Epoch 39/130\n",
      "3/3 [==============================] - 0s 58ms/step - loss: 2.1961e-06 - accuracy: 1.0000 - val_loss: 0.0080 - val_accuracy: 1.0000\n",
      "Epoch 40/130\n",
      "3/3 [==============================] - 0s 55ms/step - loss: 2.6447e-06 - accuracy: 1.0000 - val_loss: 0.0087 - val_accuracy: 1.0000\n",
      "Epoch 41/130\n",
      "3/3 [==============================] - 0s 56ms/step - loss: 1.2478e-06 - accuracy: 1.0000 - val_loss: 0.0134 - val_accuracy: 0.9890\n",
      "Epoch 42/130\n",
      "3/3 [==============================] - 0s 61ms/step - loss: 1.8930e-06 - accuracy: 1.0000 - val_loss: 0.0104 - val_accuracy: 0.9890\n",
      "Epoch 43/130\n",
      "3/3 [==============================] - 0s 57ms/step - loss: 1.1331e-06 - accuracy: 1.0000 - val_loss: 0.0098 - val_accuracy: 0.9890\n",
      "Epoch 44/130\n",
      "3/3 [==============================] - 0s 54ms/step - loss: 6.2997e-07 - accuracy: 1.0000 - val_loss: 0.0118 - val_accuracy: 0.9890\n",
      "Epoch 45/130\n",
      "3/3 [==============================] - 0s 56ms/step - loss: 6.8403e-07 - accuracy: 1.0000 - val_loss: 0.0078 - val_accuracy: 1.0000\n",
      "Epoch 46/130\n",
      "3/3 [==============================] - 0s 56ms/step - loss: 4.4792e-07 - accuracy: 1.0000 - val_loss: 0.0186 - val_accuracy: 0.9890\n",
      "Epoch 47/130\n",
      "3/3 [==============================] - 0s 56ms/step - loss: 6.8916e-07 - accuracy: 1.0000 - val_loss: 0.0103 - val_accuracy: 0.9890\n",
      "Epoch 48/130\n",
      "3/3 [==============================] - 0s 57ms/step - loss: 6.3142e-07 - accuracy: 1.0000 - val_loss: 0.0143 - val_accuracy: 0.9890\n",
      "Epoch 49/130\n",
      "3/3 [==============================] - 0s 58ms/step - loss: 3.1953e-07 - accuracy: 1.0000 - val_loss: 0.0145 - val_accuracy: 0.9890\n",
      "Epoch 50/130\n",
      "3/3 [==============================] - 0s 56ms/step - loss: 2.5324e-07 - accuracy: 1.0000 - val_loss: 0.0130 - val_accuracy: 0.9890\n",
      "Epoch 51/130\n",
      "3/3 [==============================] - 0s 56ms/step - loss: 1.9432e-07 - accuracy: 1.0000 - val_loss: 0.0165 - val_accuracy: 0.9890\n",
      "Epoch 52/130\n",
      "3/3 [==============================] - 0s 55ms/step - loss: 2.5418e-07 - accuracy: 1.0000 - val_loss: 0.0143 - val_accuracy: 0.9890\n",
      "Epoch 53/130\n",
      "3/3 [==============================] - 0s 59ms/step - loss: 1.5575e-07 - accuracy: 1.0000 - val_loss: 0.0141 - val_accuracy: 0.9890\n",
      "Epoch 54/130\n",
      "3/3 [==============================] - 0s 54ms/step - loss: 1.7607e-07 - accuracy: 1.0000 - val_loss: 0.0125 - val_accuracy: 0.9890\n",
      "Epoch 55/130\n",
      "3/3 [==============================] - 0s 51ms/step - loss: 1.6615e-07 - accuracy: 1.0000 - val_loss: 0.0140 - val_accuracy: 0.9890\n",
      "Epoch 56/130\n",
      "3/3 [==============================] - 0s 50ms/step - loss: 1.1163e-07 - accuracy: 1.0000 - val_loss: 0.0109 - val_accuracy: 0.9890\n",
      "Epoch 57/130\n",
      "3/3 [==============================] - 0s 52ms/step - loss: 1.2683e-07 - accuracy: 1.0000 - val_loss: 0.0162 - val_accuracy: 0.9890\n",
      "Epoch 58/130\n"
     ]
    },
    {
     "name": "stdout",
     "output_type": "stream",
     "text": [
      "3/3 [==============================] - 0s 50ms/step - loss: 9.9768e-08 - accuracy: 1.0000 - val_loss: 0.0131 - val_accuracy: 0.9890\n",
      "Epoch 59/130\n",
      "3/3 [==============================] - 0s 51ms/step - loss: 5.1326e-08 - accuracy: 1.0000 - val_loss: 0.0119 - val_accuracy: 0.9890\n",
      "Epoch 60/130\n",
      "3/3 [==============================] - 0s 47ms/step - loss: 7.7788e-08 - accuracy: 1.0000 - val_loss: 0.0122 - val_accuracy: 0.9890\n",
      "Epoch 61/130\n",
      "3/3 [==============================] - 0s 49ms/step - loss: 4.6984e-08 - accuracy: 1.0000 - val_loss: 0.0229 - val_accuracy: 0.9890\n",
      "Epoch 62/130\n",
      "3/3 [==============================] - 0s 46ms/step - loss: 7.5990e-08 - accuracy: 1.0000 - val_loss: 0.0103 - val_accuracy: 1.0000\n",
      "Epoch 63/130\n",
      "3/3 [==============================] - 0s 52ms/step - loss: 5.7893e-08 - accuracy: 1.0000 - val_loss: 0.0138 - val_accuracy: 0.9890\n",
      "Epoch 64/130\n",
      "3/3 [==============================] - 0s 50ms/step - loss: 3.6359e-08 - accuracy: 1.0000 - val_loss: 0.0145 - val_accuracy: 0.9890\n",
      "Epoch 65/130\n",
      "3/3 [==============================] - 0s 52ms/step - loss: 3.2910e-08 - accuracy: 1.0000 - val_loss: 0.0160 - val_accuracy: 0.9890\n",
      "Epoch 66/130\n",
      "3/3 [==============================] - 0s 57ms/step - loss: 2.6823e-08 - accuracy: 1.0000 - val_loss: 0.0157 - val_accuracy: 0.9890\n",
      "Epoch 67/130\n",
      "3/3 [==============================] - 0s 59ms/step - loss: 2.4414e-08 - accuracy: 1.0000 - val_loss: 0.0147 - val_accuracy: 0.9890\n",
      "Epoch 68/130\n",
      "3/3 [==============================] - 0s 49ms/step - loss: 1.9844e-08 - accuracy: 1.0000 - val_loss: 0.0175 - val_accuracy: 0.9890\n",
      "Epoch 69/130\n",
      "3/3 [==============================] - 0s 47ms/step - loss: 2.1121e-08 - accuracy: 1.0000 - val_loss: 0.0157 - val_accuracy: 0.9890\n",
      "Epoch 70/130\n",
      "3/3 [==============================] - 0s 56ms/step - loss: 1.8832e-08 - accuracy: 1.0000 - val_loss: 0.0152 - val_accuracy: 0.9890\n",
      "Epoch 71/130\n",
      "3/3 [==============================] - 0s 58ms/step - loss: 1.4103e-08 - accuracy: 1.0000 - val_loss: 0.0214 - val_accuracy: 0.9890\n",
      "Epoch 72/130\n",
      "3/3 [==============================] - 0s 60ms/step - loss: 1.7806e-08 - accuracy: 1.0000 - val_loss: 0.0162 - val_accuracy: 0.9890\n",
      "Epoch 73/130\n",
      "3/3 [==============================] - 0s 56ms/step - loss: 1.2651e-08 - accuracy: 1.0000 - val_loss: 0.0166 - val_accuracy: 0.9890\n",
      "Epoch 74/130\n",
      "3/3 [==============================] - 0s 57ms/step - loss: 1.2134e-08 - accuracy: 1.0000 - val_loss: 0.0155 - val_accuracy: 0.9890\n",
      "Epoch 75/130\n",
      "3/3 [==============================] - 0s 58ms/step - loss: 1.2574e-08 - accuracy: 1.0000 - val_loss: 0.0145 - val_accuracy: 0.9890\n",
      "Epoch 76/130\n",
      "3/3 [==============================] - 0s 57ms/step - loss: 1.0923e-08 - accuracy: 1.0000 - val_loss: 0.0183 - val_accuracy: 0.9890\n",
      "Epoch 77/130\n",
      "3/3 [==============================] - 0s 56ms/step - loss: 8.3576e-09 - accuracy: 1.0000 - val_loss: 0.0167 - val_accuracy: 0.9890\n",
      "Epoch 78/130\n",
      "3/3 [==============================] - 0s 58ms/step - loss: 8.7503e-09 - accuracy: 1.0000 - val_loss: 0.0162 - val_accuracy: 0.9890\n",
      "Epoch 79/130\n",
      "3/3 [==============================] - 0s 57ms/step - loss: 8.8412e-09 - accuracy: 1.0000 - val_loss: 0.0162 - val_accuracy: 0.9890\n",
      "Epoch 80/130\n",
      "3/3 [==============================] - 0s 62ms/step - loss: 8.2808e-09 - accuracy: 1.0000 - val_loss: 0.0158 - val_accuracy: 0.9890\n",
      "Epoch 81/130\n",
      "3/3 [==============================] - 0s 57ms/step - loss: 4.6246e-09 - accuracy: 1.0000 - val_loss: 0.0187 - val_accuracy: 0.9890\n",
      "Epoch 82/130\n",
      "3/3 [==============================] - 0s 56ms/step - loss: 5.7414e-09 - accuracy: 1.0000 - val_loss: 0.0176 - val_accuracy: 0.9890\n",
      "Epoch 83/130\n",
      "3/3 [==============================] - 0s 57ms/step - loss: 4.1807e-09 - accuracy: 1.0000 - val_loss: 0.0163 - val_accuracy: 0.9890\n",
      "Epoch 84/130\n",
      "3/3 [==============================] - 0s 57ms/step - loss: 5.5304e-09 - accuracy: 1.0000 - val_loss: 0.0165 - val_accuracy: 0.9890\n",
      "Epoch 85/130\n",
      "3/3 [==============================] - 0s 57ms/step - loss: 3.1291e-09 - accuracy: 1.0000 - val_loss: 0.0167 - val_accuracy: 0.9890\n",
      "Epoch 86/130\n",
      "3/3 [==============================] - 0s 57ms/step - loss: 4.5952e-09 - accuracy: 1.0000 - val_loss: 0.0166 - val_accuracy: 0.9890\n",
      "Epoch 87/130\n",
      "3/3 [==============================] - 0s 59ms/step - loss: 2.6161e-09 - accuracy: 1.0000 - val_loss: 0.0187 - val_accuracy: 0.9890\n",
      "Epoch 88/130\n",
      "3/3 [==============================] - 0s 54ms/step - loss: 2.1505e-09 - accuracy: 1.0000 - val_loss: 0.0176 - val_accuracy: 0.9890\n",
      "Epoch 89/130\n",
      "3/3 [==============================] - 0s 54ms/step - loss: 3.8020e-09 - accuracy: 1.0000 - val_loss: 0.0175 - val_accuracy: 0.9890\n",
      "Epoch 90/130\n",
      "3/3 [==============================] - 0s 55ms/step - loss: 2.0558e-09 - accuracy: 1.0000 - val_loss: 0.0172 - val_accuracy: 0.9890\n",
      "Epoch 91/130\n",
      "3/3 [==============================] - 0s 56ms/step - loss: 2.1722e-09 - accuracy: 1.0000 - val_loss: 0.0193 - val_accuracy: 0.9890\n",
      "Epoch 92/130\n",
      "3/3 [==============================] - 0s 58ms/step - loss: 2.5906e-09 - accuracy: 1.0000 - val_loss: 0.0185 - val_accuracy: 0.9890\n",
      "Epoch 93/130\n",
      "3/3 [==============================] - 0s 56ms/step - loss: 3.1726e-09 - accuracy: 1.0000 - val_loss: 0.0181 - val_accuracy: 0.9890\n",
      "Epoch 94/130\n",
      "3/3 [==============================] - 0s 61ms/step - loss: 2.1249e-09 - accuracy: 1.0000 - val_loss: 0.0193 - val_accuracy: 0.9890\n",
      "Epoch 95/130\n",
      "3/3 [==============================] - 0s 54ms/step - loss: 1.8447e-09 - accuracy: 1.0000 - val_loss: 0.0182 - val_accuracy: 0.9890\n",
      "Epoch 96/130\n",
      "3/3 [==============================] - 0s 54ms/step - loss: 2.4741e-09 - accuracy: 1.0000 - val_loss: 0.0183 - val_accuracy: 0.9890\n",
      "Epoch 97/130\n",
      "3/3 [==============================] - 0s 58ms/step - loss: 2.3104e-09 - accuracy: 1.0000 - val_loss: 0.0181 - val_accuracy: 0.9890\n",
      "Epoch 98/130\n",
      "3/3 [==============================] - 0s 55ms/step - loss: 2.8451e-09 - accuracy: 1.0000 - val_loss: 0.0176 - val_accuracy: 0.9890\n",
      "Epoch 99/130\n",
      "3/3 [==============================] - 0s 56ms/step - loss: 1.1680e-09 - accuracy: 1.0000 - val_loss: 0.0170 - val_accuracy: 0.9890\n",
      "Epoch 100/130\n",
      "3/3 [==============================] - 0s 57ms/step - loss: 2.7287e-09 - accuracy: 1.0000 - val_loss: 0.0172 - val_accuracy: 0.9890\n",
      "Epoch 101/130\n",
      "3/3 [==============================] - 0s 63ms/step - loss: 1.1680e-09 - accuracy: 1.0000 - val_loss: 0.0184 - val_accuracy: 0.9890\n",
      "Epoch 102/130\n",
      "3/3 [==============================] - 0s 56ms/step - loss: 1.6337e-09 - accuracy: 1.0000 - val_loss: 0.0180 - val_accuracy: 0.9890\n",
      "Epoch 103/130\n",
      "3/3 [==============================] - 0s 58ms/step - loss: 1.2844e-09 - accuracy: 1.0000 - val_loss: 0.0174 - val_accuracy: 0.9890\n",
      "Epoch 104/130\n",
      "3/3 [==============================] - 0s 55ms/step - loss: 1.7027e-09 - accuracy: 1.0000 - val_loss: 0.0174 - val_accuracy: 0.9890\n",
      "Epoch 105/130\n",
      "3/3 [==============================] - 0s 56ms/step - loss: 2.0520e-09 - accuracy: 1.0000 - val_loss: 0.0178 - val_accuracy: 0.9890\n",
      "Epoch 106/130\n",
      "3/3 [==============================] - 0s 60ms/step - loss: 1.7027e-09 - accuracy: 1.0000 - val_loss: 0.0178 - val_accuracy: 0.9890\n",
      "Epoch 107/130\n",
      "3/3 [==============================] - 0s 56ms/step - loss: 1.1897e-09 - accuracy: 1.0000 - val_loss: 0.0177 - val_accuracy: 0.9890\n",
      "Epoch 108/130\n",
      "3/3 [==============================] - 0s 58ms/step - loss: 1.5390e-09 - accuracy: 1.0000 - val_loss: 0.0178 - val_accuracy: 0.9890\n",
      "Epoch 109/130\n",
      "3/3 [==============================] - 0s 54ms/step - loss: 8.4049e-10 - accuracy: 1.0000 - val_loss: 0.0187 - val_accuracy: 0.9890\n",
      "Epoch 110/130\n",
      "3/3 [==============================] - 0s 54ms/step - loss: 4.9125e-10 - accuracy: 1.0000 - val_loss: 0.0186 - val_accuracy: 0.9890\n",
      "Epoch 111/130\n",
      "3/3 [==============================] - 0s 59ms/step - loss: 1.1897e-09 - accuracy: 1.0000 - val_loss: 0.0184 - val_accuracy: 0.9890\n",
      "Epoch 112/130\n",
      "3/3 [==============================] - 0s 59ms/step - loss: 8.4049e-10 - accuracy: 1.0000 - val_loss: 0.0184 - val_accuracy: 0.9890\n",
      "Epoch 113/130\n",
      "3/3 [==============================] - 0s 58ms/step - loss: 7.2408e-10 - accuracy: 1.0000 - val_loss: 0.0184 - val_accuracy: 0.9890\n",
      "Epoch 114/130\n"
     ]
    },
    {
     "name": "stdout",
     "output_type": "stream",
     "text": [
      "3/3 [==============================] - 0s 57ms/step - loss: 5.6033e-10 - accuracy: 1.0000 - val_loss: 0.0186 - val_accuracy: 0.9890\n",
      "Epoch 115/130\n",
      "3/3 [==============================] - 0s 57ms/step - loss: 5.1299e-10 - accuracy: 1.0000 - val_loss: 0.0184 - val_accuracy: 0.9890\n",
      "Epoch 116/130\n",
      "3/3 [==============================] - 0s 59ms/step - loss: 1.6375e-10 - accuracy: 1.0000 - val_loss: 0.0185 - val_accuracy: 0.9890\n",
      "Epoch 117/130\n",
      "3/3 [==============================] - 0s 59ms/step - loss: 1.6375e-10 - accuracy: 1.0000 - val_loss: 0.0185 - val_accuracy: 0.9890\n",
      "Epoch 118/130\n",
      "3/3 [==============================] - 0s 58ms/step - loss: 2.8016e-10 - accuracy: 1.0000 - val_loss: 0.0183 - val_accuracy: 0.9890\n",
      "Epoch 119/130\n",
      "3/3 [==============================] - 0s 60ms/step - loss: 1.6375e-10 - accuracy: 1.0000 - val_loss: 0.0187 - val_accuracy: 0.9890\n",
      "Epoch 120/130\n",
      "3/3 [==============================] - 0s 55ms/step - loss: 5.1299e-10 - accuracy: 1.0000 - val_loss: 0.0185 - val_accuracy: 0.9890\n",
      "Epoch 121/130\n",
      "3/3 [==============================] - 0s 57ms/step - loss: 5.1299e-10 - accuracy: 1.0000 - val_loss: 0.0184 - val_accuracy: 0.9890\n",
      "Epoch 122/130\n",
      "3/3 [==============================] - 0s 59ms/step - loss: 1.6375e-10 - accuracy: 1.0000 - val_loss: 0.0185 - val_accuracy: 0.9890\n",
      "Epoch 123/130\n",
      "3/3 [==============================] - 0s 59ms/step - loss: 2.8016e-10 - accuracy: 1.0000 - val_loss: 0.0185 - val_accuracy: 0.9890\n",
      "Epoch 124/130\n",
      "3/3 [==============================] - 0s 56ms/step - loss: 5.1299e-10 - accuracy: 1.0000 - val_loss: 0.0184 - val_accuracy: 0.9890\n",
      "Epoch 125/130\n",
      "3/3 [==============================] - 0s 55ms/step - loss: 2.8016e-10 - accuracy: 1.0000 - val_loss: 0.0183 - val_accuracy: 0.9890\n",
      "Epoch 126/130\n",
      "3/3 [==============================] - 0s 59ms/step - loss: 2.8016e-10 - accuracy: 1.0000 - val_loss: 0.0186 - val_accuracy: 0.9890\n",
      "Epoch 127/130\n",
      "3/3 [==============================] - 0s 61ms/step - loss: 1.6375e-10 - accuracy: 1.0000 - val_loss: 0.0186 - val_accuracy: 0.9890\n",
      "Epoch 128/130\n",
      "3/3 [==============================] - 0s 57ms/step - loss: 1.6375e-10 - accuracy: 1.0000 - val_loss: 0.0185 - val_accuracy: 0.9890\n",
      "Epoch 129/130\n",
      "3/3 [==============================] - 0s 57ms/step - loss: 1.6375e-10 - accuracy: 1.0000 - val_loss: 0.0185 - val_accuracy: 0.9890\n",
      "Epoch 130/130\n",
      "3/3 [==============================] - 0s 64ms/step - loss: 5.1299e-10 - accuracy: 1.0000 - val_loss: 0.0184 - val_accuracy: 0.9890\n"
     ]
    }
   ],
   "source": [
    "history = model.fit(X_train, Y_train,\n",
    "         batch_size=128,epochs=130,\n",
    "         validation_data = (X_val, Y_val))"
   ]
  },
  {
   "cell_type": "code",
   "execution_count": 28,
   "id": "5470d226",
   "metadata": {},
   "outputs": [
    {
     "name": "stdout",
     "output_type": "stream",
     "text": [
      "dict_keys(['loss', 'accuracy', 'val_loss', 'val_accuracy'])\n"
     ]
    },
    {
     "data": {
      "image/png": "[encoded data removed]",
      "text/plain": [
       "<Figure size 432x288 with 1 Axes>"
      ]
     },
     "metadata": {
      "needs_background": "light"
     },
     "output_type": "display_data"
    },
    {
     "data": {
      "image/png": "[encoded data removed]",
      "text/plain": [
       "<Figure size 432x288 with 1 Axes>"
      ]
     },
     "metadata": {
      "needs_background": "light"
     },
     "output_type": "display_data"
    },
    {
     "name": "stderr",
     "output_type": "stream",
     "text": [
      "C:\\Users\\lenovo\\anaconda3\\envs\\Assign\\lib\\site-packages\\tensorflow\\python\\keras\\engine\\sequential.py:450: UserWarning: `model.predict_classes()` is deprecated and will be removed after 2021-01-01. Please use instead:* `np.argmax(model.predict(x), axis=-1)`,   if your model does multi-class classification   (e.g. if it uses a `softmax` last-layer activation).* `(model.predict(x) > 0.5).astype(\"int32\")`,   if your model does binary classification   (e.g. if it uses a `sigmoid` last-layer activation).\n",
      "  warnings.warn('`model.predict_classes()` is deprecated and '\n"
     ]
    }
   ],
   "source": [
    "import matplotlib.pyplot as plt\n",
    "print(history.history.keys())\n",
    "# summarize history for accuracy\n",
    "plt.plot(history.history['accuracy'])\n",
    "plt.plot(history.history['val_accuracy'])\n",
    "plt.title('model accuracy')\n",
    "plt.ylabel('accuracy')\n",
    "plt.xlabel('epoch')\n",
    "plt.legend(['train', 'test'])\n",
    "plt.show()\n",
    "\n",
    "\n",
    "# summarize history for loss\n",
    "plt.plot(history.history['loss'])\n",
    "plt.plot(history.history['val_loss'])\n",
    "plt.title('model loss')\n",
    "plt.ylabel('loss')\n",
    "plt.xlabel('epoch')\n",
    "plt.legend(['train', 'test'])\n",
    "plt.show()\n",
    "\n",
    "\n",
    "#Evaluating Model\n",
    "score  = model.predict_classes(X_test)"
   ]
  },
  {
   "cell_type": "code",
   "execution_count": 29,
   "id": "1b300ea8",
   "metadata": {},
   "outputs": [],
   "source": [
    "\n",
    "def cate(Y_test):\n",
    "    Y_test_ = []\n",
    "    for i in Y_test:\n",
    "        Y_test_.append(np.argmax(i))\n",
    "        \n",
    "    return Y_test_\n",
    "\n",
    "Y_train_ = cate(Y_train)\n",
    "Y_test_ = cate(Y_test)"
   ]
  },
  {
   "cell_type": "code",
   "execution_count": 30,
   "id": "9abeff1f",
   "metadata": {},
   "outputs": [
    {
     "name": "stdout",
     "output_type": "stream",
     "text": [
      "Test Accuracy score of the data 0.956140350877193\n",
      "Train Accuracy score of the data 1.0\n"
     ]
    },
    {
     "name": "stderr",
     "output_type": "stream",
     "text": [
      "C:\\Users\\lenovo\\anaconda3\\envs\\Assign\\lib\\site-packages\\tensorflow\\python\\keras\\engine\\sequential.py:450: UserWarning: `model.predict_classes()` is deprecated and will be removed after 2021-01-01. Please use instead:* `np.argmax(model.predict(x), axis=-1)`,   if your model does multi-class classification   (e.g. if it uses a `softmax` last-layer activation).* `(model.predict(x) > 0.5).astype(\"int32\")`,   if your model does binary classification   (e.g. if it uses a `sigmoid` last-layer activation).\n",
      "  warnings.warn('`model.predict_classes()` is deprecated and '\n"
     ]
    }
   ],
   "source": [
    "from sklearn.metrics import accuracy_score, classification_report, confusion_matrix\n",
    "\n",
    "print(f\"Test Accuracy score of the data {accuracy_score(score, Y_test_)}\")\n",
    "print(f\"Train Accuracy score of the data {accuracy_score(model.predict_classes(X_train), Y_train_)}\")"
   ]
  },
  {
   "cell_type": "code",
   "execution_count": 31,
   "id": "f2a831f6",
   "metadata": {},
   "outputs": [
    {
     "name": "stdout",
     "output_type": "stream",
     "text": [
      "********* TRAIN CLASSIFICATION REPORT ***********\n",
      " \n"
     ]
    },
    {
     "name": "stderr",
     "output_type": "stream",
     "text": [
      "C:\\Users\\lenovo\\anaconda3\\envs\\Assign\\lib\\site-packages\\tensorflow\\python\\keras\\engine\\sequential.py:450: UserWarning: `model.predict_classes()` is deprecated and will be removed after 2021-01-01. Please use instead:* `np.argmax(model.predict(x), axis=-1)`,   if your model does multi-class classification   (e.g. if it uses a `softmax` last-layer activation).* `(model.predict(x) > 0.5).astype(\"int32\")`,   if your model does binary classification   (e.g. if it uses a `sigmoid` last-layer activation).\n",
      "  warnings.warn('`model.predict_classes()` is deprecated and '\n"
     ]
    },
    {
     "name": "stdout",
     "output_type": "stream",
     "text": [
      "              precision    recall  f1-score   support\n",
      "\n",
      "           0       1.00      1.00      1.00       227\n",
      "           1       1.00      1.00      1.00       137\n",
      "\n",
      "    accuracy                           1.00       364\n",
      "   macro avg       1.00      1.00      1.00       364\n",
      "weighted avg       1.00      1.00      1.00       364\n",
      "\n",
      " \n",
      "********* TEST CLASSIFICATION REPORT ***********\n",
      " \n",
      "              precision    recall  f1-score   support\n",
      "\n",
      "           0       0.96      0.97      0.96        67\n",
      "           1       0.96      0.94      0.95        47\n",
      "\n",
      "    accuracy                           0.96       114\n",
      "   macro avg       0.96      0.95      0.95       114\n",
      "weighted avg       0.96      0.96      0.96       114\n",
      "\n"
     ]
    }
   ],
   "source": [
    "print(\"********* TRAIN CLASSIFICATION REPORT ***********\")\n",
    "print(\" \")\n",
    "print(classification_report(model.predict_classes(X_train), Y_train_))\n",
    "\n",
    "print(\" \")\n",
    "\n",
    "print(\"********* TEST CLASSIFICATION REPORT ***********\")\n",
    "print(\" \")\n",
    "print(classification_report(score, Y_test_))"
   ]
  },
  {
   "cell_type": "code",
   "execution_count": 32,
   "id": "8d356ef5",
   "metadata": {},
   "outputs": [
    {
     "name": "stdout",
     "output_type": "stream",
     "text": [
      "Test Accuracy score of the data \n",
      " [[65  2]\n",
      " [ 3 44]]\n"
     ]
    },
    {
     "data": {
      "text/plain": [
       "<AxesSubplot:>"
      ]
     },
     "execution_count": 32,
     "metadata": {},
     "output_type": "execute_result"
    },
    {
     "data": {
      "image/png": "[encoded data removed]",
      "text/plain": [
       "<Figure size 432x288 with 2 Axes>"
      ]
     },
     "metadata": {
      "needs_background": "light"
     },
     "output_type": "display_data"
    }
   ],
   "source": [
    "print(f\"Test Accuracy score of the data \\n {confusion_matrix(score, Y_test_)}\")\n",
    "sns.heatmap(confusion_matrix(score, Y_test_), annot=True)"
   ]
  },
  {
   "cell_type": "code",
   "execution_count": 33,
   "id": "02bda2d0",
   "metadata": {},
   "outputs": [
    {
     "name": "stderr",
     "output_type": "stream",
     "text": [
      "C:\\Users\\lenovo\\anaconda3\\envs\\Assign\\lib\\site-packages\\tensorflow\\python\\keras\\engine\\sequential.py:450: UserWarning: `model.predict_classes()` is deprecated and will be removed after 2021-01-01. Please use instead:* `np.argmax(model.predict(x), axis=-1)`,   if your model does multi-class classification   (e.g. if it uses a `softmax` last-layer activation).* `(model.predict(x) > 0.5).astype(\"int32\")`,   if your model does binary classification   (e.g. if it uses a `sigmoid` last-layer activation).\n",
      "  warnings.warn('`model.predict_classes()` is deprecated and '\n",
      "C:\\Users\\lenovo\\anaconda3\\envs\\Assign\\lib\\site-packages\\tensorflow\\python\\keras\\engine\\sequential.py:450: UserWarning: `model.predict_classes()` is deprecated and will be removed after 2021-01-01. Please use instead:* `np.argmax(model.predict(x), axis=-1)`,   if your model does multi-class classification   (e.g. if it uses a `softmax` last-layer activation).* `(model.predict(x) > 0.5).astype(\"int32\")`,   if your model does binary classification   (e.g. if it uses a `sigmoid` last-layer activation).\n",
      "  warnings.warn('`model.predict_classes()` is deprecated and '\n"
     ]
    },
    {
     "name": "stdout",
     "output_type": "stream",
     "text": [
      "Train Accuracy score of the data \n",
      " [[227   0]\n",
      " [  0 137]]\n"
     ]
    },
    {
     "data": {
      "text/plain": [
       "<AxesSubplot:>"
      ]
     },
     "execution_count": 33,
     "metadata": {},
     "output_type": "execute_result"
    },
    {
     "data": {
      "image/png": "[encoded data removed]",
      "text/plain": [
       "<Figure size 432x288 with 2 Axes>"
      ]
     },
     "metadata": {
      "needs_background": "light"
     },
     "output_type": "display_data"
    }
   ],
   "source": [
    "print(f\"Train Accuracy score of the data \\n {confusion_matrix(model.predict_classes(X_train), Y_train_)}\")\n",
    "sns.heatmap(confusion_matrix(model.predict_classes(X_train), Y_train_), annot=True)"
   ]
  },
  {
   "cell_type": "markdown",
   "id": "4f83b540",
   "metadata": {},
   "source": [
    "# Tuner "
   ]
  },
  {
   "cell_type": "code",
   "execution_count": 34,
   "id": "a3c67e75",
   "metadata": {},
   "outputs": [],
   "source": [
    "from tensorflow import keras\n",
    "from tensorflow.keras import layers\n",
    "from kerastuner.tuners import RandomSearch"
   ]
  },
  {
   "cell_type": "code",
   "execution_count": 35,
   "id": "8956df36",
   "metadata": {},
   "outputs": [],
   "source": [
    "def build_model(hp):\n",
    "    model = keras.Sequential()\n",
    "    for i in range(hp.Int('num_layers', 2, 20)):\n",
    "        model.add(layers.Dense(units=hp.Int('units_' + str(i),\n",
    "                                            min_value=32,\n",
    "                                            max_value=512,\n",
    "                                            step=32),\n",
    "                               activation='relu'))\n",
    "    model.add(layers.Dense(2, activation='softmax'))\n",
    "    model.compile(\n",
    "        optimizer=keras.optimizers.Adam(\n",
    "            hp.Choice('learning_rate',\n",
    "                      values=[1e-2, 1e-3, 1e-4])),\n",
    "        loss='categorical_crossentropy',\n",
    "        metrics=['accuracy'])\n",
    "    return model"
   ]
  },
  {
   "cell_type": "code",
   "execution_count": 36,
   "id": "9a2cf949",
   "metadata": {},
   "outputs": [],
   "source": [
    "tuner = RandomSearch(\n",
    "    build_model,\n",
    "    objective='val_accuracy',\n",
    "    max_trials=50,\n",
    "    executions_per_trial=3,\n",
    "    directory='my_dir',\n",
    "    project_name='helloworld')"
   ]
  },
  {
   "cell_type": "code",
   "execution_count": 37,
   "id": "3d6f82e0",
   "metadata": {},
   "outputs": [
    {
     "name": "stdout",
     "output_type": "stream",
     "text": [
      "Search space summary\n",
      "Default search space size: 4\n",
      "num_layers (Int)\n",
      "{'default': None, 'conditions': [], 'min_value': 2, 'max_value': 20, 'step': 1, 'sampling': None}\n",
      "units_0 (Int)\n",
      "{'default': None, 'conditions': [], 'min_value': 32, 'max_value': 512, 'step': 32, 'sampling': None}\n",
      "units_1 (Int)\n",
      "{'default': None, 'conditions': [], 'min_value': 32, 'max_value': 512, 'step': 32, 'sampling': None}\n",
      "learning_rate (Choice)\n",
      "{'default': 0.01, 'conditions': [], 'values': [0.01, 0.001, 0.0001], 'ordered': True}\n"
     ]
    }
   ],
   "source": [
    "tuner.search_space_summary()"
   ]
  },
  {
   "cell_type": "code",
   "execution_count": 38,
   "id": "1c89fce6",
   "metadata": {},
   "outputs": [
    {
     "name": "stdout",
     "output_type": "stream",
     "text": [
      "Trial 5 Complete [00h 00m 08s]\n",
      "val_accuracy: 0.9926739931106567\n",
      "\n",
      "Best val_accuracy So Far: 0.9926739931106567\n",
      "Total elapsed time: 00h 00m 45s\n",
      "INFO:tensorflow:Oracle triggered exit\n"
     ]
    }
   ],
   "source": [
    "tuner.search(X_train, Y_train,\n",
    "             epochs=5,\n",
    "             validation_data=(X_val, Y_val))"
   ]
  },
  {
   "cell_type": "code",
   "execution_count": 39,
   "id": "c20592b2",
   "metadata": {},
   "outputs": [],
   "source": [
    "models = tuner.get_best_models(num_models=2)"
   ]
  },
  {
   "cell_type": "code",
   "execution_count": 40,
   "id": "7ce59963",
   "metadata": {},
   "outputs": [
    {
     "name": "stdout",
     "output_type": "stream",
     "text": [
      "Results summary\n",
      "Results in my_dir\\helloworld\n",
      "Showing 10 best trials\n",
      "Objective(name='val_accuracy', direction='max')\n",
      "Trial summary\n",
      "Hyperparameters:\n",
      "num_layers: 8\n",
      "units_0: 256\n",
      "units_1: 448\n",
      "learning_rate: 0.0001\n",
      "units_2: 448\n",
      "units_3: 320\n",
      "units_4: 224\n",
      "units_5: 192\n",
      "units_6: 448\n",
      "units_7: 64\n",
      "units_8: 256\n",
      "units_9: 256\n",
      "units_10: 480\n",
      "units_11: 192\n",
      "units_12: 192\n",
      "units_13: 448\n",
      "Score: 0.9926739931106567\n",
      "Trial summary\n",
      "Hyperparameters:\n",
      "num_layers: 12\n",
      "units_0: 96\n",
      "units_1: 32\n",
      "learning_rate: 0.01\n",
      "units_2: 32\n",
      "units_3: 32\n",
      "units_4: 32\n",
      "units_5: 32\n",
      "units_6: 32\n",
      "units_7: 32\n",
      "units_8: 32\n",
      "units_9: 32\n",
      "units_10: 32\n",
      "units_11: 32\n",
      "Score: 0.9890109896659851\n",
      "Trial summary\n",
      "Hyperparameters:\n",
      "num_layers: 12\n",
      "units_0: 192\n",
      "units_1: 128\n",
      "learning_rate: 0.0001\n",
      "units_2: 96\n",
      "units_3: 352\n",
      "units_4: 160\n",
      "units_5: 128\n",
      "units_6: 64\n",
      "units_7: 384\n",
      "units_8: 448\n",
      "units_9: 128\n",
      "units_10: 64\n",
      "units_11: 192\n",
      "units_12: 256\n",
      "units_13: 160\n",
      "Score: 0.9890109896659851\n",
      "Trial summary\n",
      "Hyperparameters:\n",
      "num_layers: 10\n",
      "units_0: 224\n",
      "units_1: 288\n",
      "learning_rate: 0.0001\n",
      "units_2: 96\n",
      "units_3: 224\n",
      "units_4: 64\n",
      "units_5: 64\n",
      "units_6: 128\n",
      "units_7: 480\n",
      "units_8: 96\n",
      "units_9: 32\n",
      "units_10: 512\n",
      "units_11: 64\n",
      "units_12: 64\n",
      "units_13: 384\n",
      "Score: 0.9853479862213135\n",
      "Trial summary\n",
      "Hyperparameters:\n",
      "num_layers: 14\n",
      "units_0: 320\n",
      "units_1: 64\n",
      "learning_rate: 0.0001\n",
      "units_2: 160\n",
      "units_3: 288\n",
      "units_4: 96\n",
      "units_5: 416\n",
      "units_6: 320\n",
      "units_7: 288\n",
      "units_8: 96\n",
      "units_9: 352\n",
      "units_10: 416\n",
      "units_11: 384\n",
      "units_12: 32\n",
      "units_13: 32\n",
      "Score: 0.9780219793319702\n"
     ]
    }
   ],
   "source": [
    "tuner.results_summary()"
   ]
  },
  {
   "cell_type": "code",
   "execution_count": null,
   "id": "b15b0ea6",
   "metadata": {},
   "outputs": [],
   "source": []
  },
  {
   "cell_type": "code",
   "execution_count": null,
   "id": "ea161621",
   "metadata": {},
   "outputs": [],
   "source": []
  },
  {
   "cell_type": "code",
   "execution_count": null,
   "id": "45296e5f",
   "metadata": {},
   "outputs": [],
   "source": []
  }
 ],
 "metadata": {
  "kernelspec": {
   "display_name": "Python 3",
   "language": "python",
   "name": "python3"
  },
  "language_info": {
   "codemirror_mode": {
    "name": "ipython",
    "version": 3
   },
   "file_extension": ".py",
   "mimetype": "text/x-python",
   "name": "python",
   "nbconvert_exporter": "python",
   "pygments_lexer": "ipython3",
   "version": "3.7.10"
  }
 },
 "nbformat": 4,
 "nbformat_minor": 5
}
