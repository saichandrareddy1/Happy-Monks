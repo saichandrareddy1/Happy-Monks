{
 "cells": [
  {
   "cell_type": "markdown",
   "id": "4e642a3f",
   "metadata": {},
   "source": [
    "# SVC"
   ]
  },
  {
   "cell_type": "code",
   "execution_count": 1,
   "id": "19f0c5d0",
   "metadata": {},
   "outputs": [],
   "source": [
    "import numpy as np\n",
    "import pandas as pd\n",
    "import matplotlib.pyplot as plt\n",
    "import seaborn as sns\n",
    "import warnings\n",
    "warnings.filterwarnings('ignore')"
   ]
  },
  {
   "cell_type": "markdown",
   "id": "ab43f31c",
   "metadata": {},
   "source": [
    "# data reading "
   ]
  },
  {
   "cell_type": "code",
   "execution_count": 2,
   "id": "62294626",
   "metadata": {},
   "outputs": [],
   "source": [
    "data = pd.read_csv(\"./breast-cancer-wisconsin-data_data.csv\")"
   ]
  },
  {
   "cell_type": "markdown",
   "id": "93e23485",
   "metadata": {},
   "source": [
    "# Drop Unwanted data"
   ]
  },
  {
   "cell_type": "code",
   "execution_count": 3,
   "id": "3c348e82",
   "metadata": {},
   "outputs": [],
   "source": [
    "data.drop(['id', 'Unnamed: 32'], axis=1, inplace=True)"
   ]
  },
  {
   "cell_type": "markdown",
   "id": "6f16b309",
   "metadata": {},
   "source": [
    "# Information about the data "
   ]
  },
  {
   "cell_type": "code",
   "execution_count": 4,
   "id": "d3df2385",
   "metadata": {},
   "outputs": [
    {
     "name": "stdout",
     "output_type": "stream",
     "text": [
      "<class 'pandas.core.frame.DataFrame'>\n",
      "RangeIndex: 569 entries, 0 to 568\n",
      "Data columns (total 31 columns):\n",
      " #   Column                   Non-Null Count  Dtype  \n",
      "---  ------                   --------------  -----  \n",
      " 0   diagnosis                569 non-null    object \n",
      " 1   radius_mean              569 non-null    float64\n",
      " 2   texture_mean             569 non-null    float64\n",
      " 3   perimeter_mean           569 non-null    float64\n",
      " 4   area_mean                569 non-null    float64\n",
      " 5   smoothness_mean          569 non-null    float64\n",
      " 6   compactness_mean         569 non-null    float64\n",
      " 7   concavity_mean           569 non-null    float64\n",
      " 8   concave points_mean      569 non-null    float64\n",
      " 9   symmetry_mean            569 non-null    float64\n",
      " 10  fractal_dimension_mean   569 non-null    float64\n",
      " 11  radius_se                569 non-null    float64\n",
      " 12  texture_se               569 non-null    float64\n",
      " 13  perimeter_se             569 non-null    float64\n",
      " 14  area_se                  569 non-null    float64\n",
      " 15  smoothness_se            569 non-null    float64\n",
      " 16  compactness_se           569 non-null    float64\n",
      " 17  concavity_se             569 non-null    float64\n",
      " 18  concave points_se        569 non-null    float64\n",
      " 19  symmetry_se              569 non-null    float64\n",
      " 20  fractal_dimension_se     569 non-null    float64\n",
      " 21  radius_worst             569 non-null    float64\n",
      " 22  texture_worst            569 non-null    float64\n",
      " 23  perimeter_worst          569 non-null    float64\n",
      " 24  area_worst               569 non-null    float64\n",
      " 25  smoothness_worst         569 non-null    float64\n",
      " 26  compactness_worst        569 non-null    float64\n",
      " 27  concavity_worst          569 non-null    float64\n",
      " 28  concave points_worst     569 non-null    float64\n",
      " 29  symmetry_worst           569 non-null    float64\n",
      " 30  fractal_dimension_worst  569 non-null    float64\n",
      "dtypes: float64(30), object(1)\n",
      "memory usage: 137.9+ KB\n"
     ]
    }
   ],
   "source": [
    "data.info()"
   ]
  },
  {
   "cell_type": "markdown",
   "id": "f33ea5c2",
   "metadata": {},
   "source": [
    "# CLasses Visualization"
   ]
  },
  {
   "cell_type": "code",
   "execution_count": 5,
   "id": "3d8c050a",
   "metadata": {},
   "outputs": [
    {
     "name": "stdout",
     "output_type": "stream",
     "text": [
      "Classes of the data dict_keys(['M', 'B'])\n",
      "count of the data dict_values([212, 357])\n"
     ]
    }
   ],
   "source": [
    "from collections import Counter\n",
    "\n",
    "c = Counter(data['diagnosis'])\n",
    "print(f\"Classes of the data {c.keys()}\")\n",
    "print(f\"count of the data {c.values()}\")"
   ]
  },
  {
   "cell_type": "code",
   "execution_count": 6,
   "id": "07585c94",
   "metadata": {},
   "outputs": [
    {
     "data": {
      "image/png": "[encoded data removed]",
      "text/plain": [
       "<Figure size 432x288 with 1 Axes>"
      ]
     },
     "metadata": {
      "needs_background": "light"
     },
     "output_type": "display_data"
    }
   ],
   "source": [
    "x = list(c.keys())\n",
    "xval = []\n",
    "h = list(c.values())\n",
    "\n",
    "for i in x:\n",
    "    xval.append(str(i))\n",
    "\n",
    "sns.barplot(x=xval,y=h,data=data)\n",
    "plt.show()"
   ]
  },
  {
   "cell_type": "markdown",
   "id": "a1cf1361",
   "metadata": {},
   "source": [
    "# LabelEncoder"
   ]
  },
  {
   "cell_type": "code",
   "execution_count": 7,
   "id": "d4821ef4",
   "metadata": {},
   "outputs": [],
   "source": [
    "from sklearn.preprocessing import LabelEncoder\n",
    "\n",
    "lb = LabelEncoder()\n",
    "data['diagnosis'] = lb.fit_transform(data['diagnosis'])"
   ]
  },
  {
   "cell_type": "markdown",
   "id": "77bc0e56",
   "metadata": {},
   "source": [
    "# Shuffle data"
   ]
  },
  {
   "cell_type": "code",
   "execution_count": 8,
   "id": "9bb0864c",
   "metadata": {},
   "outputs": [],
   "source": [
    "from sklearn.utils import shuffle\n",
    "\n",
    "\n",
    "data_S = shuffle(data.values)"
   ]
  },
  {
   "cell_type": "code",
   "execution_count": 9,
   "id": "1198498f",
   "metadata": {},
   "outputs": [
    {
     "data": {
      "text/plain": [
       "array([[ 0.     , 15.71   , 13.93   , ...,  0.1374 ,  0.2723 ,  0.07071],\n",
       "       [ 1.     , 16.27   , 20.71   , ...,  0.1583 ,  0.3103 ,  0.082  ],\n",
       "       [ 1.     , 14.54   , 27.54   , ...,  0.1712 ,  0.4218 ,  0.1341 ],\n",
       "       ...,\n",
       "       [ 0.     ,  8.734  , 16.84   , ...,  0.     ,  0.2445 ,  0.08865],\n",
       "       [ 1.     , 24.25   , 20.2    , ...,  0.2248 ,  0.3222 ,  0.08009],\n",
       "       [ 0.     , 12.     , 15.65   , ...,  0.07632,  0.3379 ,  0.07924]])"
      ]
     },
     "execution_count": 9,
     "metadata": {},
     "output_type": "execute_result"
    }
   ],
   "source": [
    "data_S"
   ]
  },
  {
   "cell_type": "markdown",
   "id": "58fa9721",
   "metadata": {},
   "source": [
    "# Features and Labels "
   ]
  },
  {
   "cell_type": "code",
   "execution_count": 10,
   "id": "eed187cc",
   "metadata": {},
   "outputs": [],
   "source": [
    "X = data_S[:, 1:]\n",
    "Y = data_S[:, 0]"
   ]
  },
  {
   "cell_type": "code",
   "execution_count": 11,
   "id": "51ac7030",
   "metadata": {},
   "outputs": [
    {
     "data": {
      "text/plain": [
       "array([[1.571e+01, 1.393e+01, 1.020e+02, ..., 1.374e-01, 2.723e-01,\n",
       "        7.071e-02],\n",
       "       [1.627e+01, 2.071e+01, 1.069e+02, ..., 1.583e-01, 3.103e-01,\n",
       "        8.200e-02],\n",
       "       [1.454e+01, 2.754e+01, 9.673e+01, ..., 1.712e-01, 4.218e-01,\n",
       "        1.341e-01],\n",
       "       ...,\n",
       "       [8.734e+00, 1.684e+01, 5.527e+01, ..., 0.000e+00, 2.445e-01,\n",
       "        8.865e-02],\n",
       "       [2.425e+01, 2.020e+01, 1.662e+02, ..., 2.248e-01, 3.222e-01,\n",
       "        8.009e-02],\n",
       "       [1.200e+01, 1.565e+01, 7.695e+01, ..., 7.632e-02, 3.379e-01,\n",
       "        7.924e-02]])"
      ]
     },
     "execution_count": 11,
     "metadata": {},
     "output_type": "execute_result"
    }
   ],
   "source": [
    "X"
   ]
  },
  {
   "cell_type": "markdown",
   "id": "850ed810",
   "metadata": {},
   "source": [
    "# Data Scaling"
   ]
  },
  {
   "cell_type": "code",
   "execution_count": 12,
   "id": "02cbe8f1",
   "metadata": {},
   "outputs": [],
   "source": [
    "from sklearn.preprocessing import StandardScaler\n",
    "\n",
    "sc = StandardScaler()"
   ]
  },
  {
   "cell_type": "code",
   "execution_count": 13,
   "id": "00c6f4d9",
   "metadata": {},
   "outputs": [],
   "source": [
    "X = sc.fit_transform(X)"
   ]
  },
  {
   "cell_type": "markdown",
   "id": "4f670cb4",
   "metadata": {},
   "source": [
    "# Splitting the data "
   ]
  },
  {
   "cell_type": "code",
   "execution_count": 14,
   "id": "389ebaa0",
   "metadata": {},
   "outputs": [],
   "source": [
    "from sklearn.model_selection import train_test_split\n",
    "\n",
    "X_train, X_test, Y_train, Y_test = train_test_split(X, Y, test_size=0.2)"
   ]
  },
  {
   "cell_type": "markdown",
   "id": "6d31f3ef",
   "metadata": {},
   "source": [
    "# SVC"
   ]
  },
  {
   "cell_type": "code",
   "execution_count": 15,
   "id": "5eb37aef",
   "metadata": {},
   "outputs": [],
   "source": [
    "from sklearn.svm import SVC\n",
    "svc = SVC().fit(X_train, Y_train)"
   ]
  },
  {
   "cell_type": "markdown",
   "id": "5628fba5",
   "metadata": {},
   "source": [
    "# PREDICTING THE DATA "
   ]
  },
  {
   "cell_type": "code",
   "execution_count": 16,
   "id": "9d06f9a3",
   "metadata": {},
   "outputs": [],
   "source": [
    "y_pred = svc.predict(X_test)"
   ]
  },
  {
   "cell_type": "markdown",
   "id": "2de86428",
   "metadata": {},
   "source": [
    "# METRICS"
   ]
  },
  {
   "cell_type": "code",
   "execution_count": 17,
   "id": "3359173a",
   "metadata": {},
   "outputs": [
    {
     "name": "stdout",
     "output_type": "stream",
     "text": [
      "Test Accuracy score of the data 0.9912280701754386\n",
      "Train Accuracy score of the data 0.9868131868131869\n"
     ]
    }
   ],
   "source": [
    "from sklearn.metrics import accuracy_score, classification_report, confusion_matrix\n",
    "\n",
    "print(f\"Test Accuracy score of the data {accuracy_score(y_pred, Y_test)}\")\n",
    "print(f\"Train Accuracy score of the data {accuracy_score(svc.predict(X_train), Y_train)}\")"
   ]
  },
  {
   "cell_type": "markdown",
   "id": "363fe20a",
   "metadata": {},
   "source": [
    "# CLASSIFICATION REPORT"
   ]
  },
  {
   "cell_type": "code",
   "execution_count": 18,
   "id": "2070120b",
   "metadata": {},
   "outputs": [
    {
     "name": "stdout",
     "output_type": "stream",
     "text": [
      "********* TRAIN CLASSIFICATION REPORT ***********\n",
      " \n",
      "              precision    recall  f1-score   support\n",
      "\n",
      "         0.0       1.00      0.98      0.99       289\n",
      "         1.0       0.97      1.00      0.98       166\n",
      "\n",
      "    accuracy                           0.99       455\n",
      "   macro avg       0.98      0.99      0.99       455\n",
      "weighted avg       0.99      0.99      0.99       455\n",
      "\n",
      " \n",
      "********* TEST CLASSIFICATION REPORT ***********\n",
      " \n",
      "              precision    recall  f1-score   support\n",
      "\n",
      "         0.0       1.00      0.99      0.99        75\n",
      "         1.0       0.97      1.00      0.99        39\n",
      "\n",
      "    accuracy                           0.99       114\n",
      "   macro avg       0.99      0.99      0.99       114\n",
      "weighted avg       0.99      0.99      0.99       114\n",
      "\n"
     ]
    }
   ],
   "source": [
    "print(\"********* TRAIN CLASSIFICATION REPORT ***********\")\n",
    "print(\" \")\n",
    "print(classification_report(svc.predict(X_train), Y_train))\n",
    "\n",
    "print(\" \")\n",
    "\n",
    "print(\"********* TEST CLASSIFICATION REPORT ***********\")\n",
    "print(\" \")\n",
    "print(classification_report(y_pred, Y_test))"
   ]
  },
  {
   "cell_type": "markdown",
   "id": "2662a2c2",
   "metadata": {},
   "source": [
    "# CONFUSION MATRIX"
   ]
  },
  {
   "cell_type": "code",
   "execution_count": 19,
   "id": "66a70712",
   "metadata": {},
   "outputs": [
    {
     "name": "stdout",
     "output_type": "stream",
     "text": [
      "Test confusion matrix of the data \n",
      " [[74  1]\n",
      " [ 0 39]]\n"
     ]
    },
    {
     "data": {
      "text/plain": [
       "<AxesSubplot:>"
      ]
     },
     "execution_count": 19,
     "metadata": {},
     "output_type": "execute_result"
    },
    {
     "data": {
      "image/png": "[encoded data removed]",
      "text/plain": [
       "<Figure size 432x288 with 2 Axes>"
      ]
     },
     "metadata": {
      "needs_background": "light"
     },
     "output_type": "display_data"
    }
   ],
   "source": [
    "print(f\"Test confusion matrix of the data \\n {confusion_matrix(y_pred, Y_test)}\")\n",
    "sns.heatmap(confusion_matrix(y_pred, Y_test), annot=True)"
   ]
  },
  {
   "cell_type": "code",
   "execution_count": 20,
   "id": "f5a43889",
   "metadata": {},
   "outputs": [
    {
     "name": "stdout",
     "output_type": "stream",
     "text": [
      "Train confusion matrix of the data \n",
      " [[283   6]\n",
      " [  0 166]]\n"
     ]
    },
    {
     "data": {
      "text/plain": [
       "<AxesSubplot:>"
      ]
     },
     "execution_count": 20,
     "metadata": {},
     "output_type": "execute_result"
    },
    {
     "data": {
      "image/png": "[encoded data removed]",
      "text/plain": [
       "<Figure size 432x288 with 2 Axes>"
      ]
     },
     "metadata": {
      "needs_background": "light"
     },
     "output_type": "display_data"
    }
   ],
   "source": [
    "print(f\"Train confusion matrix of the data \\n {confusion_matrix(svc.predict(X_train), Y_train)}\")\n",
    "sns.heatmap(confusion_matrix(svc.predict(X_train), Y_train), annot=True)"
   ]
  },
  {
   "cell_type": "markdown",
   "id": "d6422229",
   "metadata": {},
   "source": [
    "# Neural Nets"
   ]
  },
  {
   "cell_type": "code",
   "execution_count": 21,
   "id": "7c46483e",
   "metadata": {},
   "outputs": [],
   "source": [
    "from keras.layers import Dense, Dropout\n",
    "from keras.optimizers import SGD\n",
    "from keras.models import Sequential\n",
    "from keras.utils import to_categorical "
   ]
  },
  {
   "cell_type": "markdown",
   "id": "d0570422",
   "metadata": {},
   "source": [
    "# splitting the data for validation"
   ]
  },
  {
   "cell_type": "code",
   "execution_count": 22,
   "id": "f0b1c7d6",
   "metadata": {},
   "outputs": [],
   "source": [
    "# Validation data \n",
    "\n",
    "X_train, X_val, Y_train, Y_val= train_test_split(X_train, Y_train, test_size=0.2)"
   ]
  },
  {
   "cell_type": "markdown",
   "id": "f5ac96e8",
   "metadata": {},
   "source": [
    "# Categorical data"
   ]
  },
  {
   "cell_type": "code",
   "execution_count": 23,
   "id": "1c94648a",
   "metadata": {},
   "outputs": [],
   "source": [
    "Y_train = to_categorical(Y_train, num_classes=2)\n",
    "Y_test = to_categorical(Y_test, num_classes=2)\n",
    "Y_val = to_categorical(Y_val, num_classes=2)"
   ]
  },
  {
   "cell_type": "markdown",
   "id": "f22e0893",
   "metadata": {},
   "source": [
    "# Model creation "
   ]
  },
  {
   "cell_type": "code",
   "execution_count": 24,
   "id": "98d529c7",
   "metadata": {},
   "outputs": [],
   "source": [
    "model = Sequential()\n",
    "\n",
    "model.add(Dense(1024, input_shape=(X_train.shape[1],)))\n",
    "model.add(Dense(512, activation=\"relu\"))\n",
    "model.add(Dense(216, activation=\"relu\"))\n",
    "model.add(Dense(128, activation=\"relu\"))\n",
    "model.add(Dense(128, activation=\"relu\"))\n",
    "model.add(Dense(32, activation=\"relu\"))\n",
    "model.add(Dense(2, activation=\"softmax\"))"
   ]
  },
  {
   "cell_type": "code",
   "execution_count": 25,
   "id": "2fbfe9d5",
   "metadata": {},
   "outputs": [
    {
     "name": "stdout",
     "output_type": "stream",
     "text": [
      "Model: \"sequential\"\n",
      "_________________________________________________________________\n",
      "Layer (type)                 Output Shape              Param #   \n",
      "=================================================================\n",
      "dense (Dense)                (None, 1024)              31744     \n",
      "_________________________________________________________________\n",
      "dense_1 (Dense)              (None, 512)               524800    \n",
      "_________________________________________________________________\n",
      "dense_2 (Dense)              (None, 216)               110808    \n",
      "_________________________________________________________________\n",
      "dense_3 (Dense)              (None, 128)               27776     \n",
      "_________________________________________________________________\n",
      "dense_4 (Dense)              (None, 128)               16512     \n",
      "_________________________________________________________________\n",
      "dense_5 (Dense)              (None, 32)                4128      \n",
      "_________________________________________________________________\n",
      "dense_6 (Dense)              (None, 2)                 66        \n",
      "=================================================================\n",
      "Total params: 715,834\n",
      "Trainable params: 715,834\n",
      "Non-trainable params: 0\n",
      "_________________________________________________________________\n"
     ]
    }
   ],
   "source": [
    "model.summary()"
   ]
  },
  {
   "cell_type": "markdown",
   "id": "dd716d3c",
   "metadata": {},
   "source": [
    "# Model compile"
   ]
  },
  {
   "cell_type": "code",
   "execution_count": 26,
   "id": "2cab846d",
   "metadata": {},
   "outputs": [],
   "source": [
    "model.compile(loss='categorical_crossentropy', metrics=['accuracy'])"
   ]
  },
  {
   "cell_type": "markdown",
   "id": "7496d5dd",
   "metadata": {},
   "source": [
    "# Training the model "
   ]
  },
  {
   "cell_type": "code",
   "execution_count": 27,
   "id": "134306b3",
   "metadata": {},
   "outputs": [
    {
     "name": "stdout",
     "output_type": "stream",
     "text": [
      "Epoch 1/130\n",
      "3/3 [==============================] - 2s 464ms/step - loss: 0.4611 - accuracy: 0.8337 - val_loss: 0.0730 - val_accuracy: 0.9670\n",
      "Epoch 2/130\n",
      "3/3 [==============================] - 0s 57ms/step - loss: 0.0837 - accuracy: 0.9749 - val_loss: 0.1025 - val_accuracy: 0.9780\n",
      "Epoch 3/130\n",
      "3/3 [==============================] - 0s 54ms/step - loss: 0.0796 - accuracy: 0.9710 - val_loss: 0.0771 - val_accuracy: 0.9780\n",
      "Epoch 4/130\n",
      "3/3 [==============================] - 0s 55ms/step - loss: 0.0443 - accuracy: 0.9863 - val_loss: 0.0884 - val_accuracy: 0.9890\n",
      "Epoch 5/130\n",
      "3/3 [==============================] - 0s 61ms/step - loss: 0.1369 - accuracy: 0.9779 - val_loss: 0.0308 - val_accuracy: 0.9780\n",
      "Epoch 6/130\n",
      "3/3 [==============================] - 0s 61ms/step - loss: 0.0452 - accuracy: 0.9859 - val_loss: 0.0449 - val_accuracy: 0.9780\n",
      "Epoch 7/130\n",
      "3/3 [==============================] - 0s 64ms/step - loss: 0.0376 - accuracy: 0.9863 - val_loss: 0.0555 - val_accuracy: 0.9890\n",
      "Epoch 8/130\n",
      "3/3 [==============================] - 0s 61ms/step - loss: 0.0325 - accuracy: 0.9933 - val_loss: 0.0532 - val_accuracy: 0.9890\n",
      "Epoch 9/130\n",
      "3/3 [==============================] - 0s 113ms/step - loss: 0.0320 - accuracy: 0.9890 - val_loss: 0.0715 - val_accuracy: 0.9890\n",
      "Epoch 10/130\n",
      "3/3 [==============================] - 0s 67ms/step - loss: 0.0206 - accuracy: 0.9943 - val_loss: 0.0729 - val_accuracy: 0.9890\n",
      "Epoch 11/130\n",
      "3/3 [==============================] - 0s 73ms/step - loss: 0.0134 - accuracy: 0.9963 - val_loss: 0.0627 - val_accuracy: 0.9890\n",
      "Epoch 12/130\n",
      "3/3 [==============================] - 0s 70ms/step - loss: 0.0094 - accuracy: 0.9973 - val_loss: 0.0550 - val_accuracy: 0.9890\n",
      "Epoch 13/130\n",
      "3/3 [==============================] - 0s 69ms/step - loss: 0.0505 - accuracy: 0.9875 - val_loss: 0.2026 - val_accuracy: 0.9560\n",
      "Epoch 14/130\n",
      "3/3 [==============================] - 0s 65ms/step - loss: 0.0426 - accuracy: 0.9886 - val_loss: 0.1319 - val_accuracy: 0.9890\n",
      "Epoch 15/130\n",
      "3/3 [==============================] - 0s 91ms/step - loss: 0.0182 - accuracy: 0.9939 - val_loss: 0.0172 - val_accuracy: 0.9890\n",
      "Epoch 16/130\n",
      "3/3 [==============================] - 0s 74ms/step - loss: 0.0146 - accuracy: 0.9953 - val_loss: 0.0373 - val_accuracy: 0.9890\n",
      "Epoch 17/130\n",
      "3/3 [==============================] - 0s 58ms/step - loss: 0.0125 - accuracy: 0.9933 - val_loss: 0.0576 - val_accuracy: 0.9890\n",
      "Epoch 18/130\n",
      "3/3 [==============================] - 0s 56ms/step - loss: 0.0091 - accuracy: 0.9933 - val_loss: 0.0665 - val_accuracy: 0.9890\n",
      "Epoch 19/130\n",
      "3/3 [==============================] - 0s 76ms/step - loss: 0.0095 - accuracy: 0.9957 - val_loss: 0.0966 - val_accuracy: 0.9890\n",
      "Epoch 20/130\n",
      "3/3 [==============================] - 0s 75ms/step - loss: 0.0079 - accuracy: 0.9943 - val_loss: 0.0930 - val_accuracy: 0.9890\n",
      "Epoch 21/130\n",
      "3/3 [==============================] - 0s 54ms/step - loss: 0.0103 - accuracy: 0.9933 - val_loss: 0.1270 - val_accuracy: 0.9890\n",
      "Epoch 22/130\n",
      "3/3 [==============================] - 0s 48ms/step - loss: 0.0029 - accuracy: 1.0000 - val_loss: 0.1399 - val_accuracy: 0.9890\n",
      "Epoch 23/130\n",
      "3/3 [==============================] - 0s 47ms/step - loss: 0.0036 - accuracy: 1.0000 - val_loss: 0.1826 - val_accuracy: 0.9890\n",
      "Epoch 24/130\n",
      "3/3 [==============================] - 0s 58ms/step - loss: 0.1355 - accuracy: 0.9781 - val_loss: 0.0415 - val_accuracy: 0.9780\n",
      "Epoch 25/130\n",
      "3/3 [==============================] - 0s 65ms/step - loss: 0.0417 - accuracy: 0.9877 - val_loss: 0.0088 - val_accuracy: 1.0000\n",
      "Epoch 26/130\n",
      "3/3 [==============================] - 0s 55ms/step - loss: 0.0535 - accuracy: 0.9910 - val_loss: 0.0069 - val_accuracy: 1.0000\n",
      "Epoch 27/130\n",
      "3/3 [==============================] - 0s 51ms/step - loss: 0.0059 - accuracy: 0.9986 - val_loss: 0.0468 - val_accuracy: 0.9890\n",
      "Epoch 28/130\n",
      "3/3 [==============================] - 0s 57ms/step - loss: 0.0126 - accuracy: 0.9986 - val_loss: 0.0145 - val_accuracy: 0.9890\n",
      "Epoch 29/130\n",
      "3/3 [==============================] - 0s 53ms/step - loss: 0.0031 - accuracy: 1.0000 - val_loss: 0.0109 - val_accuracy: 0.9890\n",
      "Epoch 30/130\n",
      "3/3 [==============================] - 0s 56ms/step - loss: 0.0025 - accuracy: 1.0000 - val_loss: 0.0083 - val_accuracy: 1.0000\n",
      "Epoch 31/130\n",
      "3/3 [==============================] - 0s 65ms/step - loss: 0.0015 - accuracy: 1.0000 - val_loss: 0.0083 - val_accuracy: 1.0000\n",
      "Epoch 32/130\n",
      "3/3 [==============================] - 0s 85ms/step - loss: 9.8365e-04 - accuracy: 1.0000 - val_loss: 0.0078 - val_accuracy: 1.0000\n",
      "Epoch 33/130\n",
      "3/3 [==============================] - 0s 81ms/step - loss: 8.6250e-04 - accuracy: 1.0000 - val_loss: 0.0077 - val_accuracy: 1.0000\n",
      "Epoch 34/130\n",
      "3/3 [==============================] - 0s 60ms/step - loss: 6.1876e-04 - accuracy: 1.0000 - val_loss: 0.0083 - val_accuracy: 1.0000\n",
      "Epoch 35/130\n",
      "3/3 [==============================] - 0s 63ms/step - loss: 3.8301e-04 - accuracy: 1.0000 - val_loss: 0.0113 - val_accuracy: 0.9890\n",
      "Epoch 36/130\n",
      "3/3 [==============================] - 0s 60ms/step - loss: 2.9082e-04 - accuracy: 1.0000 - val_loss: 0.0107 - val_accuracy: 0.9890\n",
      "Epoch 37/130\n",
      "3/3 [==============================] - 0s 64ms/step - loss: 1.9611e-04 - accuracy: 1.0000 - val_loss: 0.0156 - val_accuracy: 0.9890\n",
      "Epoch 38/130\n",
      "3/3 [==============================] - 0s 74ms/step - loss: 1.7233e-04 - accuracy: 1.0000 - val_loss: 0.0159 - val_accuracy: 0.9890\n",
      "Epoch 39/130\n",
      "3/3 [==============================] - 0s 58ms/step - loss: 1.3396e-04 - accuracy: 1.0000 - val_loss: 0.0141 - val_accuracy: 0.9890\n",
      "Epoch 40/130\n",
      "3/3 [==============================] - 0s 53ms/step - loss: 8.3905e-05 - accuracy: 1.0000 - val_loss: 0.0164 - val_accuracy: 0.9890\n",
      "Epoch 41/130\n",
      "3/3 [==============================] - 0s 48ms/step - loss: 5.6201e-05 - accuracy: 1.0000 - val_loss: 0.0166 - val_accuracy: 0.9890\n",
      "Epoch 42/130\n",
      "3/3 [==============================] - 0s 46ms/step - loss: 4.9868e-05 - accuracy: 1.0000 - val_loss: 0.0182 - val_accuracy: 0.9890\n",
      "Epoch 43/130\n",
      "3/3 [==============================] - 0s 52ms/step - loss: 4.2395e-05 - accuracy: 1.0000 - val_loss: 0.0179 - val_accuracy: 0.9890\n",
      "Epoch 44/130\n",
      "3/3 [==============================] - 0s 51ms/step - loss: 2.4502e-05 - accuracy: 1.0000 - val_loss: 0.0187 - val_accuracy: 0.9890\n",
      "Epoch 45/130\n",
      "3/3 [==============================] - 0s 54ms/step - loss: 2.1286e-05 - accuracy: 1.0000 - val_loss: 0.0169 - val_accuracy: 0.9890\n",
      "Epoch 46/130\n",
      "3/3 [==============================] - 0s 92ms/step - loss: 1.5604e-05 - accuracy: 1.0000 - val_loss: 0.0173 - val_accuracy: 0.9890\n",
      "Epoch 47/130\n",
      "3/3 [==============================] - 0s 74ms/step - loss: 1.3534e-05 - accuracy: 1.0000 - val_loss: 0.0167 - val_accuracy: 0.9890\n",
      "Epoch 48/130\n",
      "3/3 [==============================] - 0s 56ms/step - loss: 7.9928e-06 - accuracy: 1.0000 - val_loss: 0.0183 - val_accuracy: 0.9890\n",
      "Epoch 49/130\n",
      "3/3 [==============================] - 0s 54ms/step - loss: 8.8735e-06 - accuracy: 1.0000 - val_loss: 0.0161 - val_accuracy: 0.9890\n",
      "Epoch 50/130\n",
      "3/3 [==============================] - 0s 61ms/step - loss: 6.6668e-06 - accuracy: 1.0000 - val_loss: 0.0156 - val_accuracy: 0.9890\n",
      "Epoch 51/130\n",
      "3/3 [==============================] - 0s 64ms/step - loss: 5.4638e-06 - accuracy: 1.0000 - val_loss: 0.0155 - val_accuracy: 0.9890\n",
      "Epoch 52/130\n",
      "3/3 [==============================] - 0s 64ms/step - loss: 4.8288e-06 - accuracy: 1.0000 - val_loss: 0.0170 - val_accuracy: 0.9890\n",
      "Epoch 53/130\n",
      "3/3 [==============================] - 0s 63ms/step - loss: 3.0994e-06 - accuracy: 1.0000 - val_loss: 0.0167 - val_accuracy: 0.9890\n",
      "Epoch 54/130\n",
      "3/3 [==============================] - 0s 107ms/step - loss: 2.6958e-06 - accuracy: 1.0000 - val_loss: 0.0172 - val_accuracy: 0.9890\n",
      "Epoch 55/130\n",
      "3/3 [==============================] - 0s 91ms/step - loss: 2.0343e-06 - accuracy: 1.0000 - val_loss: 0.0207 - val_accuracy: 0.9890\n",
      "Epoch 56/130\n",
      "3/3 [==============================] - 0s 78ms/step - loss: 1.5754e-06 - accuracy: 1.0000 - val_loss: 0.0197 - val_accuracy: 0.9890\n",
      "Epoch 57/130\n",
      "3/3 [==============================] - 0s 74ms/step - loss: 1.6226e-06 - accuracy: 1.0000 - val_loss: 0.0194 - val_accuracy: 0.9890\n",
      "Epoch 58/130\n"
     ]
    },
    {
     "name": "stdout",
     "output_type": "stream",
     "text": [
      "3/3 [==============================] - 0s 89ms/step - loss: 1.3698e-06 - accuracy: 1.0000 - val_loss: 0.0186 - val_accuracy: 0.9890\n",
      "Epoch 59/130\n",
      "3/3 [==============================] - 0s 74ms/step - loss: 8.2463e-07 - accuracy: 1.0000 - val_loss: 0.0196 - val_accuracy: 0.9890\n",
      "Epoch 60/130\n",
      "3/3 [==============================] - 0s 61ms/step - loss: 8.3658e-07 - accuracy: 1.0000 - val_loss: 0.0189 - val_accuracy: 0.9890\n",
      "Epoch 61/130\n",
      "3/3 [==============================] - 0s 64ms/step - loss: 8.8310e-07 - accuracy: 1.0000 - val_loss: 0.0193 - val_accuracy: 0.9890\n",
      "Epoch 62/130\n",
      "3/3 [==============================] - 0s 78ms/step - loss: 5.6907e-07 - accuracy: 1.0000 - val_loss: 0.0207 - val_accuracy: 0.9890\n",
      "Epoch 63/130\n",
      "3/3 [==============================] - 0s 86ms/step - loss: 5.7664e-07 - accuracy: 1.0000 - val_loss: 0.0207 - val_accuracy: 0.9890\n",
      "Epoch 64/130\n",
      "3/3 [==============================] - 0s 59ms/step - loss: 4.5593e-07 - accuracy: 1.0000 - val_loss: 0.0203 - val_accuracy: 0.9890\n",
      "Epoch 65/130\n",
      "3/3 [==============================] - 0s 61ms/step - loss: 4.1442e-07 - accuracy: 1.0000 - val_loss: 0.0197 - val_accuracy: 0.9890\n",
      "Epoch 66/130\n",
      "3/3 [==============================] - 0s 57ms/step - loss: 2.7364e-07 - accuracy: 1.0000 - val_loss: 0.0189 - val_accuracy: 0.9890\n",
      "Epoch 67/130\n",
      "3/3 [==============================] - 0s 60ms/step - loss: 3.0821e-07 - accuracy: 1.0000 - val_loss: 0.0203 - val_accuracy: 0.9890\n",
      "Epoch 68/130\n",
      "3/3 [==============================] - 0s 58ms/step - loss: 2.7213e-07 - accuracy: 1.0000 - val_loss: 0.0192 - val_accuracy: 0.9890\n",
      "Epoch 69/130\n",
      "3/3 [==============================] - 0s 59ms/step - loss: 2.2696e-07 - accuracy: 1.0000 - val_loss: 0.0201 - val_accuracy: 0.9890\n",
      "Epoch 70/130\n",
      "3/3 [==============================] - 0s 61ms/step - loss: 1.5948e-07 - accuracy: 1.0000 - val_loss: 0.0225 - val_accuracy: 0.9890\n",
      "Epoch 71/130\n",
      "3/3 [==============================] - 0s 58ms/step - loss: 1.4139e-07 - accuracy: 1.0000 - val_loss: 0.0196 - val_accuracy: 0.9890\n",
      "Epoch 72/130\n",
      "3/3 [==============================] - 0s 55ms/step - loss: 1.3826e-07 - accuracy: 1.0000 - val_loss: 0.0220 - val_accuracy: 0.9890\n",
      "Epoch 73/130\n",
      "3/3 [==============================] - 0s 53ms/step - loss: 1.0813e-07 - accuracy: 1.0000 - val_loss: 0.0206 - val_accuracy: 0.9890\n",
      "Epoch 74/130\n",
      "3/3 [==============================] - 0s 58ms/step - loss: 7.9138e-08 - accuracy: 1.0000 - val_loss: 0.0218 - val_accuracy: 0.9890\n",
      "Epoch 75/130\n",
      "3/3 [==============================] - 0s 58ms/step - loss: 8.2138e-08 - accuracy: 1.0000 - val_loss: 0.0208 - val_accuracy: 0.9890\n",
      "Epoch 76/130\n",
      "3/3 [==============================] - 0s 58ms/step - loss: 9.0162e-08 - accuracy: 1.0000 - val_loss: 0.0207 - val_accuracy: 0.9890\n",
      "Epoch 77/130\n",
      "3/3 [==============================] - 0s 62ms/step - loss: 7.4965e-08 - accuracy: 1.0000 - val_loss: 0.0212 - val_accuracy: 0.9890\n",
      "Epoch 78/130\n",
      "3/3 [==============================] - 0s 59ms/step - loss: 5.7134e-08 - accuracy: 1.0000 - val_loss: 0.0208 - val_accuracy: 0.9890\n",
      "Epoch 79/130\n",
      "3/3 [==============================] - 0s 63ms/step - loss: 5.2437e-08 - accuracy: 1.0000 - val_loss: 0.0211 - val_accuracy: 0.9890\n",
      "Epoch 80/130\n",
      "3/3 [==============================] - 0s 67ms/step - loss: 5.0795e-08 - accuracy: 1.0000 - val_loss: 0.0207 - val_accuracy: 0.9890\n",
      "Epoch 81/130\n",
      "3/3 [==============================] - 0s 58ms/step - loss: 4.2820e-08 - accuracy: 1.0000 - val_loss: 0.0200 - val_accuracy: 0.9890\n",
      "Epoch 82/130\n",
      "3/3 [==============================] - 0s 54ms/step - loss: 4.2787e-08 - accuracy: 1.0000 - val_loss: 0.0213 - val_accuracy: 0.9890\n",
      "Epoch 83/130\n",
      "3/3 [==============================] - 0s 63ms/step - loss: 3.5467e-08 - accuracy: 1.0000 - val_loss: 0.0221 - val_accuracy: 0.9890\n",
      "Epoch 84/130\n",
      "3/3 [==============================] - 0s 55ms/step - loss: 3.2127e-08 - accuracy: 1.0000 - val_loss: 0.0212 - val_accuracy: 0.9890\n",
      "Epoch 85/130\n",
      "3/3 [==============================] - 0s 56ms/step - loss: 3.0053e-08 - accuracy: 1.0000 - val_loss: 0.0215 - val_accuracy: 0.9890\n",
      "Epoch 86/130\n",
      "3/3 [==============================] - 0s 54ms/step - loss: 2.8084e-08 - accuracy: 1.0000 - val_loss: 0.0206 - val_accuracy: 0.9890\n",
      "Epoch 87/130\n",
      "3/3 [==============================] - 0s 55ms/step - loss: 2.0655e-08 - accuracy: 1.0000 - val_loss: 0.0214 - val_accuracy: 0.9890\n",
      "Epoch 88/130\n",
      "3/3 [==============================] - 0s 59ms/step - loss: 1.7996e-08 - accuracy: 1.0000 - val_loss: 0.0209 - val_accuracy: 0.9890\n",
      "Epoch 89/130\n",
      "3/3 [==============================] - 0s 58ms/step - loss: 1.9342e-08 - accuracy: 1.0000 - val_loss: 0.0210 - val_accuracy: 0.9890\n",
      "Epoch 90/130\n",
      "3/3 [==============================] - 0s 55ms/step - loss: 1.7686e-08 - accuracy: 1.0000 - val_loss: 0.0205 - val_accuracy: 0.9890\n",
      "Epoch 91/130\n",
      "3/3 [==============================] - 0s 64ms/step - loss: 1.3470e-08 - accuracy: 1.0000 - val_loss: 0.0211 - val_accuracy: 0.9890\n",
      "Epoch 92/130\n",
      "3/3 [==============================] - 0s 56ms/step - loss: 1.3931e-08 - accuracy: 1.0000 - val_loss: 0.0206 - val_accuracy: 0.9890\n",
      "Epoch 93/130\n",
      "3/3 [==============================] - 0s 57ms/step - loss: 1.2345e-08 - accuracy: 1.0000 - val_loss: 0.0210 - val_accuracy: 0.9890\n",
      "Epoch 94/130\n",
      "3/3 [==============================] - 0s 63ms/step - loss: 1.1457e-08 - accuracy: 1.0000 - val_loss: 0.0207 - val_accuracy: 0.9890\n",
      "Epoch 95/130\n",
      "3/3 [==============================] - 0s 68ms/step - loss: 9.5217e-09 - accuracy: 1.0000 - val_loss: 0.0213 - val_accuracy: 0.9890\n",
      "Epoch 96/130\n",
      "3/3 [==============================] - 0s 66ms/step - loss: 9.9618e-09 - accuracy: 1.0000 - val_loss: 0.0216 - val_accuracy: 0.9890\n",
      "Epoch 97/130\n",
      "3/3 [==============================] - 0s 66ms/step - loss: 7.3534e-09 - accuracy: 1.0000 - val_loss: 0.0220 - val_accuracy: 0.9890\n",
      "Epoch 98/130\n",
      "3/3 [==============================] - 0s 60ms/step - loss: 7.7717e-09 - accuracy: 1.0000 - val_loss: 0.0217 - val_accuracy: 0.9890\n",
      "Epoch 99/130\n",
      "3/3 [==============================] - 0s 66ms/step - loss: 5.5125e-09 - accuracy: 1.0000 - val_loss: 0.0226 - val_accuracy: 0.9890\n",
      "Epoch 100/130\n",
      "3/3 [==============================] - 0s 65ms/step - loss: 7.9789e-09 - accuracy: 1.0000 - val_loss: 0.0221 - val_accuracy: 0.9890\n",
      "Epoch 101/130\n",
      "3/3 [==============================] - 0s 66ms/step - loss: 6.0434e-09 - accuracy: 1.0000 - val_loss: 0.0222 - val_accuracy: 0.9890\n",
      "Epoch 102/130\n",
      "3/3 [==============================] - 0s 67ms/step - loss: 3.9006e-09 - accuracy: 1.0000 - val_loss: 0.0219 - val_accuracy: 0.9890\n",
      "Epoch 103/130\n",
      "3/3 [==============================] - 0s 73ms/step - loss: 5.4140e-09 - accuracy: 1.0000 - val_loss: 0.0221 - val_accuracy: 0.9890\n",
      "Epoch 104/130\n",
      "3/3 [==============================] - 0s 78ms/step - loss: 4.7155e-09 - accuracy: 1.0000 - val_loss: 0.0220 - val_accuracy: 0.9890\n",
      "Epoch 105/130\n",
      "3/3 [==============================] - 0s 61ms/step - loss: 5.4357e-09 - accuracy: 1.0000 - val_loss: 0.0220 - val_accuracy: 0.9890\n",
      "Epoch 106/130\n",
      "3/3 [==============================] - 0s 67ms/step - loss: 3.7586e-09 - accuracy: 1.0000 - val_loss: 0.0221 - val_accuracy: 0.9890\n",
      "Epoch 107/130\n",
      "3/3 [==============================] - 0s 71ms/step - loss: 3.7330e-09 - accuracy: 1.0000 - val_loss: 0.0221 - val_accuracy: 0.9890\n",
      "Epoch 108/130\n",
      "3/3 [==============================] - 0s 61ms/step - loss: 2.7070e-09 - accuracy: 1.0000 - val_loss: 0.0224 - val_accuracy: 0.9890\n",
      "Epoch 109/130\n",
      "3/3 [==============================] - 0s 59ms/step - loss: 2.1249e-09 - accuracy: 1.0000 - val_loss: 0.0224 - val_accuracy: 0.9890\n",
      "Epoch 110/130\n",
      "3/3 [==============================] - 0s 61ms/step - loss: 2.3104e-09 - accuracy: 1.0000 - val_loss: 0.0228 - val_accuracy: 0.9890\n",
      "Epoch 111/130\n",
      "3/3 [==============================] - 0s 57ms/step - loss: 2.3104e-09 - accuracy: 1.0000 - val_loss: 0.0231 - val_accuracy: 0.9890\n",
      "Epoch 112/130\n",
      "3/3 [==============================] - 0s 56ms/step - loss: 2.1940e-09 - accuracy: 1.0000 - val_loss: 0.0233 - val_accuracy: 0.9890\n",
      "Epoch 113/130\n",
      "3/3 [==============================] - 0s 56ms/step - loss: 3.1253e-09 - accuracy: 1.0000 - val_loss: 0.0235 - val_accuracy: 0.9890\n",
      "Epoch 114/130\n"
     ]
    },
    {
     "name": "stdout",
     "output_type": "stream",
     "text": [
      "3/3 [==============================] - 0s 56ms/step - loss: 1.7974e-09 - accuracy: 1.0000 - val_loss: 0.0239 - val_accuracy: 0.9890\n",
      "Epoch 115/130\n",
      "3/3 [==============================] - 0s 63ms/step - loss: 1.6337e-09 - accuracy: 1.0000 - val_loss: 0.0241 - val_accuracy: 0.9890\n",
      "Epoch 116/130\n",
      "3/3 [==============================] - 0s 55ms/step - loss: 2.0993e-09 - accuracy: 1.0000 - val_loss: 0.0242 - val_accuracy: 0.9890\n",
      "Epoch 117/130\n",
      "3/3 [==============================] - 0s 65ms/step - loss: 1.7501e-09 - accuracy: 1.0000 - val_loss: 0.0244 - val_accuracy: 0.9890\n",
      "Epoch 118/130\n",
      "3/3 [==============================] - 0s 61ms/step - loss: 1.5172e-09 - accuracy: 1.0000 - val_loss: 0.0247 - val_accuracy: 0.9890\n",
      "Epoch 119/130\n",
      "3/3 [==============================] - 0s 57ms/step - loss: 2.0993e-09 - accuracy: 1.0000 - val_loss: 0.0248 - val_accuracy: 0.9890\n",
      "Epoch 120/130\n",
      "3/3 [==============================] - 0s 56ms/step - loss: 1.1207e-09 - accuracy: 1.0000 - val_loss: 0.0248 - val_accuracy: 0.9890\n",
      "Epoch 121/130\n",
      "3/3 [==============================] - 0s 63ms/step - loss: 8.8783e-10 - accuracy: 1.0000 - val_loss: 0.0246 - val_accuracy: 0.9890\n",
      "Epoch 122/130\n",
      "3/3 [==============================] - 0s 56ms/step - loss: 1.3535e-09 - accuracy: 1.0000 - val_loss: 0.0245 - val_accuracy: 0.9890\n",
      "Epoch 123/130\n",
      "3/3 [==============================] - 0s 55ms/step - loss: 1.2371e-09 - accuracy: 1.0000 - val_loss: 0.0244 - val_accuracy: 0.9890\n",
      "Epoch 124/130\n",
      "3/3 [==============================] - 0s 60ms/step - loss: 1.1897e-09 - accuracy: 1.0000 - val_loss: 0.0242 - val_accuracy: 0.9890\n",
      "Epoch 125/130\n",
      "3/3 [==============================] - 0s 60ms/step - loss: 8.4049e-10 - accuracy: 1.0000 - val_loss: 0.0241 - val_accuracy: 0.9890\n",
      "Epoch 126/130\n",
      "3/3 [==============================] - 0s 68ms/step - loss: 9.5691e-10 - accuracy: 1.0000 - val_loss: 0.0241 - val_accuracy: 0.9890\n",
      "Epoch 127/130\n",
      "3/3 [==============================] - 0s 66ms/step - loss: 1.1897e-09 - accuracy: 1.0000 - val_loss: 0.0240 - val_accuracy: 0.9890\n",
      "Epoch 128/130\n",
      "3/3 [==============================] - 0s 66ms/step - loss: 9.5691e-10 - accuracy: 1.0000 - val_loss: 0.0239 - val_accuracy: 0.9890\n",
      "Epoch 129/130\n",
      "3/3 [==============================] - 0s 57ms/step - loss: 9.5691e-10 - accuracy: 1.0000 - val_loss: 0.0238 - val_accuracy: 0.9890\n",
      "Epoch 130/130\n",
      "3/3 [==============================] - 0s 58ms/step - loss: 8.4049e-10 - accuracy: 1.0000 - val_loss: 0.0238 - val_accuracy: 0.9890\n"
     ]
    }
   ],
   "source": [
    "history = model.fit(X_train, Y_train,\n",
    "         batch_size=128,epochs=130,\n",
    "         validation_data = (X_val, Y_val))"
   ]
  },
  {
   "cell_type": "markdown",
   "id": "9f79827b",
   "metadata": {},
   "source": [
    "# Visualizing the model"
   ]
  },
  {
   "cell_type": "code",
   "execution_count": 44,
   "id": "075d3b93",
   "metadata": {},
   "outputs": [
    {
     "name": "stdout",
     "output_type": "stream",
     "text": [
      "dict_keys(['loss', 'accuracy', 'val_loss', 'val_accuracy'])\n"
     ]
    },
    {
     "data": {
      "image/png": "[encoded data removed]",
      "text/plain": [
       "<Figure size 432x288 with 1 Axes>"
      ]
     },
     "metadata": {
      "needs_background": "light"
     },
     "output_type": "display_data"
    },
    {
     "data": {
      "image/png": "[encoded data removed]",
      "text/plain": [
       "<Figure size 432x288 with 1 Axes>"
      ]
     },
     "metadata": {
      "needs_background": "light"
     },
     "output_type": "display_data"
    }
   ],
   "source": [
    "import matplotlib.pyplot as plt\n",
    "print(history.history.keys())\n",
    "# summarize history for accuracy\n",
    "plt.plot(history.history['accuracy'])\n",
    "plt.plot(history.history['val_accuracy'])\n",
    "plt.title('model accuracy')\n",
    "plt.ylabel('accuracy')\n",
    "plt.xlabel('epoch')\n",
    "plt.legend(['train', 'test'])\n",
    "plt.show()\n",
    "\n",
    "\n",
    "# summarize history for loss\n",
    "plt.plot(history.history['loss'])\n",
    "plt.plot(history.history['val_loss'])\n",
    "plt.title('model loss')\n",
    "plt.ylabel('loss')\n",
    "plt.xlabel('epoch')\n",
    "plt.legend(['train', 'test'])\n",
    "plt.show()\n",
    "\n",
    "\n",
    "#Evaluating Model\n",
    "score  = model.predict_classes(X_test)"
   ]
  },
  {
   "cell_type": "markdown",
   "id": "b8782c21",
   "metadata": {},
   "source": [
    "# converting from categorical to normal classes data "
   ]
  },
  {
   "cell_type": "code",
   "execution_count": 29,
   "id": "ec9377c0",
   "metadata": {},
   "outputs": [],
   "source": [
    "\n",
    "def cate(Y_test):\n",
    "    Y_test_ = []\n",
    "    for i in Y_test:\n",
    "        Y_test_.append(np.argmax(i))\n",
    "        \n",
    "    return Y_test_\n",
    "\n",
    "Y_train_ = cate(Y_train)\n",
    "Y_test_ = cate(Y_test)"
   ]
  },
  {
   "cell_type": "markdown",
   "id": "b2eb3b72",
   "metadata": {},
   "source": [
    "# Accuracy Score"
   ]
  },
  {
   "cell_type": "code",
   "execution_count": 30,
   "id": "b4df5cac",
   "metadata": {},
   "outputs": [
    {
     "name": "stdout",
     "output_type": "stream",
     "text": [
      "Test Accuracy score of the data 0.9649122807017544\n",
      "Train Accuracy score of the data 1.0\n"
     ]
    }
   ],
   "source": [
    "from sklearn.metrics import accuracy_score, classification_report, confusion_matrix\n",
    "\n",
    "print(f\"Test Accuracy score of the data {accuracy_score(score, Y_test_)}\")\n",
    "print(f\"Train Accuracy score of the data {accuracy_score(model.predict_classes(X_train), Y_train_)}\")"
   ]
  },
  {
   "cell_type": "markdown",
   "id": "5aafd22d",
   "metadata": {},
   "source": [
    "# Classification report"
   ]
  },
  {
   "cell_type": "code",
   "execution_count": 31,
   "id": "6a62b727",
   "metadata": {},
   "outputs": [
    {
     "name": "stdout",
     "output_type": "stream",
     "text": [
      "********* TRAIN CLASSIFICATION REPORT ***********\n",
      " \n",
      "              precision    recall  f1-score   support\n",
      "\n",
      "           0       1.00      1.00      1.00       227\n",
      "           1       1.00      1.00      1.00       137\n",
      "\n",
      "    accuracy                           1.00       364\n",
      "   macro avg       1.00      1.00      1.00       364\n",
      "weighted avg       1.00      1.00      1.00       364\n",
      "\n",
      " \n",
      "********* TEST CLASSIFICATION REPORT ***********\n",
      " \n",
      "              precision    recall  f1-score   support\n",
      "\n",
      "           0       0.97      0.97      0.97        74\n",
      "           1       0.95      0.95      0.95        40\n",
      "\n",
      "    accuracy                           0.96       114\n",
      "   macro avg       0.96      0.96      0.96       114\n",
      "weighted avg       0.96      0.96      0.96       114\n",
      "\n"
     ]
    }
   ],
   "source": [
    "print(\"********* TRAIN CLASSIFICATION REPORT ***********\")\n",
    "print(\" \")\n",
    "print(classification_report(model.predict_classes(X_train), Y_train_))\n",
    "\n",
    "print(\" \")\n",
    "\n",
    "print(\"********* TEST CLASSIFICATION REPORT ***********\")\n",
    "print(\" \")\n",
    "print(classification_report(score, Y_test_))"
   ]
  },
  {
   "cell_type": "markdown",
   "id": "937f6c42",
   "metadata": {},
   "source": [
    "# Confusion matrix"
   ]
  },
  {
   "cell_type": "code",
   "execution_count": 32,
   "id": "62da6d52",
   "metadata": {},
   "outputs": [
    {
     "name": "stdout",
     "output_type": "stream",
     "text": [
      "Test Accuracy score of the data \n",
      " [[72  2]\n",
      " [ 2 38]]\n"
     ]
    },
    {
     "data": {
      "text/plain": [
       "<AxesSubplot:>"
      ]
     },
     "execution_count": 32,
     "metadata": {},
     "output_type": "execute_result"
    },
    {
     "data": {
      "image/png": "[encoded data removed]",
      "text/plain": [
       "<Figure size 432x288 with 2 Axes>"
      ]
     },
     "metadata": {
      "needs_background": "light"
     },
     "output_type": "display_data"
    }
   ],
   "source": [
    "print(f\"Test Accuracy score of the data \\n {confusion_matrix(score, Y_test_)}\")\n",
    "sns.heatmap(confusion_matrix(score, Y_test_), annot=True)"
   ]
  },
  {
   "cell_type": "code",
   "execution_count": 33,
   "id": "e379aa92",
   "metadata": {},
   "outputs": [
    {
     "name": "stdout",
     "output_type": "stream",
     "text": [
      "Train Accuracy score of the data \n",
      " [[227   0]\n",
      " [  0 137]]\n"
     ]
    },
    {
     "data": {
      "text/plain": [
       "<AxesSubplot:>"
      ]
     },
     "execution_count": 33,
     "metadata": {},
     "output_type": "execute_result"
    },
    {
     "data": {
      "image/png": "[encoded data removed]",
      "text/plain": [
       "<Figure size 432x288 with 2 Axes>"
      ]
     },
     "metadata": {
      "needs_background": "light"
     },
     "output_type": "display_data"
    }
   ],
   "source": [
    "print(f\"Train Accuracy score of the data \\n {confusion_matrix(model.predict_classes(X_train), Y_train_)}\")\n",
    "sns.heatmap(confusion_matrix(model.predict_classes(X_train), Y_train_), annot=True)"
   ]
  },
  {
   "cell_type": "markdown",
   "id": "8e864083",
   "metadata": {},
   "source": [
    "# Tuner "
   ]
  },
  {
   "cell_type": "code",
   "execution_count": 34,
   "id": "c313748c",
   "metadata": {},
   "outputs": [],
   "source": [
    "from tensorflow import keras\n",
    "from tensorflow.keras import layers\n",
    "from kerastuner.tuners import RandomSearch"
   ]
  },
  {
   "cell_type": "code",
   "execution_count": 35,
   "id": "882c8f09",
   "metadata": {},
   "outputs": [],
   "source": [
    "def build_model(hp):\n",
    "    model = keras.Sequential()\n",
    "    for i in range(hp.Int('num_layers', 2, 20)):\n",
    "        model.add(layers.Dense(units=hp.Int('units_' + str(i),\n",
    "                                            min_value=32,\n",
    "                                            max_value=512,\n",
    "                                            step=32),\n",
    "                               activation='relu'))\n",
    "    model.add(layers.Dense(2, activation='softmax'))\n",
    "    model.compile(\n",
    "        optimizer=keras.optimizers.Adam(\n",
    "            hp.Choice('learning_rate',\n",
    "                      values=[1e-2, 1e-3, 1e-4])),\n",
    "        loss='categorical_crossentropy',\n",
    "        metrics=['accuracy'])\n",
    "    return model"
   ]
  },
  {
   "cell_type": "code",
   "execution_count": 36,
   "id": "fe2a389e",
   "metadata": {},
   "outputs": [
    {
     "name": "stdout",
     "output_type": "stream",
     "text": [
      "INFO:tensorflow:Reloading Oracle from existing project my_dir\\helloworld\\oracle.json\n",
      "INFO:tensorflow:Reloading Tuner from my_dir\\helloworld\\tuner0.json\n"
     ]
    }
   ],
   "source": [
    "tuner = RandomSearch(\n",
    "    build_model,\n",
    "    objective='val_accuracy',\n",
    "    max_trials=50,\n",
    "    executions_per_trial=3,\n",
    "    directory='my_dir',\n",
    "    project_name='helloworld')"
   ]
  },
  {
   "cell_type": "code",
   "execution_count": 37,
   "id": "8f294d1b",
   "metadata": {},
   "outputs": [
    {
     "name": "stdout",
     "output_type": "stream",
     "text": [
      "Search space summary\n",
      "Default search space size: 16\n",
      "num_layers (Int)\n",
      "{'default': None, 'conditions': [], 'min_value': 2, 'max_value': 20, 'step': 1, 'sampling': None}\n",
      "units_0 (Int)\n",
      "{'default': None, 'conditions': [], 'min_value': 32, 'max_value': 512, 'step': 32, 'sampling': None}\n",
      "units_1 (Int)\n",
      "{'default': None, 'conditions': [], 'min_value': 32, 'max_value': 512, 'step': 32, 'sampling': None}\n",
      "learning_rate (Choice)\n",
      "{'default': 0.01, 'conditions': [], 'values': [0.01, 0.001, 0.0001], 'ordered': True}\n",
      "units_2 (Int)\n",
      "{'default': None, 'conditions': [], 'min_value': 32, 'max_value': 512, 'step': 32, 'sampling': None}\n",
      "units_3 (Int)\n",
      "{'default': None, 'conditions': [], 'min_value': 32, 'max_value': 512, 'step': 32, 'sampling': None}\n",
      "units_4 (Int)\n",
      "{'default': None, 'conditions': [], 'min_value': 32, 'max_value': 512, 'step': 32, 'sampling': None}\n",
      "units_5 (Int)\n",
      "{'default': None, 'conditions': [], 'min_value': 32, 'max_value': 512, 'step': 32, 'sampling': None}\n",
      "units_6 (Int)\n",
      "{'default': None, 'conditions': [], 'min_value': 32, 'max_value': 512, 'step': 32, 'sampling': None}\n",
      "units_7 (Int)\n",
      "{'default': None, 'conditions': [], 'min_value': 32, 'max_value': 512, 'step': 32, 'sampling': None}\n",
      "units_8 (Int)\n",
      "{'default': None, 'conditions': [], 'min_value': 32, 'max_value': 512, 'step': 32, 'sampling': None}\n",
      "units_9 (Int)\n",
      "{'default': None, 'conditions': [], 'min_value': 32, 'max_value': 512, 'step': 32, 'sampling': None}\n",
      "units_10 (Int)\n",
      "{'default': None, 'conditions': [], 'min_value': 32, 'max_value': 512, 'step': 32, 'sampling': None}\n",
      "units_11 (Int)\n",
      "{'default': None, 'conditions': [], 'min_value': 32, 'max_value': 512, 'step': 32, 'sampling': None}\n",
      "units_12 (Int)\n",
      "{'default': None, 'conditions': [], 'min_value': 32, 'max_value': 512, 'step': 32, 'sampling': None}\n",
      "units_13 (Int)\n",
      "{'default': None, 'conditions': [], 'min_value': 32, 'max_value': 512, 'step': 32, 'sampling': None}\n"
     ]
    }
   ],
   "source": [
    "tuner.search_space_summary()"
   ]
  },
  {
   "cell_type": "code",
   "execution_count": 38,
   "id": "40293169",
   "metadata": {},
   "outputs": [
    {
     "name": "stdout",
     "output_type": "stream",
     "text": [
      "Trial 45 Complete [00h 00m 05s]\n",
      "val_accuracy: 0.9890109896659851\n",
      "\n",
      "Best val_accuracy So Far: 0.9963369965553284\n",
      "Total elapsed time: 00h 07m 11s\n",
      "INFO:tensorflow:Oracle triggered exit\n"
     ]
    }
   ],
   "source": [
    "tuner.search(X_train, Y_train,\n",
    "             epochs=5,\n",
    "             validation_data=(X_val, Y_val))"
   ]
  },
  {
   "cell_type": "code",
   "execution_count": 39,
   "id": "13593ed0",
   "metadata": {},
   "outputs": [],
   "source": [
    "models = tuner.get_best_models(num_models=2)"
   ]
  },
  {
   "cell_type": "code",
   "execution_count": 40,
   "id": "4e3e7dc5",
   "metadata": {},
   "outputs": [
    {
     "name": "stdout",
     "output_type": "stream",
     "text": [
      "Results summary\n",
      "Results in my_dir\\helloworld\n",
      "Showing 10 best trials\n",
      "Objective(name='val_accuracy', direction='max')\n",
      "Trial summary\n",
      "Hyperparameters:\n",
      "num_layers: 6\n",
      "units_0: 512\n",
      "units_1: 32\n",
      "learning_rate: 0.001\n",
      "units_2: 416\n",
      "units_3: 96\n",
      "units_4: 416\n",
      "units_5: 128\n",
      "units_6: 384\n",
      "units_7: 480\n",
      "units_8: 288\n",
      "units_9: 224\n",
      "units_10: 128\n",
      "units_11: 320\n",
      "units_12: 352\n",
      "units_13: 352\n",
      "units_14: 384\n",
      "units_15: 64\n",
      "units_16: 32\n",
      "Score: 0.9963369965553284\n",
      "Trial summary\n",
      "Hyperparameters:\n",
      "num_layers: 7\n",
      "units_0: 256\n",
      "units_1: 160\n",
      "learning_rate: 0.001\n",
      "units_2: 96\n",
      "units_3: 352\n",
      "units_4: 288\n",
      "units_5: 352\n",
      "units_6: 416\n",
      "units_7: 64\n",
      "units_8: 288\n",
      "units_9: 32\n",
      "units_10: 384\n",
      "units_11: 64\n",
      "units_12: 288\n",
      "units_13: 288\n",
      "units_14: 256\n",
      "units_15: 480\n",
      "units_16: 64\n",
      "units_17: 160\n",
      "units_18: 288\n",
      "units_19: 96\n",
      "Score: 0.9963369965553284\n",
      "Trial summary\n",
      "Hyperparameters:\n",
      "num_layers: 8\n",
      "units_0: 256\n",
      "units_1: 448\n",
      "learning_rate: 0.0001\n",
      "units_2: 448\n",
      "units_3: 320\n",
      "units_4: 224\n",
      "units_5: 192\n",
      "units_6: 448\n",
      "units_7: 64\n",
      "units_8: 256\n",
      "units_9: 256\n",
      "units_10: 480\n",
      "units_11: 192\n",
      "units_12: 192\n",
      "units_13: 448\n",
      "Score: 0.9926739931106567\n",
      "Trial summary\n",
      "Hyperparameters:\n",
      "num_layers: 13\n",
      "units_0: 448\n",
      "units_1: 320\n",
      "learning_rate: 0.001\n",
      "units_2: 256\n",
      "units_3: 448\n",
      "units_4: 192\n",
      "units_5: 224\n",
      "units_6: 64\n",
      "units_7: 160\n",
      "units_8: 512\n",
      "units_9: 512\n",
      "units_10: 32\n",
      "units_11: 256\n",
      "units_12: 96\n",
      "units_13: 160\n",
      "units_14: 128\n",
      "units_15: 288\n",
      "units_16: 352\n",
      "Score: 0.9926739931106567\n",
      "Trial summary\n",
      "Hyperparameters:\n",
      "num_layers: 5\n",
      "units_0: 256\n",
      "units_1: 288\n",
      "learning_rate: 0.01\n",
      "units_2: 416\n",
      "units_3: 128\n",
      "units_4: 224\n",
      "units_5: 128\n",
      "units_6: 160\n",
      "units_7: 224\n",
      "units_8: 32\n",
      "units_9: 320\n",
      "units_10: 128\n",
      "units_11: 64\n",
      "units_12: 416\n",
      "units_13: 320\n",
      "units_14: 320\n",
      "units_15: 192\n",
      "units_16: 192\n",
      "units_17: 64\n",
      "units_18: 384\n",
      "units_19: 448\n",
      "Score: 0.9926739931106567\n",
      "Trial summary\n",
      "Hyperparameters:\n",
      "num_layers: 14\n",
      "units_0: 128\n",
      "units_1: 224\n",
      "learning_rate: 0.0001\n",
      "units_2: 64\n",
      "units_3: 416\n",
      "units_4: 64\n",
      "units_5: 448\n",
      "units_6: 160\n",
      "units_7: 384\n",
      "units_8: 224\n",
      "units_9: 64\n",
      "units_10: 160\n",
      "units_11: 192\n",
      "units_12: 160\n",
      "units_13: 480\n",
      "units_14: 480\n",
      "units_15: 320\n",
      "units_16: 384\n",
      "units_17: 416\n",
      "units_18: 416\n",
      "units_19: 480\n",
      "Score: 0.9926739931106567\n",
      "Trial summary\n",
      "Hyperparameters:\n",
      "num_layers: 5\n",
      "units_0: 480\n",
      "units_1: 320\n",
      "learning_rate: 0.01\n",
      "units_2: 256\n",
      "units_3: 64\n",
      "units_4: 64\n",
      "units_5: 32\n",
      "units_6: 128\n",
      "units_7: 416\n",
      "units_8: 512\n",
      "units_9: 192\n",
      "units_10: 224\n",
      "units_11: 448\n",
      "units_12: 480\n",
      "units_13: 416\n",
      "units_14: 320\n",
      "units_15: 32\n",
      "units_16: 320\n",
      "units_17: 384\n",
      "units_18: 256\n",
      "units_19: 256\n",
      "Score: 0.9926739931106567\n",
      "Trial summary\n",
      "Hyperparameters:\n",
      "num_layers: 5\n",
      "units_0: 224\n",
      "units_1: 416\n",
      "learning_rate: 0.001\n",
      "units_2: 224\n",
      "units_3: 96\n",
      "units_4: 192\n",
      "units_5: 64\n",
      "units_6: 32\n",
      "units_7: 512\n",
      "units_8: 192\n",
      "units_9: 320\n",
      "units_10: 128\n",
      "units_11: 224\n",
      "units_12: 128\n",
      "units_13: 480\n",
      "units_14: 448\n",
      "units_15: 224\n",
      "units_16: 384\n",
      "units_17: 32\n",
      "units_18: 192\n",
      "units_19: 160\n",
      "Score: 0.9926739931106567\n",
      "Trial summary\n",
      "Hyperparameters:\n",
      "num_layers: 16\n",
      "units_0: 224\n",
      "units_1: 320\n",
      "learning_rate: 0.001\n",
      "units_2: 512\n",
      "units_3: 480\n",
      "units_4: 32\n",
      "units_5: 352\n",
      "units_6: 416\n",
      "units_7: 288\n",
      "units_8: 192\n",
      "units_9: 160\n",
      "units_10: 448\n",
      "units_11: 288\n",
      "units_12: 288\n",
      "units_13: 160\n",
      "units_14: 480\n",
      "units_15: 96\n",
      "units_16: 320\n",
      "units_17: 416\n",
      "units_18: 192\n",
      "units_19: 448\n",
      "Score: 0.9926739931106567\n",
      "Trial summary\n",
      "Hyperparameters:\n",
      "num_layers: 6\n",
      "units_0: 320\n",
      "units_1: 128\n",
      "learning_rate: 0.01\n",
      "units_2: 352\n",
      "units_3: 320\n",
      "units_4: 384\n",
      "units_5: 128\n",
      "units_6: 384\n",
      "units_7: 384\n",
      "units_8: 128\n",
      "units_9: 64\n",
      "units_10: 416\n",
      "units_11: 160\n",
      "units_12: 256\n",
      "units_13: 96\n",
      "units_14: 416\n",
      "units_15: 384\n",
      "units_16: 288\n",
      "units_17: 416\n",
      "units_18: 160\n",
      "units_19: 288\n",
      "Score: 0.9926739931106567\n"
     ]
    }
   ],
   "source": [
    "tuner.results_summary()"
   ]
  },
  {
   "cell_type": "code",
   "execution_count": null,
   "id": "b3b182e4",
   "metadata": {},
   "outputs": [],
   "source": []
  },
  {
   "cell_type": "code",
   "execution_count": null,
   "id": "9a1f41ff",
   "metadata": {},
   "outputs": [],
   "source": []
  },
  {
   "cell_type": "code",
   "execution_count": null,
   "id": "3b01f9c0",
   "metadata": {},
   "outputs": [],
   "source": []
  }
 ],
 "metadata": {
  "kernelspec": {
   "display_name": "Python 3",
   "language": "python",
   "name": "python3"
  },
  "language_info": {
   "codemirror_mode": {
    "name": "ipython",
    "version": 3
   },
   "file_extension": ".py",
   "mimetype": "text/x-python",
   "name": "python",
   "nbconvert_exporter": "python",
   "pygments_lexer": "ipython3",
   "version": "3.7.10"
  }
 },
 "nbformat": 4,
 "nbformat_minor": 5
}
