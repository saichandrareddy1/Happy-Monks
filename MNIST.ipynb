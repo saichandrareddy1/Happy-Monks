{
 "cells": [
  {
   "cell_type": "markdown",
   "id": "e9048ac6",
   "metadata": {},
   "source": [
    "# CNN"
   ]
  },
  {
   "cell_type": "code",
   "execution_count": 1,
   "id": "b116b1e6",
   "metadata": {},
   "outputs": [],
   "source": [
    "import numpy as np\n",
    "from tensorflow import keras\n",
    "from tensorflow.keras import layers"
   ]
  },
  {
   "cell_type": "code",
   "execution_count": 20,
   "id": "31450338",
   "metadata": {},
   "outputs": [
    {
     "name": "stdout",
     "output_type": "stream",
     "text": [
      "x_train shape: (60000, 28, 28, 1)\n",
      "60000 train samples\n",
      "10000 test samples\n",
      "[5 0 4 ... 5 6 8]\n",
      "[[1. 0. 0. 0. 0. 0. 0. 0. 0. 0.]\n",
      " [0. 0. 0. 0. 1. 0. 0. 0. 0. 0.]\n",
      " [0. 1. 0. 0. 0. 0. 0. 0. 0. 0.]\n",
      " [0. 0. 0. 0. 0. 0. 0. 0. 0. 1.]]\n"
     ]
    }
   ],
   "source": [
    "# Model / data parameters\n",
    "num_classes = 10\n",
    "#              w    h   c\n",
    "input_shape = (28, 28, 1)\n",
    "\n",
    "# the data, split between train and test sets\n",
    "(x_train, y_train), (x_test, y_test) = keras.datasets.mnist.load_data()\n",
    "\n",
    "# Scale images to the [0, 1] range\n",
    "x_train = x_train.astype(\"float32\") / 255\n",
    "x_test = x_test.astype(\"float32\") / 255\n",
    "# Make sure images have shape (28, 28, 1)\n",
    "x_train = np.expand_dims(x_train, -1)\n",
    "x_test = np.expand_dims(x_test, -1)\n",
    "print(\"x_train shape:\", x_train.shape)\n",
    "print(x_train.shape[0], \"train samples\")\n",
    "print(x_test.shape[0], \"test samples\")\n",
    "\n",
    "print(y_train)\n",
    "\n",
    "# convert class vectors to binary class matrices\n",
    "y_train = keras.utils.to_categorical(y_train, num_classes)\n",
    "y_test = keras.utils.to_categorical(y_test, num_classes)\n",
    "\n",
    "print(y_train[1:5])"
   ]
  },
  {
   "cell_type": "markdown",
   "id": "ccf8861e",
   "metadata": {},
   "source": [
    "# Model"
   ]
  },
  {
   "cell_type": "code",
   "execution_count": 3,
   "id": "3947480d",
   "metadata": {},
   "outputs": [
    {
     "name": "stdout",
     "output_type": "stream",
     "text": [
      "Model: \"sequential\"\n",
      "_________________________________________________________________\n",
      "Layer (type)                 Output Shape              Param #   \n",
      "=================================================================\n",
      "conv2d (Conv2D)              (None, 26, 26, 32)        320       \n",
      "_________________________________________________________________\n",
      "max_pooling2d (MaxPooling2D) (None, 13, 13, 32)        0         \n",
      "_________________________________________________________________\n",
      "conv2d_1 (Conv2D)            (None, 11, 11, 64)        18496     \n",
      "_________________________________________________________________\n",
      "max_pooling2d_1 (MaxPooling2 (None, 5, 5, 64)          0         \n",
      "_________________________________________________________________\n",
      "flatten (Flatten)            (None, 1600)              0         \n",
      "_________________________________________________________________\n",
      "dropout (Dropout)            (None, 1600)              0         \n",
      "_________________________________________________________________\n",
      "dense (Dense)                (None, 10)                16010     \n",
      "=================================================================\n",
      "Total params: 34,826\n",
      "Trainable params: 34,826\n",
      "Non-trainable params: 0\n",
      "_________________________________________________________________\n"
     ]
    }
   ],
   "source": [
    "model = keras.Sequential(\n",
    "    [\n",
    "        keras.Input(shape=input_shape),\n",
    "        layers.Conv2D(32, kernel_size=(3, 3), activation=\"relu\"),\n",
    "        layers.MaxPooling2D(pool_size=(2, 2)),\n",
    "        layers.Conv2D(64, kernel_size=(3, 3), activation=\"relu\"),\n",
    "        layers.MaxPooling2D(pool_size=(2, 2)),\n",
    "        layers.Flatten(),\n",
    "        layers.Dropout(0.5),\n",
    "        layers.Dense(num_classes, activation=\"softmax\"),\n",
    "    ]\n",
    ")\n",
    "\n",
    "model.summary()\n"
   ]
  },
  {
   "cell_type": "markdown",
   "id": "ad1924db",
   "metadata": {},
   "source": [
    "# Training the model"
   ]
  },
  {
   "cell_type": "code",
   "execution_count": 4,
   "id": "3719734a",
   "metadata": {},
   "outputs": [
    {
     "name": "stdout",
     "output_type": "stream",
     "text": [
      "Epoch 1/15\n",
      "422/422 [==============================] - 48s 111ms/step - loss: 0.7357 - accuracy: 0.7731 - precision: 0.8911 - recall: 0.6495 - val_loss: 0.0812 - val_accuracy: 0.9783 - val_precision: 0.9825 - val_recall: 0.9733\n",
      "Epoch 2/15\n",
      "422/422 [==============================] - 44s 104ms/step - loss: 0.1210 - accuracy: 0.9626 - precision: 0.9696 - recall: 0.9574 - val_loss: 0.0552 - val_accuracy: 0.9853 - val_precision: 0.9883 - val_recall: 0.9825\n",
      "Epoch 3/15\n",
      "422/422 [==============================] - 44s 105ms/step - loss: 0.0876 - accuracy: 0.9725 - precision: 0.9765 - recall: 0.9691 - val_loss: 0.0460 - val_accuracy: 0.9883 - val_precision: 0.9905 - val_recall: 0.98620.0877 - accuracy: 0.9724 - precision: 0.9765 - recall: 0.96 - ETA: 6s -\n",
      "Epoch 4/15\n",
      "422/422 [==============================] - 45s 106ms/step - loss: 0.0720 - accuracy: 0.9774 - precision: 0.9805 - recall: 0.9745 - val_loss: 0.0449 - val_accuracy: 0.9882 - val_precision: 0.9905 - val_recall: 0.9868\n",
      "Epoch 5/15\n",
      "422/422 [==============================] - 44s 104ms/step - loss: 0.0620 - accuracy: 0.9807 - precision: 0.9831 - recall: 0.9784 - val_loss: 0.0368 - val_accuracy: 0.9897 - val_precision: 0.9911 - val_recall: 0.9890r - ETA: 6s - loss: 0.0620 - accuracy: 0.9807 - precision: 0.9831 - recall: 0.9 - ETA: 5s - loss: 0.\n",
      "Epoch 6/15\n",
      "422/422 [==============================] - 43s 103ms/step - loss: 0.0578 - accuracy: 0.9822 - precision: 0.9850 - recall: 0.9808 - val_loss: 0.0387 - val_accuracy: 0.9893 - val_precision: 0.9905 - val_recall: 0.9890\n",
      "Epoch 7/15\n",
      "422/422 [==============================] - 43s 103ms/step - loss: 0.0525 - accuracy: 0.9835 - precision: 0.9854 - recall: 0.9820 - val_loss: 0.0344 - val_accuracy: 0.9912 - val_precision: 0.9931 - val_recall: 0.9907\n",
      "Epoch 8/15\n",
      "422/422 [==============================] - 43s 103ms/step - loss: 0.0462 - accuracy: 0.9856 - precision: 0.9873 - recall: 0.9839 - val_loss: 0.0330 - val_accuracy: 0.9915 - val_precision: 0.9932 - val_recall: 0.9912\n",
      "Epoch 9/15\n",
      "422/422 [==============================] - 43s 103ms/step - loss: 0.0448 - accuracy: 0.9849 - precision: 0.9866 - recall: 0.9838 - val_loss: 0.0317 - val_accuracy: 0.9918 - val_precision: 0.9932 - val_recall: 0.9910\n",
      "Epoch 10/15\n",
      "422/422 [==============================] - 44s 104ms/step - loss: 0.0424 - accuracy: 0.9863 - precision: 0.9877 - recall: 0.9851 - val_loss: 0.0301 - val_accuracy: 0.9925 - val_precision: 0.9937 - val_recall: 0.9920\n",
      "Epoch 11/15\n",
      "422/422 [==============================] - 43s 103ms/step - loss: 0.0393 - accuracy: 0.9877 - precision: 0.9888 - recall: 0.9868 - val_loss: 0.0298 - val_accuracy: 0.9908 - val_precision: 0.9918 - val_recall: 0.9907\n",
      "Epoch 12/15\n",
      "422/422 [==============================] - 43s 102ms/step - loss: 0.0373 - accuracy: 0.9877 - precision: 0.9888 - recall: 0.9867 - val_loss: 0.0286 - val_accuracy: 0.9918 - val_precision: 0.9931 - val_recall: 0.9907 - ETA: 5s - loss: 0.0373 - accuracy: 0.9876 - precision: 0.9887 - reca - ETA: 4s - loss: 0.0373 - accuracy: 0.9876 - precision: 0.9887 - rec - ETA: 3s - loss: 0.0373 - accuracy: 0.98\n",
      "Epoch 13/15\n",
      "422/422 [==============================] - 43s 103ms/step - loss: 0.0368 - accuracy: 0.9879 - precision: 0.9889 - recall: 0.9870 - val_loss: 0.0292 - val_accuracy: 0.9920 - val_precision: 0.9930 - val_recall: 0.9910ecision: 0.9889 - recall:\n",
      "Epoch 14/15\n",
      "422/422 [==============================] - 44s 103ms/step - loss: 0.0337 - accuracy: 0.9894 - precision: 0.9904 - recall: 0.9885 - val_loss: 0.0333 - val_accuracy: 0.9912 - val_precision: 0.9917 - val_recall: 0.9908\n",
      "Epoch 15/15\n",
      "422/422 [==============================] - 43s 103ms/step - loss: 0.0344 - accuracy: 0.9896 - precision: 0.9905 - recall: 0.9887 - val_loss: 0.0287 - val_accuracy: 0.9920 - val_precision: 0.9925 - val_recall: 0.9912 precision: 0.9905 -  - ETA: 0s - loss: 0.0344 - accuracy: 0.9896 - precision: 0.9905 - recall: 0.\n"
     ]
    }
   ],
   "source": [
    "batch_size = 128\n",
    "epochs = 15\n",
    "\n",
    "model.compile(loss=\"categorical_crossentropy\", optimizer=\"adam\", metrics=[\"accuracy\", \n",
    "                                                                          keras.metrics.Precision(), \n",
    "                                                                          keras.metrics.Recall()])\n",
    "\n",
    "history = model.fit(x_train, y_train, batch_size=batch_size, epochs=epochs, validation_split=0.1)"
   ]
  },
  {
   "cell_type": "markdown",
   "id": "78d3945f",
   "metadata": {},
   "source": [
    "# Visualizing the model metrics"
   ]
  },
  {
   "cell_type": "code",
   "execution_count": 5,
   "id": "20e849fd",
   "metadata": {},
   "outputs": [
    {
     "name": "stdout",
     "output_type": "stream",
     "text": [
      "dict_keys(['loss', 'accuracy', 'precision', 'recall', 'val_loss', 'val_accuracy', 'val_precision', 'val_recall'])\n"
     ]
    },
    {
     "data": {
      "image/png": "[encoded data removed]",
      "text/plain": [
       "<Figure size 432x288 with 1 Axes>"
      ]
     },
     "metadata": {
      "needs_background": "light"
     },
     "output_type": "display_data"
    },
    {
     "data": {
      "image/png": "[encoded data removed]",
      "text/plain": [
       "<Figure size 432x288 with 1 Axes>"
      ]
     },
     "metadata": {
      "needs_background": "light"
     },
     "output_type": "display_data"
    },
    {
     "data": {
      "image/png": "[encoded data removed]",
      "text/plain": [
       "<Figure size 432x288 with 1 Axes>"
      ]
     },
     "metadata": {
      "needs_background": "light"
     },
     "output_type": "display_data"
    },
    {
     "data": {
      "image/png": "[encoded data removed]",
      "text/plain": [
       "<Figure size 432x288 with 1 Axes>"
      ]
     },
     "metadata": {
      "needs_background": "light"
     },
     "output_type": "display_data"
    },
    {
     "name": "stderr",
     "output_type": "stream",
     "text": [
      "C:\\Users\\lenovo\\anaconda3\\envs\\Assign\\lib\\site-packages\\tensorflow\\python\\keras\\engine\\sequential.py:450: UserWarning: `model.predict_classes()` is deprecated and will be removed after 2021-01-01. Please use instead:* `np.argmax(model.predict(x), axis=-1)`,   if your model does multi-class classification   (e.g. if it uses a `softmax` last-layer activation).* `(model.predict(x) > 0.5).astype(\"int32\")`,   if your model does binary classification   (e.g. if it uses a `sigmoid` last-layer activation).\n",
      "  warnings.warn('`model.predict_classes()` is deprecated and '\n"
     ]
    }
   ],
   "source": [
    "import matplotlib.pyplot as plt\n",
    "print(history.history.keys())\n",
    "# summarize history for accuracy\n",
    "plt.plot(history.history['accuracy'])\n",
    "plt.plot(history.history['val_accuracy'])\n",
    "plt.title('model accuracy')\n",
    "plt.ylabel('accuracy')\n",
    "plt.xlabel('epoch')\n",
    "plt.legend(['train', 'test'])\n",
    "plt.show()\n",
    "\n",
    "\n",
    "# summarize history for loss\n",
    "plt.plot(history.history['loss'])\n",
    "plt.plot(history.history['val_loss'])\n",
    "plt.title('model loss')\n",
    "plt.ylabel('loss')\n",
    "plt.xlabel('epoch')\n",
    "plt.legend(['train', 'test'])\n",
    "plt.show()\n",
    "\n",
    "plt.plot(history.history['precision'])\n",
    "plt.plot(history.history['val_precision'])\n",
    "plt.title('model precision')\n",
    "plt.ylabel('precision')\n",
    "plt.xlabel('epoch')\n",
    "plt.legend(['train', 'test'])\n",
    "plt.show()\n",
    "\n",
    "plt.plot(history.history['recall'])\n",
    "plt.plot(history.history['val_recall'])\n",
    "plt.title('model recall')\n",
    "plt.ylabel('recall')\n",
    "plt.xlabel('epoch')\n",
    "plt.legend(['train', 'test'])\n",
    "plt.show()\n",
    "\n",
    "\n",
    "#Evaluating Model\n",
    "score  = model.predict_classes(x_test)\n",
    " "
   ]
  },
  {
   "cell_type": "markdown",
   "id": "a9937363",
   "metadata": {},
   "source": [
    "# Test Accuracy on the model"
   ]
  },
  {
   "cell_type": "code",
   "execution_count": 6,
   "id": "6c8bb70a",
   "metadata": {},
   "outputs": [
    {
     "name": "stdout",
     "output_type": "stream",
     "text": [
      "Test loss: 0.024336516857147217\n",
      "Test accuracy: 0.9927999973297119\n"
     ]
    }
   ],
   "source": [
    "score = model.evaluate(x_test, y_test, verbose=0)\n",
    "print(\"Test loss:\", score[0])\n",
    "print(\"Test accuracy:\", score[1])"
   ]
  },
  {
   "cell_type": "markdown",
   "id": "f5ce0df7",
   "metadata": {},
   "source": [
    "# SVM"
   ]
  },
  {
   "cell_type": "code",
   "execution_count": 24,
   "id": "fa71171a",
   "metadata": {},
   "outputs": [
    {
     "data": {
      "text/plain": [
       "<matplotlib.image.AxesImage at 0x1eb0ad01908>"
      ]
     },
     "execution_count": 24,
     "metadata": {},
     "output_type": "execute_result"
    },
    {
     "data": {
      "image/png": "[encoded data removed]",
      "text/plain": [
       "<Figure size 432x288 with 1 Axes>"
      ]
     },
     "metadata": {
      "needs_background": "light"
     },
     "output_type": "display_data"
    }
   ],
   "source": [
    "import matplotlib.pyplot as plt\n",
    "\n",
    "\n",
    "plt.imshow(x_train[1])"
   ]
  },
  {
   "cell_type": "markdown",
   "id": "70e3c778",
   "metadata": {},
   "source": [
    "## Flattening the data "
   ]
  },
  {
   "cell_type": "code",
   "execution_count": 8,
   "id": "ae1b69f6",
   "metadata": {},
   "outputs": [],
   "source": [
    "\n",
    "def flat(data):\n",
    "    data_ = []\n",
    "\n",
    "    for i in range(len(data)):\n",
    "        data_.append(data[i].flatten())\n",
    "        \n",
    "    return data_\n"
   ]
  },
  {
   "cell_type": "markdown",
   "id": "492f22ec",
   "metadata": {},
   "source": [
    "### calling the functions"
   ]
  },
  {
   "cell_type": "code",
   "execution_count": 9,
   "id": "6e461123",
   "metadata": {},
   "outputs": [],
   "source": [
    "x_test_ = flat(x_test)\n",
    "x_train_ = flat(x_train)"
   ]
  },
  {
   "cell_type": "code",
   "execution_count": 27,
   "id": "9ed84032",
   "metadata": {},
   "outputs": [],
   "source": [
    "# y = np.array([0, 0, 0, 0, 0, 0, 1])\n",
    "# np.argmax(y)"
   ]
  },
  {
   "cell_type": "markdown",
   "id": "a10d3d07",
   "metadata": {},
   "source": [
    "# Creating the classes from categorical data"
   ]
  },
  {
   "cell_type": "code",
   "execution_count": 10,
   "id": "2318c27e",
   "metadata": {},
   "outputs": [],
   "source": [
    "def test_max(data):\n",
    "    \n",
    "    test_c = []\n",
    "        \n",
    "    for i in range(len(data)):\n",
    "        \n",
    "        test_c.append(np.argmax(data[i]))\n",
    "        \n",
    "    return test_c\n",
    "\n",
    "    "
   ]
  },
  {
   "cell_type": "code",
   "execution_count": 11,
   "id": "79011e32",
   "metadata": {},
   "outputs": [],
   "source": [
    "y_test_ = test_max(y_test)\n",
    "y_train_ = test_max(y_train)"
   ]
  },
  {
   "cell_type": "markdown",
   "id": "d173db0a",
   "metadata": {},
   "source": [
    "# Splitting the data"
   ]
  },
  {
   "cell_type": "code",
   "execution_count": 12,
   "id": "559e7f53",
   "metadata": {},
   "outputs": [],
   "source": [
    "from sklearn.model_selection import train_test_split\n",
    "X_train, X_val, Y_train, Y_val = train_test_split(x_train_, y_train_, test_size=0.2, random_state=13)"
   ]
  },
  {
   "cell_type": "markdown",
   "id": "11a5bfb6",
   "metadata": {},
   "source": [
    "# SVC (support vector classifier)"
   ]
  },
  {
   "cell_type": "code",
   "execution_count": 13,
   "id": "be7a925c",
   "metadata": {},
   "outputs": [],
   "source": [
    "from sklearn.svm import SVC\n",
    "\n",
    "svc = SVC().fit(x_train_, y_train_)"
   ]
  },
  {
   "cell_type": "code",
   "execution_count": 14,
   "id": "dc65f18e",
   "metadata": {},
   "outputs": [],
   "source": [
    "y_pred_ = svc.predict(x_test_)"
   ]
  },
  {
   "cell_type": "code",
   "execution_count": 15,
   "id": "321b37c0",
   "metadata": {},
   "outputs": [],
   "source": [
    "y_train_pred = svc.predict(x_train_)"
   ]
  },
  {
   "cell_type": "markdown",
   "id": "a0c3a1f4",
   "metadata": {},
   "source": [
    "# Calculating the metrics"
   ]
  },
  {
   "cell_type": "code",
   "execution_count": 16,
   "id": "0847d3dc",
   "metadata": {},
   "outputs": [
    {
     "name": "stdout",
     "output_type": "stream",
     "text": [
      "Test Accuracy score of the data 0.9792\n",
      "Train Accuracy score of the data 0.9899166666666667\n"
     ]
    }
   ],
   "source": [
    "from sklearn.metrics import accuracy_score, classification_report, confusion_matrix\n",
    "\n",
    "print(f\"Test Accuracy score of the data {accuracy_score(y_pred_, y_test_)}\")\n",
    "print(f\"Train Accuracy score of the data {accuracy_score(y_train_pred, y_train_)}\")"
   ]
  },
  {
   "cell_type": "markdown",
   "id": "f0f4f71e",
   "metadata": {},
   "source": [
    "# Classification report "
   ]
  },
  {
   "cell_type": "code",
   "execution_count": 17,
   "id": "b8b96c46",
   "metadata": {},
   "outputs": [
    {
     "name": "stdout",
     "output_type": "stream",
     "text": [
      "********* TRAIN CLASSIFICATION REPORT ***********\n",
      " \n",
      "              precision    recall  f1-score   support\n",
      "\n",
      "           0       1.00      0.99      1.00      5937\n",
      "           1       0.99      0.99      0.99      6767\n",
      "           2       0.99      0.99      0.99      5982\n",
      "           3       0.98      0.99      0.99      6080\n",
      "           4       0.99      0.99      0.99      5868\n",
      "           5       0.99      0.99      0.99      5407\n",
      "           6       1.00      0.99      1.00      5926\n",
      "           7       0.99      0.99      0.99      6260\n",
      "           8       0.99      0.99      0.99      5841\n",
      "           9       0.98      0.98      0.98      5932\n",
      "\n",
      "    accuracy                           0.99     60000\n",
      "   macro avg       0.99      0.99      0.99     60000\n",
      "weighted avg       0.99      0.99      0.99     60000\n",
      "\n",
      " \n",
      "********* TEST CLASSIFICATION REPORT ***********\n",
      " \n",
      "              precision    recall  f1-score   support\n",
      "\n",
      "           0       0.99      0.98      0.99       993\n",
      "           1       0.99      0.99      0.99      1139\n",
      "           2       0.97      0.98      0.98      1031\n",
      "           3       0.99      0.97      0.98      1021\n",
      "           4       0.98      0.98      0.98       978\n",
      "           5       0.98      0.99      0.98       883\n",
      "           6       0.99      0.99      0.99       958\n",
      "           7       0.97      0.98      0.97      1021\n",
      "           8       0.98      0.97      0.97       978\n",
      "           9       0.96      0.97      0.97       998\n",
      "\n",
      "    accuracy                           0.98     10000\n",
      "   macro avg       0.98      0.98      0.98     10000\n",
      "weighted avg       0.98      0.98      0.98     10000\n",
      "\n"
     ]
    }
   ],
   "source": [
    "print(\"********* TRAIN CLASSIFICATION REPORT ***********\")\n",
    "print(\" \")\n",
    "print(classification_report(y_train_pred, y_train_))\n",
    "\n",
    "print(\" \")\n",
    "\n",
    "print(\"********* TEST CLASSIFICATION REPORT ***********\")\n",
    "print(\" \")\n",
    "print(classification_report(y_pred_, y_test_))"
   ]
  }
 ],
 "metadata": {
  "kernelspec": {
   "display_name": "Python 3",
   "language": "python",
   "name": "python3"
  },
  "language_info": {
   "codemirror_mode": {
    "name": "ipython",
    "version": 3
   },
   "file_extension": ".py",
   "mimetype": "text/x-python",
   "name": "python",
   "nbconvert_exporter": "python",
   "pygments_lexer": "ipython3",
   "version": "3.7.10"
  }
 },
 "nbformat": 4,
 "nbformat_minor": 5
}
